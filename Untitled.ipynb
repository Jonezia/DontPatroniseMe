{
 "cells": [
  {
   "cell_type": "code",
   "execution_count": 1,
   "id": "78b485e7-3012-413f-90fb-878af0fb9c29",
   "metadata": {},
   "outputs": [
    {
     "name": "stdout",
     "output_type": "stream",
     "text": [
      "Looking in indexes: https://pypi.org/simple, https://pypi.ngc.nvidia.com\n",
      "Requirement already satisfied: pandas in ./venv/lib/python3.10/site-packages (2.2.1)\n",
      "Requirement already satisfied: python-dateutil>=2.8.2 in ./venv/lib/python3.10/site-packages (from pandas) (2.8.2)\n",
      "Requirement already satisfied: pytz>=2020.1 in ./venv/lib/python3.10/site-packages (from pandas) (2024.1)\n",
      "Requirement already satisfied: numpy<2,>=1.22.4 in ./venv/lib/python3.10/site-packages (from pandas) (1.26.4)\n",
      "Requirement already satisfied: tzdata>=2022.7 in ./venv/lib/python3.10/site-packages (from pandas) (2024.1)\n",
      "Requirement already satisfied: six>=1.5 in ./venv/lib/python3.10/site-packages (from python-dateutil>=2.8.2->pandas) (1.16.0)\n",
      "Looking in indexes: https://pypi.org/simple, https://pypi.ngc.nvidia.com\n",
      "Requirement already satisfied: matplotlib in ./venv/lib/python3.10/site-packages (3.8.3)\n",
      "Requirement already satisfied: pillow>=8 in ./venv/lib/python3.10/site-packages (from matplotlib) (10.2.0)\n",
      "Requirement already satisfied: contourpy>=1.0.1 in ./venv/lib/python3.10/site-packages (from matplotlib) (1.2.0)\n",
      "Requirement already satisfied: python-dateutil>=2.7 in ./venv/lib/python3.10/site-packages (from matplotlib) (2.8.2)\n",
      "Requirement already satisfied: kiwisolver>=1.3.1 in ./venv/lib/python3.10/site-packages (from matplotlib) (1.4.5)\n",
      "Requirement already satisfied: fonttools>=4.22.0 in ./venv/lib/python3.10/site-packages (from matplotlib) (4.49.0)\n",
      "Requirement already satisfied: pyparsing>=2.3.1 in ./venv/lib/python3.10/site-packages (from matplotlib) (3.1.1)\n",
      "Requirement already satisfied: packaging>=20.0 in ./venv/lib/python3.10/site-packages (from matplotlib) (23.2)\n",
      "Requirement already satisfied: cycler>=0.10 in ./venv/lib/python3.10/site-packages (from matplotlib) (0.12.1)\n",
      "Requirement already satisfied: numpy<2,>=1.21 in ./venv/lib/python3.10/site-packages (from matplotlib) (1.26.4)\n",
      "Requirement already satisfied: six>=1.5 in ./venv/lib/python3.10/site-packages (from python-dateutil>=2.7->matplotlib) (1.16.0)\n",
      "Looking in indexes: https://pypi.org/simple, https://pypi.ngc.nvidia.com\n",
      "Requirement already satisfied: seaborn in ./venv/lib/python3.10/site-packages (0.13.2)\n",
      "Requirement already satisfied: numpy!=1.24.0,>=1.20 in ./venv/lib/python3.10/site-packages (from seaborn) (1.26.4)\n",
      "Requirement already satisfied: pandas>=1.2 in ./venv/lib/python3.10/site-packages (from seaborn) (2.2.1)\n",
      "Requirement already satisfied: matplotlib!=3.6.1,>=3.4 in ./venv/lib/python3.10/site-packages (from seaborn) (3.8.3)\n",
      "Requirement already satisfied: packaging>=20.0 in ./venv/lib/python3.10/site-packages (from matplotlib!=3.6.1,>=3.4->seaborn) (23.2)\n",
      "Requirement already satisfied: python-dateutil>=2.7 in ./venv/lib/python3.10/site-packages (from matplotlib!=3.6.1,>=3.4->seaborn) (2.8.2)\n",
      "Requirement already satisfied: fonttools>=4.22.0 in ./venv/lib/python3.10/site-packages (from matplotlib!=3.6.1,>=3.4->seaborn) (4.49.0)\n",
      "Requirement already satisfied: pyparsing>=2.3.1 in ./venv/lib/python3.10/site-packages (from matplotlib!=3.6.1,>=3.4->seaborn) (3.1.1)\n",
      "Requirement already satisfied: pillow>=8 in ./venv/lib/python3.10/site-packages (from matplotlib!=3.6.1,>=3.4->seaborn) (10.2.0)\n",
      "Requirement already satisfied: cycler>=0.10 in ./venv/lib/python3.10/site-packages (from matplotlib!=3.6.1,>=3.4->seaborn) (0.12.1)\n",
      "Requirement already satisfied: kiwisolver>=1.3.1 in ./venv/lib/python3.10/site-packages (from matplotlib!=3.6.1,>=3.4->seaborn) (1.4.5)\n",
      "Requirement already satisfied: contourpy>=1.0.1 in ./venv/lib/python3.10/site-packages (from matplotlib!=3.6.1,>=3.4->seaborn) (1.2.0)\n",
      "Requirement already satisfied: tzdata>=2022.7 in ./venv/lib/python3.10/site-packages (from pandas>=1.2->seaborn) (2024.1)\n",
      "Requirement already satisfied: pytz>=2020.1 in ./venv/lib/python3.10/site-packages (from pandas>=1.2->seaborn) (2024.1)\n",
      "Requirement already satisfied: six>=1.5 in ./venv/lib/python3.10/site-packages (from python-dateutil>=2.7->matplotlib!=3.6.1,>=3.4->seaborn) (1.16.0)\n",
      "Looking in indexes: https://pypi.org/simple, https://pypi.ngc.nvidia.com\n",
      "Requirement already satisfied: nltk in ./venv/lib/python3.10/site-packages (3.8.1)\n",
      "Requirement already satisfied: click in ./venv/lib/python3.10/site-packages (from nltk) (8.1.7)\n",
      "Requirement already satisfied: regex>=2021.8.3 in ./venv/lib/python3.10/site-packages (from nltk) (2023.12.25)\n",
      "Requirement already satisfied: joblib in ./venv/lib/python3.10/site-packages (from nltk) (1.3.2)\n",
      "Requirement already satisfied: tqdm in ./venv/lib/python3.10/site-packages (from nltk) (4.66.2)\n",
      "Looking in indexes: https://pypi.org/simple, https://pypi.ngc.nvidia.com\n",
      "Requirement already satisfied: simpletransformers in ./venv/lib/python3.10/site-packages (0.70.0)\n",
      "Requirement already satisfied: seqeval in ./venv/lib/python3.10/site-packages (from simpletransformers) (1.2.2)\n",
      "Requirement already satisfied: datasets in ./venv/lib/python3.10/site-packages (from simpletransformers) (2.17.1)\n",
      "Requirement already satisfied: tokenizers in ./venv/lib/python3.10/site-packages (from simpletransformers) (0.15.2)\n",
      "Requirement already satisfied: wandb>=0.10.32 in ./venv/lib/python3.10/site-packages (from simpletransformers) (0.16.3)\n",
      "Requirement already satisfied: transformers>=4.31.0 in ./venv/lib/python3.10/site-packages (from simpletransformers) (4.38.1)\n",
      "Requirement already satisfied: streamlit in ./venv/lib/python3.10/site-packages (from simpletransformers) (1.31.1)\n",
      "Requirement already satisfied: regex in ./venv/lib/python3.10/site-packages (from simpletransformers) (2023.12.25)\n",
      "Requirement already satisfied: tensorboardx in ./venv/lib/python3.10/site-packages (from simpletransformers) (2.6.2.2)\n",
      "Requirement already satisfied: pandas in ./venv/lib/python3.10/site-packages (from simpletransformers) (2.2.1)\n",
      "Requirement already satisfied: scikit-learn in ./venv/lib/python3.10/site-packages (from simpletransformers) (1.4.1.post1)\n",
      "Requirement already satisfied: scipy in ./venv/lib/python3.10/site-packages (from simpletransformers) (1.12.0)\n",
      "Requirement already satisfied: tqdm>=4.47.0 in ./venv/lib/python3.10/site-packages (from simpletransformers) (4.66.2)\n",
      "Requirement already satisfied: numpy in ./venv/lib/python3.10/site-packages (from simpletransformers) (1.26.4)\n",
      "Requirement already satisfied: tensorboard in ./venv/lib/python3.10/site-packages (from simpletransformers) (2.16.2)\n",
      "Requirement already satisfied: requests in ./venv/lib/python3.10/site-packages (from simpletransformers) (2.31.0)\n",
      "Requirement already satisfied: sentencepiece in ./venv/lib/python3.10/site-packages (from simpletransformers) (0.2.0)\n",
      "Requirement already satisfied: safetensors>=0.4.1 in ./venv/lib/python3.10/site-packages (from transformers>=4.31.0->simpletransformers) (0.4.2)\n",
      "Requirement already satisfied: huggingface-hub<1.0,>=0.19.3 in ./venv/lib/python3.10/site-packages (from transformers>=4.31.0->simpletransformers) (0.21.3)\n",
      "Requirement already satisfied: packaging>=20.0 in ./venv/lib/python3.10/site-packages (from transformers>=4.31.0->simpletransformers) (23.2)\n",
      "Requirement already satisfied: filelock in ./venv/lib/python3.10/site-packages (from transformers>=4.31.0->simpletransformers) (3.13.1)\n",
      "Requirement already satisfied: pyyaml>=5.1 in ./venv/lib/python3.10/site-packages (from transformers>=4.31.0->simpletransformers) (6.0.1)\n",
      "Requirement already satisfied: sentry-sdk>=1.0.0 in ./venv/lib/python3.10/site-packages (from wandb>=0.10.32->simpletransformers) (1.40.6)\n",
      "Requirement already satisfied: setproctitle in ./venv/lib/python3.10/site-packages (from wandb>=0.10.32->simpletransformers) (1.3.3)\n",
      "Requirement already satisfied: Click!=8.0.0,>=7.1 in ./venv/lib/python3.10/site-packages (from wandb>=0.10.32->simpletransformers) (8.1.7)\n",
      "Requirement already satisfied: docker-pycreds>=0.4.0 in ./venv/lib/python3.10/site-packages (from wandb>=0.10.32->simpletransformers) (0.4.0)\n",
      "Requirement already satisfied: appdirs>=1.4.3 in ./venv/lib/python3.10/site-packages (from wandb>=0.10.32->simpletransformers) (1.4.4)\n",
      "Requirement already satisfied: protobuf!=4.21.0,<5,>=3.19.0 in ./venv/lib/python3.10/site-packages (from wandb>=0.10.32->simpletransformers) (4.25.3)\n",
      "Requirement already satisfied: setuptools in ./venv/lib/python3.10/site-packages (from wandb>=0.10.32->simpletransformers) (59.6.0)\n",
      "Requirement already satisfied: GitPython!=3.1.29,>=1.0.0 in ./venv/lib/python3.10/site-packages (from wandb>=0.10.32->simpletransformers) (3.1.42)\n",
      "Requirement already satisfied: psutil>=5.0.0 in ./venv/lib/python3.10/site-packages (from wandb>=0.10.32->simpletransformers) (5.9.8)\n",
      "Requirement already satisfied: urllib3<3,>=1.21.1 in ./venv/lib/python3.10/site-packages (from requests->simpletransformers) (2.2.1)\n",
      "Requirement already satisfied: certifi>=2017.4.17 in ./venv/lib/python3.10/site-packages (from requests->simpletransformers) (2024.2.2)\n",
      "Requirement already satisfied: charset-normalizer<4,>=2 in ./venv/lib/python3.10/site-packages (from requests->simpletransformers) (3.3.2)\n",
      "Requirement already satisfied: idna<4,>=2.5 in ./venv/lib/python3.10/site-packages (from requests->simpletransformers) (3.6)\n",
      "Requirement already satisfied: pyarrow>=12.0.0 in ./venv/lib/python3.10/site-packages (from datasets->simpletransformers) (15.0.0)\n",
      "Requirement already satisfied: dill<0.3.9,>=0.3.0 in ./venv/lib/python3.10/site-packages (from datasets->simpletransformers) (0.3.8)\n",
      "Requirement already satisfied: fsspec[http]<=2023.10.0,>=2023.1.0 in ./venv/lib/python3.10/site-packages (from datasets->simpletransformers) (2023.10.0)\n",
      "Requirement already satisfied: xxhash in ./venv/lib/python3.10/site-packages (from datasets->simpletransformers) (3.4.1)\n",
      "Requirement already satisfied: pyarrow-hotfix in ./venv/lib/python3.10/site-packages (from datasets->simpletransformers) (0.6)\n",
      "Requirement already satisfied: multiprocess in ./venv/lib/python3.10/site-packages (from datasets->simpletransformers) (0.70.16)\n",
      "Requirement already satisfied: aiohttp in ./venv/lib/python3.10/site-packages (from datasets->simpletransformers) (3.9.3)\n",
      "Requirement already satisfied: tzdata>=2022.7 in ./venv/lib/python3.10/site-packages (from pandas->simpletransformers) (2024.1)\n",
      "Requirement already satisfied: pytz>=2020.1 in ./venv/lib/python3.10/site-packages (from pandas->simpletransformers) (2024.1)\n",
      "Requirement already satisfied: python-dateutil>=2.8.2 in ./venv/lib/python3.10/site-packages (from pandas->simpletransformers) (2.8.2)\n",
      "Requirement already satisfied: joblib>=1.2.0 in ./venv/lib/python3.10/site-packages (from scikit-learn->simpletransformers) (1.3.2)\n",
      "Requirement already satisfied: threadpoolctl>=2.0.0 in ./venv/lib/python3.10/site-packages (from scikit-learn->simpletransformers) (3.3.0)\n",
      "Requirement already satisfied: toml<2,>=0.10.1 in ./venv/lib/python3.10/site-packages (from streamlit->simpletransformers) (0.10.2)\n",
      "Requirement already satisfied: watchdog>=2.1.5 in ./venv/lib/python3.10/site-packages (from streamlit->simpletransformers) (4.0.0)\n",
      "Requirement already satisfied: pydeck<1,>=0.8.0b4 in ./venv/lib/python3.10/site-packages (from streamlit->simpletransformers) (0.8.1b0)\n",
      "Requirement already satisfied: rich<14,>=10.14.0 in ./venv/lib/python3.10/site-packages (from streamlit->simpletransformers) (13.7.1)\n",
      "Requirement already satisfied: tzlocal<6,>=1.1 in ./venv/lib/python3.10/site-packages (from streamlit->simpletransformers) (5.2)\n",
      "Requirement already satisfied: typing-extensions<5,>=4.3.0 in ./venv/lib/python3.10/site-packages (from streamlit->simpletransformers) (4.10.0)\n",
      "Requirement already satisfied: blinker<2,>=1.0.0 in ./venv/lib/python3.10/site-packages (from streamlit->simpletransformers) (1.7.0)\n",
      "Requirement already satisfied: pillow<11,>=7.1.0 in ./venv/lib/python3.10/site-packages (from streamlit->simpletransformers) (10.2.0)\n",
      "Requirement already satisfied: altair<6,>=4.0 in ./venv/lib/python3.10/site-packages (from streamlit->simpletransformers) (5.2.0)\n",
      "Requirement already satisfied: validators<1,>=0.2 in ./venv/lib/python3.10/site-packages (from streamlit->simpletransformers) (0.22.0)\n",
      "Requirement already satisfied: cachetools<6,>=4.0 in ./venv/lib/python3.10/site-packages (from streamlit->simpletransformers) (5.3.3)\n",
      "Requirement already satisfied: tenacity<9,>=8.1.0 in ./venv/lib/python3.10/site-packages (from streamlit->simpletransformers) (8.2.3)\n",
      "Requirement already satisfied: tornado<7,>=6.0.3 in ./venv/lib/python3.10/site-packages (from streamlit->simpletransformers) (6.4)\n",
      "Requirement already satisfied: importlib-metadata<8,>=1.4 in ./venv/lib/python3.10/site-packages (from streamlit->simpletransformers) (7.0.1)\n",
      "Requirement already satisfied: markdown>=2.6.8 in ./venv/lib/python3.10/site-packages (from tensorboard->simpletransformers) (3.5.2)\n",
      "Requirement already satisfied: absl-py>=0.4 in ./venv/lib/python3.10/site-packages (from tensorboard->simpletransformers) (2.1.0)\n",
      "Requirement already satisfied: six>1.9 in ./venv/lib/python3.10/site-packages (from tensorboard->simpletransformers) (1.16.0)\n",
      "Requirement already satisfied: grpcio>=1.48.2 in ./venv/lib/python3.10/site-packages (from tensorboard->simpletransformers) (1.62.0)\n",
      "Requirement already satisfied: tensorboard-data-server<0.8.0,>=0.7.0 in ./venv/lib/python3.10/site-packages (from tensorboard->simpletransformers) (0.7.2)\n",
      "Requirement already satisfied: werkzeug>=1.0.1 in ./venv/lib/python3.10/site-packages (from tensorboard->simpletransformers) (3.0.1)\n",
      "Requirement already satisfied: toolz in ./venv/lib/python3.10/site-packages (from altair<6,>=4.0->streamlit->simpletransformers) (0.12.1)\n",
      "Requirement already satisfied: jinja2 in ./venv/lib/python3.10/site-packages (from altair<6,>=4.0->streamlit->simpletransformers) (3.1.3)\n",
      "Requirement already satisfied: jsonschema>=3.0 in ./venv/lib/python3.10/site-packages (from altair<6,>=4.0->streamlit->simpletransformers) (4.21.1)\n",
      "Requirement already satisfied: attrs>=17.3.0 in ./venv/lib/python3.10/site-packages (from aiohttp->datasets->simpletransformers) (23.2.0)\n",
      "Requirement already satisfied: multidict<7.0,>=4.5 in ./venv/lib/python3.10/site-packages (from aiohttp->datasets->simpletransformers) (6.0.5)\n",
      "Requirement already satisfied: aiosignal>=1.1.2 in ./venv/lib/python3.10/site-packages (from aiohttp->datasets->simpletransformers) (1.3.1)\n",
      "Requirement already satisfied: async-timeout<5.0,>=4.0 in ./venv/lib/python3.10/site-packages (from aiohttp->datasets->simpletransformers) (4.0.3)\n",
      "Requirement already satisfied: frozenlist>=1.1.1 in ./venv/lib/python3.10/site-packages (from aiohttp->datasets->simpletransformers) (1.4.1)\n",
      "Requirement already satisfied: yarl<2.0,>=1.0 in ./venv/lib/python3.10/site-packages (from aiohttp->datasets->simpletransformers) (1.9.4)\n",
      "Requirement already satisfied: gitdb<5,>=4.0.1 in ./venv/lib/python3.10/site-packages (from GitPython!=3.1.29,>=1.0.0->wandb>=0.10.32->simpletransformers) (4.0.11)\n",
      "Requirement already satisfied: zipp>=0.5 in ./venv/lib/python3.10/site-packages (from importlib-metadata<8,>=1.4->streamlit->simpletransformers) (3.17.0)\n",
      "Requirement already satisfied: pygments<3.0.0,>=2.13.0 in ./venv/lib/python3.10/site-packages (from rich<14,>=10.14.0->streamlit->simpletransformers) (2.17.2)\n",
      "Requirement already satisfied: markdown-it-py>=2.2.0 in ./venv/lib/python3.10/site-packages (from rich<14,>=10.14.0->streamlit->simpletransformers) (3.0.0)\n",
      "Requirement already satisfied: MarkupSafe>=2.1.1 in ./venv/lib/python3.10/site-packages (from werkzeug>=1.0.1->tensorboard->simpletransformers) (2.1.5)\n",
      "Requirement already satisfied: smmap<6,>=3.0.1 in ./venv/lib/python3.10/site-packages (from gitdb<5,>=4.0.1->GitPython!=3.1.29,>=1.0.0->wandb>=0.10.32->simpletransformers) (5.0.1)\n",
      "Requirement already satisfied: rpds-py>=0.7.1 in ./venv/lib/python3.10/site-packages (from jsonschema>=3.0->altair<6,>=4.0->streamlit->simpletransformers) (0.18.0)\n",
      "Requirement already satisfied: jsonschema-specifications>=2023.03.6 in ./venv/lib/python3.10/site-packages (from jsonschema>=3.0->altair<6,>=4.0->streamlit->simpletransformers) (2023.12.1)\n",
      "Requirement already satisfied: referencing>=0.28.4 in ./venv/lib/python3.10/site-packages (from jsonschema>=3.0->altair<6,>=4.0->streamlit->simpletransformers) (0.33.0)\n",
      "Requirement already satisfied: mdurl~=0.1 in ./venv/lib/python3.10/site-packages (from markdown-it-py>=2.2.0->rich<14,>=10.14.0->streamlit->simpletransformers) (0.1.2)\n",
      "Looking in indexes: https://pypi.org/simple, https://pypi.ngc.nvidia.com\n",
      "Requirement already satisfied: scikit-learn in ./venv/lib/python3.10/site-packages (1.4.1.post1)\n",
      "Requirement already satisfied: threadpoolctl>=2.0.0 in ./venv/lib/python3.10/site-packages (from scikit-learn) (3.3.0)\n",
      "Requirement already satisfied: joblib>=1.2.0 in ./venv/lib/python3.10/site-packages (from scikit-learn) (1.3.2)\n",
      "Requirement already satisfied: scipy>=1.6.0 in ./venv/lib/python3.10/site-packages (from scikit-learn) (1.12.0)\n",
      "Requirement already satisfied: numpy<2.0,>=1.19.5 in ./venv/lib/python3.10/site-packages (from scikit-learn) (1.26.4)\n"
     ]
    }
   ],
   "source": [
    "!pip install pandas\n",
    "!pip install matplotlib\n",
    "!pip install seaborn\n",
    "!pip install nltk\n",
    "!pip install simpletransformers\n",
    "!pip install scikit-learn"
   ]
  },
  {
   "cell_type": "code",
   "execution_count": 1,
   "id": "24fc5dde-99f3-4132-92e4-1273efe9fd92",
   "metadata": {},
   "outputs": [],
   "source": [
    "import pandas as pd\n",
    "import matplotlib.pyplot as plt\n",
    "import seaborn as sns\n",
    "import nltk\n",
    "import sklearn"
   ]
  },
  {
   "cell_type": "code",
   "execution_count": 2,
   "id": "9b94c6e5-4b01-4bb2-a7dc-cc14a0407448",
   "metadata": {},
   "outputs": [],
   "source": [
    "# defining code to load datasets\n",
    "data_root = \"data/raw_data/\"\n",
    "pcl_path = data_root + \"dontpatronizeme_pcl.tsv\"\n",
    "categories_path = data_root + \"dontpatronizeme_categories.tsv\"\n",
    "train_split_path = data_root + \"train_semeval_parids-labels.csv\"\n",
    "val_split_path = data_root + \"dev_semeval_parids-labels.csv\"\n",
    "# only load this for generating test results at the end!\n",
    "test_path = data_root + \"task4_test.tsv\"\n",
    "\n",
    "def load_pcl(pcl):\n",
    "    columns = ['par_id', 'art_id', 'keyword', 'country_code', 'text', 'label_original']\n",
    "    df = pd.read_csv(pcl, sep='\\t', skiprows=4, names=columns)\n",
    "    # get binary pcl label based on original label\n",
    "    df['label'] = (df['label_original'] > 1).astype(int)\n",
    "    return df\n",
    "\n",
    "def load_categories(categories):\n",
    "    columns = ['par_id', 'art_id', 'text', 'keyword', 'country_code', 'span_start', 'span_finish', 'span_text', 'pcl_category', 'number_of_annotators']\n",
    "    df = pd.read_csv(categories, sep='\\t', skiprows=4, names=columns)\n",
    "    return df\n",
    "\n",
    "def load_train_val_idx(train_path, val_path):\n",
    "    train_df = pd.read_csv(train_path, sep=\",\", header=0)\n",
    "    val_df = pd.read_csv(val_path, sep=\",\", header=0)\n",
    "    train_idx = train_df['par_id'].values\n",
    "    val_idx = val_df['par_id'].values\n",
    "    return train_idx, val_idx\n",
    "\n",
    "def load_test_data(test_path):\n",
    "    # test data has no label\n",
    "    columns = ['par_id', 'art_id', 'keyword', 'country_code', 'text']\n",
    "    # also, test data has no disclaimer at beginning\n",
    "    df = pd.read_csv(test_path, sep='\\t', names=columns)\n",
    "    return df"
   ]
  },
  {
   "cell_type": "code",
   "execution_count": 3,
   "id": "7d6b5b51-b099-427a-bef8-448bc60991bc",
   "metadata": {
    "scrolled": true
   },
   "outputs": [
    {
     "data": {
      "text/html": [
       "<div>\n",
       "<style scoped>\n",
       "    .dataframe tbody tr th:only-of-type {\n",
       "        vertical-align: middle;\n",
       "    }\n",
       "\n",
       "    .dataframe tbody tr th {\n",
       "        vertical-align: top;\n",
       "    }\n",
       "\n",
       "    .dataframe thead th {\n",
       "        text-align: right;\n",
       "    }\n",
       "</style>\n",
       "<table border=\"1\" class=\"dataframe\">\n",
       "  <thead>\n",
       "    <tr style=\"text-align: right;\">\n",
       "      <th></th>\n",
       "      <th>par_id</th>\n",
       "      <th>art_id</th>\n",
       "      <th>keyword</th>\n",
       "      <th>country_code</th>\n",
       "      <th>text</th>\n",
       "      <th>label_original</th>\n",
       "      <th>label</th>\n",
       "    </tr>\n",
       "  </thead>\n",
       "  <tbody>\n",
       "    <tr>\n",
       "      <th>0</th>\n",
       "      <td>1</td>\n",
       "      <td>@@24942188</td>\n",
       "      <td>hopeless</td>\n",
       "      <td>ph</td>\n",
       "      <td>We 're living in times of absolute insanity , ...</td>\n",
       "      <td>0</td>\n",
       "      <td>0</td>\n",
       "    </tr>\n",
       "    <tr>\n",
       "      <th>1</th>\n",
       "      <td>2</td>\n",
       "      <td>@@21968160</td>\n",
       "      <td>migrant</td>\n",
       "      <td>gh</td>\n",
       "      <td>In Libya today , there are countless number of...</td>\n",
       "      <td>0</td>\n",
       "      <td>0</td>\n",
       "    </tr>\n",
       "    <tr>\n",
       "      <th>2</th>\n",
       "      <td>3</td>\n",
       "      <td>@@16584954</td>\n",
       "      <td>immigrant</td>\n",
       "      <td>ie</td>\n",
       "      <td>White House press secretary Sean Spicer said t...</td>\n",
       "      <td>0</td>\n",
       "      <td>0</td>\n",
       "    </tr>\n",
       "    <tr>\n",
       "      <th>3</th>\n",
       "      <td>4</td>\n",
       "      <td>@@7811231</td>\n",
       "      <td>disabled</td>\n",
       "      <td>nz</td>\n",
       "      <td>Council customers only signs would be displaye...</td>\n",
       "      <td>0</td>\n",
       "      <td>0</td>\n",
       "    </tr>\n",
       "    <tr>\n",
       "      <th>4</th>\n",
       "      <td>5</td>\n",
       "      <td>@@1494111</td>\n",
       "      <td>refugee</td>\n",
       "      <td>ca</td>\n",
       "      <td>\" Just like we received migrants fleeing El Sa...</td>\n",
       "      <td>0</td>\n",
       "      <td>0</td>\n",
       "    </tr>\n",
       "    <tr>\n",
       "      <th>...</th>\n",
       "      <td>...</td>\n",
       "      <td>...</td>\n",
       "      <td>...</td>\n",
       "      <td>...</td>\n",
       "      <td>...</td>\n",
       "      <td>...</td>\n",
       "      <td>...</td>\n",
       "    </tr>\n",
       "    <tr>\n",
       "      <th>10464</th>\n",
       "      <td>10465</td>\n",
       "      <td>@@14297363</td>\n",
       "      <td>women</td>\n",
       "      <td>lk</td>\n",
       "      <td>Sri Lankan norms and culture inhibit women fro...</td>\n",
       "      <td>1</td>\n",
       "      <td>0</td>\n",
       "    </tr>\n",
       "    <tr>\n",
       "      <th>10465</th>\n",
       "      <td>10466</td>\n",
       "      <td>@@70091353</td>\n",
       "      <td>vulnerable</td>\n",
       "      <td>ph</td>\n",
       "      <td>He added that the AFP will continue to bank on...</td>\n",
       "      <td>0</td>\n",
       "      <td>0</td>\n",
       "    </tr>\n",
       "    <tr>\n",
       "      <th>10466</th>\n",
       "      <td>10467</td>\n",
       "      <td>@@20282330</td>\n",
       "      <td>in-need</td>\n",
       "      <td>ng</td>\n",
       "      <td>\" She has one huge platform , and information ...</td>\n",
       "      <td>3</td>\n",
       "      <td>1</td>\n",
       "    </tr>\n",
       "    <tr>\n",
       "      <th>10467</th>\n",
       "      <td>10468</td>\n",
       "      <td>@@16753236</td>\n",
       "      <td>hopeless</td>\n",
       "      <td>in</td>\n",
       "      <td>\" Anja Ringgren Loven I ca n't find a word to ...</td>\n",
       "      <td>4</td>\n",
       "      <td>1</td>\n",
       "    </tr>\n",
       "    <tr>\n",
       "      <th>10468</th>\n",
       "      <td>10469</td>\n",
       "      <td>@@16779383</td>\n",
       "      <td>homeless</td>\n",
       "      <td>ie</td>\n",
       "      <td>\" Guinness World Record of 540lbs of 7-layer m...</td>\n",
       "      <td>3</td>\n",
       "      <td>1</td>\n",
       "    </tr>\n",
       "  </tbody>\n",
       "</table>\n",
       "<p>10469 rows × 7 columns</p>\n",
       "</div>"
      ],
      "text/plain": [
       "       par_id      art_id     keyword country_code  \\\n",
       "0           1  @@24942188    hopeless           ph   \n",
       "1           2  @@21968160     migrant           gh   \n",
       "2           3  @@16584954   immigrant           ie   \n",
       "3           4   @@7811231    disabled           nz   \n",
       "4           5   @@1494111     refugee           ca   \n",
       "...       ...         ...         ...          ...   \n",
       "10464   10465  @@14297363       women           lk   \n",
       "10465   10466  @@70091353  vulnerable           ph   \n",
       "10466   10467  @@20282330     in-need           ng   \n",
       "10467   10468  @@16753236    hopeless           in   \n",
       "10468   10469  @@16779383    homeless           ie   \n",
       "\n",
       "                                                    text  label_original  \\\n",
       "0      We 're living in times of absolute insanity , ...               0   \n",
       "1      In Libya today , there are countless number of...               0   \n",
       "2      White House press secretary Sean Spicer said t...               0   \n",
       "3      Council customers only signs would be displaye...               0   \n",
       "4      \" Just like we received migrants fleeing El Sa...               0   \n",
       "...                                                  ...             ...   \n",
       "10464  Sri Lankan norms and culture inhibit women fro...               1   \n",
       "10465  He added that the AFP will continue to bank on...               0   \n",
       "10466  \" She has one huge platform , and information ...               3   \n",
       "10467  \" Anja Ringgren Loven I ca n't find a word to ...               4   \n",
       "10468  \" Guinness World Record of 540lbs of 7-layer m...               3   \n",
       "\n",
       "       label  \n",
       "0          0  \n",
       "1          0  \n",
       "2          0  \n",
       "3          0  \n",
       "4          0  \n",
       "...      ...  \n",
       "10464      0  \n",
       "10465      0  \n",
       "10466      1  \n",
       "10467      1  \n",
       "10468      1  \n",
       "\n",
       "[10469 rows x 7 columns]"
      ]
     },
     "execution_count": 3,
     "metadata": {},
     "output_type": "execute_result"
    }
   ],
   "source": [
    "pcl_df = load_pcl(pcl_path)\n",
    "pcl_df"
   ]
  },
  {
   "cell_type": "code",
   "execution_count": 34,
   "id": "880c752d-348e-4b04-a3b8-17460532e22b",
   "metadata": {},
   "outputs": [
    {
     "name": "stdout",
     "output_type": "stream",
     "text": [
      "keyword\n",
      "migrant          1089\n",
      "in-need          1082\n",
      "vulnerable       1080\n",
      "homeless         1077\n",
      "women            1070\n",
      "refugee          1068\n",
      "immigrant        1061\n",
      "disabled         1028\n",
      "hopeless         1005\n",
      "poor-families     909\n",
      "Name: count, dtype: int64\n"
     ]
    }
   ],
   "source": [
    "value_counts = pcl_df['keyword'].value_counts()\n",
    "print(value_counts)"
   ]
  },
  {
   "cell_type": "code",
   "execution_count": 5,
   "id": "4b3e52ee-a67e-4db2-9acf-0530dca5d7f8",
   "metadata": {},
   "outputs": [
    {
     "data": {
      "text/plain": [
       "par_id            0\n",
       "art_id            0\n",
       "keyword           0\n",
       "country_code      0\n",
       "text              1\n",
       "label_original    0\n",
       "label             0\n",
       "dtype: int64"
      ]
     },
     "execution_count": 5,
     "metadata": {},
     "output_type": "execute_result"
    }
   ],
   "source": [
    "pcl_df.isna().sum()"
   ]
  },
  {
   "cell_type": "code",
   "execution_count": 6,
   "id": "17217fc0-1d55-41c8-8f51-6e38fccf9510",
   "metadata": {},
   "outputs": [
    {
     "data": {
      "text/html": [
       "<div>\n",
       "<style scoped>\n",
       "    .dataframe tbody tr th:only-of-type {\n",
       "        vertical-align: middle;\n",
       "    }\n",
       "\n",
       "    .dataframe tbody tr th {\n",
       "        vertical-align: top;\n",
       "    }\n",
       "\n",
       "    .dataframe thead th {\n",
       "        text-align: right;\n",
       "    }\n",
       "</style>\n",
       "<table border=\"1\" class=\"dataframe\">\n",
       "  <thead>\n",
       "    <tr style=\"text-align: right;\">\n",
       "      <th></th>\n",
       "      <th>par_id</th>\n",
       "      <th>art_id</th>\n",
       "      <th>keyword</th>\n",
       "      <th>country_code</th>\n",
       "      <th>text</th>\n",
       "      <th>label_original</th>\n",
       "      <th>label</th>\n",
       "    </tr>\n",
       "  </thead>\n",
       "  <tbody>\n",
       "    <tr>\n",
       "      <th>8639</th>\n",
       "      <td>8640</td>\n",
       "      <td>@@16852855</td>\n",
       "      <td>migrant</td>\n",
       "      <td>ke</td>\n",
       "      <td>NaN</td>\n",
       "      <td>0</td>\n",
       "      <td>0</td>\n",
       "    </tr>\n",
       "  </tbody>\n",
       "</table>\n",
       "</div>"
      ],
      "text/plain": [
       "      par_id      art_id  keyword country_code text  label_original  label\n",
       "8639    8640  @@16852855  migrant           ke  NaN               0      0"
      ]
     },
     "execution_count": 6,
     "metadata": {},
     "output_type": "execute_result"
    }
   ],
   "source": [
    "pcl_df[pcl_df['text'].isna()]"
   ]
  },
  {
   "cell_type": "code",
   "execution_count": 4,
   "id": "bce276e7-5777-4433-bdb4-998458448a36",
   "metadata": {},
   "outputs": [],
   "source": [
    "# Replacing the missing text with \"\"\n",
    "pcl_df['text'] = pcl_df['text'].fillna('')"
   ]
  },
  {
   "cell_type": "code",
   "execution_count": 8,
   "id": "0d0ba714-6ee7-43dc-8e4b-0495e44877d2",
   "metadata": {},
   "outputs": [
    {
     "data": {
      "text/plain": [
       "par_id            0\n",
       "art_id            0\n",
       "keyword           0\n",
       "country_code      0\n",
       "text              0\n",
       "label_original    0\n",
       "label             0\n",
       "dtype: int64"
      ]
     },
     "execution_count": 8,
     "metadata": {},
     "output_type": "execute_result"
    }
   ],
   "source": [
    "pcl_df.isna().sum()"
   ]
  },
  {
   "cell_type": "code",
   "execution_count": 9,
   "id": "6082ac01-0d8b-4c36-ab81-68a288b45425",
   "metadata": {},
   "outputs": [],
   "source": [
    "pcl_df['text_length'] = pcl_df['text'].apply(lambda x: len(x))"
   ]
  },
  {
   "cell_type": "code",
   "execution_count": 10,
   "id": "a6329beb-8a2d-4cdd-872e-934bb6878fa6",
   "metadata": {
    "scrolled": true
   },
   "outputs": [
    {
     "data": {
      "text/html": [
       "<div>\n",
       "<style scoped>\n",
       "    .dataframe tbody tr th:only-of-type {\n",
       "        vertical-align: middle;\n",
       "    }\n",
       "\n",
       "    .dataframe tbody tr th {\n",
       "        vertical-align: top;\n",
       "    }\n",
       "\n",
       "    .dataframe thead th {\n",
       "        text-align: right;\n",
       "    }\n",
       "</style>\n",
       "<table border=\"1\" class=\"dataframe\">\n",
       "  <thead>\n",
       "    <tr style=\"text-align: right;\">\n",
       "      <th></th>\n",
       "      <th>par_id</th>\n",
       "      <th>art_id</th>\n",
       "      <th>keyword</th>\n",
       "      <th>country_code</th>\n",
       "      <th>text</th>\n",
       "      <th>label_original</th>\n",
       "      <th>label</th>\n",
       "      <th>text_length</th>\n",
       "    </tr>\n",
       "  </thead>\n",
       "  <tbody>\n",
       "    <tr>\n",
       "      <th>0</th>\n",
       "      <td>1</td>\n",
       "      <td>@@24942188</td>\n",
       "      <td>hopeless</td>\n",
       "      <td>ph</td>\n",
       "      <td>We 're living in times of absolute insanity , ...</td>\n",
       "      <td>0</td>\n",
       "      <td>0</td>\n",
       "      <td>620</td>\n",
       "    </tr>\n",
       "    <tr>\n",
       "      <th>1</th>\n",
       "      <td>2</td>\n",
       "      <td>@@21968160</td>\n",
       "      <td>migrant</td>\n",
       "      <td>gh</td>\n",
       "      <td>In Libya today , there are countless number of...</td>\n",
       "      <td>0</td>\n",
       "      <td>0</td>\n",
       "      <td>237</td>\n",
       "    </tr>\n",
       "    <tr>\n",
       "      <th>2</th>\n",
       "      <td>3</td>\n",
       "      <td>@@16584954</td>\n",
       "      <td>immigrant</td>\n",
       "      <td>ie</td>\n",
       "      <td>White House press secretary Sean Spicer said t...</td>\n",
       "      <td>0</td>\n",
       "      <td>0</td>\n",
       "      <td>158</td>\n",
       "    </tr>\n",
       "    <tr>\n",
       "      <th>3</th>\n",
       "      <td>4</td>\n",
       "      <td>@@7811231</td>\n",
       "      <td>disabled</td>\n",
       "      <td>nz</td>\n",
       "      <td>Council customers only signs would be displaye...</td>\n",
       "      <td>0</td>\n",
       "      <td>0</td>\n",
       "      <td>162</td>\n",
       "    </tr>\n",
       "    <tr>\n",
       "      <th>4</th>\n",
       "      <td>5</td>\n",
       "      <td>@@1494111</td>\n",
       "      <td>refugee</td>\n",
       "      <td>ca</td>\n",
       "      <td>\" Just like we received migrants fleeing El Sa...</td>\n",
       "      <td>0</td>\n",
       "      <td>0</td>\n",
       "      <td>273</td>\n",
       "    </tr>\n",
       "  </tbody>\n",
       "</table>\n",
       "</div>"
      ],
      "text/plain": [
       "   par_id      art_id    keyword country_code  \\\n",
       "0       1  @@24942188   hopeless           ph   \n",
       "1       2  @@21968160    migrant           gh   \n",
       "2       3  @@16584954  immigrant           ie   \n",
       "3       4   @@7811231   disabled           nz   \n",
       "4       5   @@1494111    refugee           ca   \n",
       "\n",
       "                                                text  label_original  label  \\\n",
       "0  We 're living in times of absolute insanity , ...               0      0   \n",
       "1  In Libya today , there are countless number of...               0      0   \n",
       "2  White House press secretary Sean Spicer said t...               0      0   \n",
       "3  Council customers only signs would be displaye...               0      0   \n",
       "4  \" Just like we received migrants fleeing El Sa...               0      0   \n",
       "\n",
       "   text_length  \n",
       "0          620  \n",
       "1          237  \n",
       "2          158  \n",
       "3          162  \n",
       "4          273  "
      ]
     },
     "execution_count": 10,
     "metadata": {},
     "output_type": "execute_result"
    }
   ],
   "source": [
    "pcl_df.head()"
   ]
  },
  {
   "cell_type": "markdown",
   "id": "96b62a90-712e-4370-87e7-8eecad113e0e",
   "metadata": {},
   "source": [
    "## Part 1 Data Analysis"
   ]
  },
  {
   "cell_type": "code",
   "execution_count": 43,
   "id": "bcc6d661-53c2-498c-bcf9-7020caa5a926",
   "metadata": {},
   "outputs": [
    {
     "name": "stdout",
     "output_type": "stream",
     "text": [
      "Counts and percentages per label:\n",
      "Label 0: Count = 9476, Percentage = 90.51%\n",
      "Label 1: Count = 993, Percentage = 9.49%\n"
     ]
    }
   ],
   "source": [
    "grouped = pcl_df.groupby('label')\n",
    "\n",
    "# Count the number of rows with each label\n",
    "count_per_label = grouped.size()\n",
    "percentages = (count_per_label / len(pcl_df)) * 100\n",
    "\n",
    "print(\"Counts and percentages per label:\")\n",
    "for label in count_per_label.index:\n",
    "    print(f\"Label {label}: Count = {count_per_label[label]}, Percentage = {percentages[label]:.2f}%\")"
   ]
  },
  {
   "cell_type": "code",
   "execution_count": 44,
   "id": "271c3a92-f8dc-4f91-a278-9c7d70d98294",
   "metadata": {},
   "outputs": [
    {
     "name": "stdout",
     "output_type": "stream",
     "text": [
      "\n",
      "Mean text length per label:\n",
      "Label 0: Mean text length = 264.36\n",
      "Label 1: Mean text length = 287.06\n"
     ]
    }
   ],
   "source": [
    "# Calculate the average value of 'text_length' for each label\n",
    "mean_text_length_per_label = grouped['text_length'].mean()\n",
    "print(\"\\nMean text length per label:\")\n",
    "for label in mean_text_length_per_label.index:\n",
    "    print(f\"Label {label}: Mean text length = {mean_text_length_per_label[label]:.2f}\")"
   ]
  },
  {
   "cell_type": "code",
   "execution_count": 45,
   "id": "2e450abc-93f8-4a42-aa9f-c5825600494d",
   "metadata": {},
   "outputs": [
    {
     "name": "stdout",
     "output_type": "stream",
     "text": [
      "Counts and percentages per label:\n",
      "Label 0: Count = 8529, Percentage = 81.47%\n",
      "Label 1: Count = 947, Percentage = 9.05%\n",
      "Label 2: Count = 144, Percentage = 1.38%\n",
      "Label 3: Count = 458, Percentage = 4.37%\n",
      "Label 4: Count = 391, Percentage = 3.73%\n"
     ]
    }
   ],
   "source": [
    "grouped = pcl_df.groupby('label_original')\n",
    "\n",
    "# Count the number of rows with each label\n",
    "count_per_label = grouped.size()\n",
    "percentages = (count_per_label / len(pcl_df)) * 100\n",
    "\n",
    "print(\"Counts and percentages per label:\")\n",
    "for label in count_per_label.index:\n",
    "    print(f\"Label {label}: Count = {count_per_label[label]}, Percentage = {percentages[label]:.2f}%\")"
   ]
  },
  {
   "cell_type": "code",
   "execution_count": 46,
   "id": "c0a7dda8-0d17-4326-8d99-e4e3e29ae7cd",
   "metadata": {},
   "outputs": [
    {
     "name": "stdout",
     "output_type": "stream",
     "text": [
      "\n",
      "Mean text length per label:\n",
      "Label 0: Mean text length = 262.31\n",
      "Label 1: Mean text length = 282.82\n",
      "Label 2: Mean text length = 269.27\n",
      "Label 3: Mean text length = 277.38\n",
      "Label 4: Mean text length = 304.95\n"
     ]
    }
   ],
   "source": [
    "# Calculate the average value of 'text_length' for each label\n",
    "mean_text_length_per_label = grouped['text_length'].mean()\n",
    "print(\"\\nMean text length per label:\")\n",
    "for label in mean_text_length_per_label.index:\n",
    "    print(f\"Label {label}: Mean text length = {mean_text_length_per_label[label]:.2f}\")"
   ]
  },
  {
   "cell_type": "code",
   "execution_count": 47,
   "id": "043dc0b4-b9cb-4a01-b3db-cc342a4baf87",
   "metadata": {
    "scrolled": true
   },
   "outputs": [
    {
     "data": {
      "image/png": "[encoded data removed]",
      "text/plain": [
       "<Figure size 1000x500 with 2 Axes>"
      ]
     },
     "metadata": {},
     "output_type": "display_data"
    }
   ],
   "source": [
    "# Create subplots for each label\n",
    "fig, axs = plt.subplots(1, 2, figsize=(10, 5))\n",
    "\n",
    "# Plot histograms of 'text_length' for each label\n",
    "for ax, (label, group) in zip(axs, grouped):\n",
    "    ax.hist(group['text_length'], bins=100)\n",
    "    ax.axvline(group['text_length'].mean(), color='red', linestyle='dotted', linewidth=2)\n",
    "    ax.set_title(f'Label {label}')\n",
    "    ax.set_xlabel('Text Length')\n",
    "    ax.set_ylabel('Frequency')\n",
    "\n",
    "plt.suptitle('Histogram of Text Length for Each Label with Mean')\n",
    "plt.tight_layout()\n",
    "plt.show()"
   ]
  },
  {
   "cell_type": "code",
   "execution_count": 48,
   "id": "e2dd8e9e-8db9-423c-a2f8-8e1f84d4d2de",
   "metadata": {},
   "outputs": [
    {
     "data": {
      "text/plain": [
       "<Figure size 1000x600 with 0 Axes>"
      ]
     },
     "metadata": {},
     "output_type": "display_data"
    },
    {
     "data": {
      "image/png": "[encoded data removed]",
      "text/plain": [
       "<Figure size 640x480 with 1 Axes>"
      ]
     },
     "metadata": {},
     "output_type": "display_data"
    }
   ],
   "source": [
    "# Count of each label for each country code\n",
    "label_counts = pd.crosstab(pcl_df['country_code'], pcl_df['label'])\n",
    "\n",
    "# Sort bars by total count for each country code\n",
    "total_counts = label_counts.sum(axis=1).sort_values(ascending=False).index\n",
    "label_counts = label_counts.loc[total_counts]\n",
    "\n",
    "# Plot stacked bar plot\n",
    "plt.figure(figsize=(10, 6))\n",
    "label_counts.plot(kind='bar', stacked=True, colormap='coolwarm')\n",
    "plt.title('Label Distribution by Country Code')\n",
    "plt.xlabel('Country Code')\n",
    "plt.ylabel('Count')\n",
    "plt.legend(title='Label', loc='upper right', fontsize='6')\n",
    "plt.show()"
   ]
  },
  {
   "cell_type": "code",
   "execution_count": 49,
   "id": "8a69fa2b-1672-4684-b9d7-6a1bc8c5c01f",
   "metadata": {
    "scrolled": true
   },
   "outputs": [
    {
     "data": {
      "image/png": "[encoded data removed]",
      "text/plain": [
       "<Figure size 1000x600 with 1 Axes>"
      ]
     },
     "metadata": {},
     "output_type": "display_data"
    }
   ],
   "source": [
    "# Calculate the percentage of 1 labels for each country code\n",
    "label_percentage = pcl_df.groupby('country_code')['label'].mean() * 100\n",
    "label_percentage = label_percentage.reset_index().sort_values(by='label', ascending=False)\n",
    "\n",
    "# Plot percentage of 1 labels for each country code\n",
    "plt.figure(figsize=(10, 6))\n",
    "sns.barplot(data=label_percentage, x='country_code', y='label')\n",
    "plt.title('Percentage of 1 Labels by Country Code')\n",
    "plt.xlabel('Country Code')\n",
    "plt.ylabel('Percentage of 1 Labels')\n",
    "plt.show()"
   ]
  },
  {
   "cell_type": "code",
   "execution_count": 50,
   "id": "3cea1171-4948-4207-a154-6a75d7a5301f",
   "metadata": {
    "scrolled": true
   },
   "outputs": [
    {
     "data": {
      "text/plain": [
       "<Figure size 1000x600 with 0 Axes>"
      ]
     },
     "metadata": {},
     "output_type": "display_data"
    },
    {
     "data": {
      "image/png": "[encoded data removed]",
      "text/plain": [
       "<Figure size 640x480 with 1 Axes>"
      ]
     },
     "metadata": {},
     "output_type": "display_data"
    }
   ],
   "source": [
    "# Count of each label for each country code\n",
    "label_counts = pd.crosstab(pcl_df['keyword'], pcl_df['label'])\n",
    "\n",
    "# Sort bars by total count for each country code\n",
    "total_counts = label_counts.sum(axis=1).sort_values(ascending=False).index\n",
    "label_counts = label_counts.loc[total_counts]\n",
    "\n",
    "# Plot stacked bar plot\n",
    "plt.figure(figsize=(10, 6))\n",
    "label_counts.plot(kind='bar', stacked=True, colormap='coolwarm')\n",
    "plt.title('Label Distribution by Keyword')\n",
    "plt.xlabel('Keyword')\n",
    "plt.ylabel('Count')\n",
    "plt.legend(title='Label', loc='upper right', fontsize='6')\n",
    "plt.show()"
   ]
  },
  {
   "cell_type": "code",
   "execution_count": 51,
   "id": "d60cb956-59cc-4947-b4be-e50478df2f13",
   "metadata": {
    "scrolled": true
   },
   "outputs": [
    {
     "data": {
      "image/png": "[encoded data removed]",
      "text/plain": [
       "<Figure size 1000x600 with 1 Axes>"
      ]
     },
     "metadata": {},
     "output_type": "display_data"
    }
   ],
   "source": [
    "# Calculate the percentage of 1 labels for each keyword\n",
    "label_percentage = pcl_df.groupby('keyword')['label'].mean() * 100\n",
    "label_percentage = label_percentage.reset_index().sort_values(by='label', ascending=False)\n",
    "\n",
    "# Plot percentage of 1 labels for each country code\n",
    "plt.figure(figsize=(10, 6))\n",
    "sns.barplot(data=label_percentage, x='keyword', y='label')\n",
    "plt.title('Percentage of 1 Labels by Keyword')\n",
    "plt.xlabel('Keyword')\n",
    "plt.ylabel('Percentage of 1 Labels')\n",
    "plt.show()"
   ]
  },
  {
   "cell_type": "markdown",
   "id": "511f4657-904b-4325-acb2-32fe656c93e0",
   "metadata": {},
   "source": [
    "### Preprocessing"
   ]
  },
  {
   "cell_type": "code",
   "execution_count": 10,
   "id": "b26b139a-8954-49d6-a58f-879007daf357",
   "metadata": {},
   "outputs": [
    {
     "name": "stderr",
     "output_type": "stream",
     "text": [
      "[nltk_data] Downloading package stopwords to\n",
      "[nltk_data]     /home/jonezia/nltk_data...\n",
      "[nltk_data]   Package stopwords is already up-to-date!\n",
      "[nltk_data] Downloading package wordnet to /home/jonezia/nltk_data...\n",
      "[nltk_data]   Package wordnet is already up-to-date!\n",
      "[nltk_data] Downloading package punkt to /home/jonezia/nltk_data...\n",
      "[nltk_data]   Package punkt is already up-to-date!\n"
     ]
    }
   ],
   "source": [
    "nltk.download('stopwords')\n",
    "nltk.download('wordnet')\n",
    "nltk.download('punkt')\n",
    "\n",
    "import re\n",
    "import nltk\n",
    "from nltk.tokenize import word_tokenize\n",
    "from nltk.stem import PorterStemmer, WordNetLemmatizer\n",
    "from nltk.corpus import stopwords\n",
    "\n",
    "# Function to preprocess text\n",
    "def preprocess_text(text, lowercase=False, remove_punctuation=False, remove_stopwords=False, stemming=False, lemmatization=False):\n",
    "    assert(not (stemming and lemmatization))\n",
    "    # Lowercasing\n",
    "    if lowercase:\n",
    "        text = text.lower()\n",
    "    # Removing punctuation\n",
    "    if remove_punctuation:\n",
    "        text = re.sub(r'[^\\w\\s]', '', text)\n",
    "    # Tokenization\n",
    "    tokens = word_tokenize(text)\n",
    "    # Removing stopwords\n",
    "    if remove_stopwords:\n",
    "        stop_words = set(stopwords.words('english'))\n",
    "        tokens = [word for word in tokens if word not in stop_words]\n",
    "    # Stemming\n",
    "    if stemming:\n",
    "        porter = PorterStemmer()\n",
    "        tokens = [porter.stem(word) for word in tokens]\n",
    "    # Lemmatization\n",
    "    if lemmatization:\n",
    "        lemmatizer = WordNetLemmatizer()\n",
    "        tokens = [lemmatizer.lemmatize(word) for word in tokens]\n",
    "    # Joining tokens back into text\n",
    "    processed_text = ' '.join(tokens)\n",
    "    return processed_text\n",
    "\n",
    "# Apply preprocessing function to text column\n",
    "pcl_df['preprocessed_text'] = pcl_df['text'].apply(preprocess_text)"
   ]
  },
  {
   "cell_type": "code",
   "execution_count": 6,
   "id": "e061679a-82e3-4201-8dc9-c96bba3d9b1c",
   "metadata": {},
   "outputs": [
    {
     "name": "stdout",
     "output_type": "stream",
     "text": [
      "We 're living in times of absolute insanity , as I 'm pretty sure most people are aware . For a while , waking up every day to check the news seemed to carry with it the same feeling of panic and dread that action heroes probably face when they 're trying to decide whether to cut the blue or green wire on a ticking bomb -- except the bomb 's instructions long ago burned in a fire and imminent catastrophe seems the likeliest outcome . It 's hard to stay that on-edge for that long , though , so it 's natural for people to become inured to this constant chaos , to slump into a malaise of hopelessness and pessimism .\n",
      "\n",
      "living time absolute insanity pretty sure people aware waking every day check news seemed carry feeling panic dread action hero probably face trying decide whether cut blue green wire ticking bomb except bomb instruction long ago burned fire imminent catastrophe seems likeliest outcome hard stay onedge long though natural people become inured constant chaos slump malaise hopelessness pessimism\n"
     ]
    }
   ],
   "source": [
    "print(pcl_df.iloc[0]['text'])\n",
    "print()\n",
    "print(pcl_df.iloc[0]['preprocessed_text'])"
   ]
  },
  {
   "cell_type": "code",
   "execution_count": 54,
   "id": "dc38f4de-d99a-4b9e-9aac-03d5ee147d79",
   "metadata": {
    "scrolled": true
   },
   "outputs": [
    {
     "data": {
      "image/png": "[encoded data removed]",
      "text/plain": [
       "<Figure size 1200x600 with 2 Axes>"
      ]
     },
     "metadata": {},
     "output_type": "display_data"
    }
   ],
   "source": [
    "from collections import Counter\n",
    "\n",
    "# Separate preprocessed text associated with label 0 and label 1\n",
    "text_label_0 = ' '.join(pcl_df[pcl_df['label'] == 0]['preprocessed_text'])\n",
    "text_label_1 = ' '.join(pcl_df[pcl_df['label'] == 1]['preprocessed_text'])\n",
    "\n",
    "# Tokenize the text to extract individual words\n",
    "tokens_label_0 = word_tokenize(text_label_0)\n",
    "tokens_label_1 = word_tokenize(text_label_1)\n",
    "\n",
    "# Count the frequency of each word in each bag of words\n",
    "word_freq_label_0 = Counter(tokens_label_0)\n",
    "word_freq_label_1 = Counter(tokens_label_1)\n",
    "\n",
    "# Plot the most common words for each bag of words\n",
    "plt.figure(figsize=(12, 6))\n",
    "plt.subplot(1, 2, 1)\n",
    "sns.barplot(x=[pair[0] for pair in word_freq_label_0.most_common(10)], y=[pair[1] for pair in word_freq_label_0.most_common(10)])\n",
    "plt.title('Top 10 Most Common Words for Label 0')\n",
    "plt.xlabel('Word')\n",
    "plt.ylabel('Frequency')\n",
    "plt.xticks(rotation=45)\n",
    "plt.subplot(1, 2, 2)\n",
    "sns.barplot(x=[pair[0] for pair in word_freq_label_1.most_common(10)], y=[pair[1] for pair in word_freq_label_1.most_common(10)])\n",
    "plt.title('Top 10 Most Common Words for Label 1')\n",
    "plt.xlabel('Word')\n",
    "plt.ylabel('Frequency')\n",
    "plt.xticks(rotation=45)\n",
    "plt.tight_layout()\n",
    "plt.show()"
   ]
  },
  {
   "cell_type": "markdown",
   "id": "e14b115b-287a-40cb-b26a-55c3c7adb53f",
   "metadata": {},
   "source": [
    "## Model\n",
    "First, we split the data into train/val/test. I use the official validation set as my \"test\" data, and split the official train set to form the validation and training datasets."
   ]
  },
  {
   "cell_type": "code",
   "execution_count": 7,
   "id": "38714183-0b3b-4e3c-a9af-5c6fa12ac042",
   "metadata": {},
   "outputs": [
    {
     "name": "stdout",
     "output_type": "stream",
     "text": [
      "(8375,)\n",
      "(2094,)\n"
     ]
    }
   ],
   "source": [
    "official_train_idx, official_val_idx = load_train_val_idx(train_split_path, val_split_path)\n",
    "print(official_train_idx.shape)\n",
    "print(official_val_idx.shape)"
   ]
  },
  {
   "cell_type": "code",
   "execution_count": 34,
   "id": "41ab545b-f06e-4b51-b8f2-be3e8114f9a3",
   "metadata": {},
   "outputs": [
    {
     "name": "stdout",
     "output_type": "stream",
     "text": [
      "Train data: 6700\n",
      "Val data: 1675\n",
      "Test data: 2094\n"
     ]
    }
   ],
   "source": [
    "from sklearn.model_selection import train_test_split\n",
    "# Split data into training validation and test data according to official idx\n",
    "\n",
    "rows = [] # will contain par_id, label and text\n",
    "for parid in official_train_idx:  \n",
    "  # select row from original dataset\n",
    "  keyword = pcl_df.loc[pcl_df.par_id == parid].keyword.values[0]\n",
    "  text = pcl_df.loc[pcl_df.par_id == parid].text.values[0]\n",
    "  label = pcl_df.loc[pcl_df.par_id == parid].label.values[0]\n",
    "  rows.append({\n",
    "      'par_id':parid,\n",
    "      'keyword':keyword,\n",
    "      'original_text':text,\n",
    "      'text':text,\n",
    "      'labels':label\n",
    "  })\n",
    "train_data_ = pd.DataFrame(rows)\n",
    "train_data, val_data = train_test_split(train_data_, test_size=0.2, shuffle=True)\n",
    "\n",
    "rows = [] # will contain par_id, label and text\n",
    "for parid in official_val_idx:  \n",
    "  # select row from original dataset\n",
    "  keyword = pcl_df.loc[pcl_df.par_id == parid].keyword.values[0]\n",
    "  text = pcl_df.loc[pcl_df.par_id == parid].text.values[0]\n",
    "  label = pcl_df.loc[pcl_df.par_id == parid].label.values[0]\n",
    "  rows.append({\n",
    "      'par_id':parid,\n",
    "      'keyword':keyword,\n",
    "      'original_text':text,\n",
    "      'text':text,\n",
    "      'labels':label\n",
    "  })\n",
    "test_data = pd.DataFrame(rows)\n",
    "\n",
    "print(f\"Train data: {len(train_data)}\")\n",
    "print(f\"Val data: {len(val_data)}\")\n",
    "print(f\"Test data: {len(test_data)}\")"
   ]
  },
  {
   "cell_type": "code",
   "execution_count": 35,
   "id": "d82b037b-6ce3-4662-ac64-a27cffe9452b",
   "metadata": {},
   "outputs": [
    {
     "data": {
      "text/html": [
       "<div>\n",
       "<style scoped>\n",
       "    .dataframe tbody tr th:only-of-type {\n",
       "        vertical-align: middle;\n",
       "    }\n",
       "\n",
       "    .dataframe tbody tr th {\n",
       "        vertical-align: top;\n",
       "    }\n",
       "\n",
       "    .dataframe thead th {\n",
       "        text-align: right;\n",
       "    }\n",
       "</style>\n",
       "<table border=\"1\" class=\"dataframe\">\n",
       "  <thead>\n",
       "    <tr style=\"text-align: right;\">\n",
       "      <th></th>\n",
       "      <th>par_id</th>\n",
       "      <th>keyword</th>\n",
       "      <th>original_text</th>\n",
       "      <th>text</th>\n",
       "      <th>labels</th>\n",
       "    </tr>\n",
       "  </thead>\n",
       "  <tbody>\n",
       "    <tr>\n",
       "      <th>3906</th>\n",
       "      <td>3455</td>\n",
       "      <td>disabled</td>\n",
       "      <td>There was some worry last year when the Blue J...</td>\n",
       "      <td>There was some worry last year when the Blue J...</td>\n",
       "      <td>0</td>\n",
       "    </tr>\n",
       "    <tr>\n",
       "      <th>2740</th>\n",
       "      <td>2168</td>\n",
       "      <td>disabled</td>\n",
       "      <td>COMMUNITY WELFARE AND ENTERPRISE This is the b...</td>\n",
       "      <td>COMMUNITY WELFARE AND ENTERPRISE This is the b...</td>\n",
       "      <td>0</td>\n",
       "    </tr>\n",
       "    <tr>\n",
       "      <th>2329</th>\n",
       "      <td>1724</td>\n",
       "      <td>vulnerable</td>\n",
       "      <td>At once powerful and vulnerable , it is the pe...</td>\n",
       "      <td>At once powerful and vulnerable , it is the pe...</td>\n",
       "      <td>0</td>\n",
       "    </tr>\n",
       "    <tr>\n",
       "      <th>1256</th>\n",
       "      <td>515</td>\n",
       "      <td>poor-families</td>\n",
       "      <td>If implemented , it will take the medical and ...</td>\n",
       "      <td>If implemented , it will take the medical and ...</td>\n",
       "      <td>0</td>\n",
       "    </tr>\n",
       "    <tr>\n",
       "      <th>5784</th>\n",
       "      <td>5504</td>\n",
       "      <td>women</td>\n",
       "      <td>Women with intellectual disabilities died at a...</td>\n",
       "      <td>Women with intellectual disabilities died at a...</td>\n",
       "      <td>0</td>\n",
       "    </tr>\n",
       "  </tbody>\n",
       "</table>\n",
       "</div>"
      ],
      "text/plain": [
       "      par_id        keyword  \\\n",
       "3906    3455       disabled   \n",
       "2740    2168       disabled   \n",
       "2329    1724     vulnerable   \n",
       "1256     515  poor-families   \n",
       "5784    5504          women   \n",
       "\n",
       "                                          original_text  \\\n",
       "3906  There was some worry last year when the Blue J...   \n",
       "2740  COMMUNITY WELFARE AND ENTERPRISE This is the b...   \n",
       "2329  At once powerful and vulnerable , it is the pe...   \n",
       "1256  If implemented , it will take the medical and ...   \n",
       "5784  Women with intellectual disabilities died at a...   \n",
       "\n",
       "                                                   text  labels  \n",
       "3906  There was some worry last year when the Blue J...       0  \n",
       "2740  COMMUNITY WELFARE AND ENTERPRISE This is the b...       0  \n",
       "2329  At once powerful and vulnerable , it is the pe...       0  \n",
       "1256  If implemented , it will take the medical and ...       0  \n",
       "5784  Women with intellectual disabilities died at a...       0  "
      ]
     },
     "execution_count": 35,
     "metadata": {},
     "output_type": "execute_result"
    }
   ],
   "source": [
    "train_data.head()"
   ]
  },
  {
   "cell_type": "code",
   "execution_count": 36,
   "id": "bdeb68dc-bf5d-40aa-8290-89ce05baa113",
   "metadata": {},
   "outputs": [
    {
     "data": {
      "text/html": [
       "<div>\n",
       "<style scoped>\n",
       "    .dataframe tbody tr th:only-of-type {\n",
       "        vertical-align: middle;\n",
       "    }\n",
       "\n",
       "    .dataframe tbody tr th {\n",
       "        vertical-align: top;\n",
       "    }\n",
       "\n",
       "    .dataframe thead th {\n",
       "        text-align: right;\n",
       "    }\n",
       "</style>\n",
       "<table border=\"1\" class=\"dataframe\">\n",
       "  <thead>\n",
       "    <tr style=\"text-align: right;\">\n",
       "      <th></th>\n",
       "      <th>par_id</th>\n",
       "      <th>keyword</th>\n",
       "      <th>original_text</th>\n",
       "      <th>text</th>\n",
       "      <th>labels</th>\n",
       "    </tr>\n",
       "  </thead>\n",
       "  <tbody>\n",
       "    <tr>\n",
       "      <th>3335</th>\n",
       "      <td>2824</td>\n",
       "      <td>women</td>\n",
       "      <td>Women 's basketball Last week , the women 's b...</td>\n",
       "      <td>Women 's basketball Last week , the women 's b...</td>\n",
       "      <td>0</td>\n",
       "    </tr>\n",
       "    <tr>\n",
       "      <th>7488</th>\n",
       "      <td>7418</td>\n",
       "      <td>poor-families</td>\n",
       "      <td>It disrupts production of goods and services a...</td>\n",
       "      <td>It disrupts production of goods and services a...</td>\n",
       "      <td>0</td>\n",
       "    </tr>\n",
       "    <tr>\n",
       "      <th>2623</th>\n",
       "      <td>2044</td>\n",
       "      <td>migrant</td>\n",
       "      <td>The Government has to carefully consider the m...</td>\n",
       "      <td>The Government has to carefully consider the m...</td>\n",
       "      <td>0</td>\n",
       "    </tr>\n",
       "    <tr>\n",
       "      <th>7369</th>\n",
       "      <td>7279</td>\n",
       "      <td>refugee</td>\n",
       "      <td>Snowden has since publicly thanked the refugee...</td>\n",
       "      <td>Snowden has since publicly thanked the refugee...</td>\n",
       "      <td>0</td>\n",
       "    </tr>\n",
       "    <tr>\n",
       "      <th>458</th>\n",
       "      <td>1975</td>\n",
       "      <td>in-need</td>\n",
       "      <td>\" Brixton Music Group recognises that the seas...</td>\n",
       "      <td>\" Brixton Music Group recognises that the seas...</td>\n",
       "      <td>1</td>\n",
       "    </tr>\n",
       "  </tbody>\n",
       "</table>\n",
       "</div>"
      ],
      "text/plain": [
       "      par_id        keyword  \\\n",
       "3335    2824          women   \n",
       "7488    7418  poor-families   \n",
       "2623    2044        migrant   \n",
       "7369    7279        refugee   \n",
       "458     1975        in-need   \n",
       "\n",
       "                                          original_text  \\\n",
       "3335  Women 's basketball Last week , the women 's b...   \n",
       "7488  It disrupts production of goods and services a...   \n",
       "2623  The Government has to carefully consider the m...   \n",
       "7369  Snowden has since publicly thanked the refugee...   \n",
       "458   \" Brixton Music Group recognises that the seas...   \n",
       "\n",
       "                                                   text  labels  \n",
       "3335  Women 's basketball Last week , the women 's b...       0  \n",
       "7488  It disrupts production of goods and services a...       0  \n",
       "2623  The Government has to carefully consider the m...       0  \n",
       "7369  Snowden has since publicly thanked the refugee...       0  \n",
       "458   \" Brixton Music Group recognises that the seas...       1  "
      ]
     },
     "execution_count": 36,
     "metadata": {},
     "output_type": "execute_result"
    }
   ],
   "source": [
    "val_data.head()"
   ]
  },
  {
   "cell_type": "code",
   "execution_count": 37,
   "id": "f585db21-8a80-4729-bcf8-2b1d8ec1be2f",
   "metadata": {},
   "outputs": [
    {
     "data": {
      "text/html": [
       "<div>\n",
       "<style scoped>\n",
       "    .dataframe tbody tr th:only-of-type {\n",
       "        vertical-align: middle;\n",
       "    }\n",
       "\n",
       "    .dataframe tbody tr th {\n",
       "        vertical-align: top;\n",
       "    }\n",
       "\n",
       "    .dataframe thead th {\n",
       "        text-align: right;\n",
       "    }\n",
       "</style>\n",
       "<table border=\"1\" class=\"dataframe\">\n",
       "  <thead>\n",
       "    <tr style=\"text-align: right;\">\n",
       "      <th></th>\n",
       "      <th>par_id</th>\n",
       "      <th>keyword</th>\n",
       "      <th>original_text</th>\n",
       "      <th>text</th>\n",
       "      <th>labels</th>\n",
       "    </tr>\n",
       "  </thead>\n",
       "  <tbody>\n",
       "    <tr>\n",
       "      <th>0</th>\n",
       "      <td>4046</td>\n",
       "      <td>hopeless</td>\n",
       "      <td>We also know that they can benefit by receivin...</td>\n",
       "      <td>We also know that they can benefit by receivin...</td>\n",
       "      <td>1</td>\n",
       "    </tr>\n",
       "    <tr>\n",
       "      <th>1</th>\n",
       "      <td>1279</td>\n",
       "      <td>refugee</td>\n",
       "      <td>Pope Francis washed and kissed the feet of Mus...</td>\n",
       "      <td>Pope Francis washed and kissed the feet of Mus...</td>\n",
       "      <td>1</td>\n",
       "    </tr>\n",
       "    <tr>\n",
       "      <th>2</th>\n",
       "      <td>8330</td>\n",
       "      <td>refugee</td>\n",
       "      <td>Many refugees do n't want to be resettled anyw...</td>\n",
       "      <td>Many refugees do n't want to be resettled anyw...</td>\n",
       "      <td>1</td>\n",
       "    </tr>\n",
       "    <tr>\n",
       "      <th>3</th>\n",
       "      <td>4063</td>\n",
       "      <td>in-need</td>\n",
       "      <td>Budding chefs , like \" Fred \" , \" Winston \" an...</td>\n",
       "      <td>Budding chefs , like \" Fred \" , \" Winston \" an...</td>\n",
       "      <td>1</td>\n",
       "    </tr>\n",
       "    <tr>\n",
       "      <th>4</th>\n",
       "      <td>4089</td>\n",
       "      <td>homeless</td>\n",
       "      <td>In a 90-degree view of his constituency , one ...</td>\n",
       "      <td>In a 90-degree view of his constituency , one ...</td>\n",
       "      <td>1</td>\n",
       "    </tr>\n",
       "  </tbody>\n",
       "</table>\n",
       "</div>"
      ],
      "text/plain": [
       "   par_id   keyword                                      original_text  \\\n",
       "0    4046  hopeless  We also know that they can benefit by receivin...   \n",
       "1    1279   refugee  Pope Francis washed and kissed the feet of Mus...   \n",
       "2    8330   refugee  Many refugees do n't want to be resettled anyw...   \n",
       "3    4063   in-need  Budding chefs , like \" Fred \" , \" Winston \" an...   \n",
       "4    4089  homeless  In a 90-degree view of his constituency , one ...   \n",
       "\n",
       "                                                text  labels  \n",
       "0  We also know that they can benefit by receivin...       1  \n",
       "1  Pope Francis washed and kissed the feet of Mus...       1  \n",
       "2  Many refugees do n't want to be resettled anyw...       1  \n",
       "3  Budding chefs , like \" Fred \" , \" Winston \" an...       1  \n",
       "4  In a 90-degree view of his constituency , one ...       1  "
      ]
     },
     "execution_count": 37,
     "metadata": {},
     "output_type": "execute_result"
    }
   ],
   "source": [
    "test_data.head()"
   ]
  },
  {
   "cell_type": "markdown",
   "id": "13eb17a4-aad5-4788-8ccc-4124cb88c192",
   "metadata": {},
   "source": [
    "Code to train the model"
   ]
  },
  {
   "cell_type": "code",
   "execution_count": 29,
   "id": "4b5e829b-a954-48bc-a34d-703a36363b06",
   "metadata": {},
   "outputs": [],
   "source": [
    "import torch\n",
    "from simpletransformers.classification import ClassificationModel, ClassificationArgs\n",
    "from sklearn.metrics import classification_report, precision_recall_fscore_support\n",
    "\n",
    "cuda_available = torch.cuda.is_available()\n",
    "\n",
    "def train_model(train_data, val_data, num_epoch=1, model_type=\"roberta\", model_name=\"roberta-base\", learning_rate=4e-5, optimizer=\"AdamW\"):\n",
    "    model_args = ClassificationArgs(num_train_epochs=num_epoch, \n",
    "                                    no_save=True, \n",
    "                                    no_cache=True, \n",
    "                                    overwrite_output_dir=True,\n",
    "                                    use_multiprocessing=False,\n",
    "                                    use_multiprocessing_for_evaluation=False,\n",
    "                                    train_batch_size=8,\n",
    "                                    eval_batch_size=8)\n",
    "    model = ClassificationModel(model_type,\n",
    "                                model_name, \n",
    "                                args = model_args, \n",
    "                                num_labels=2, \n",
    "                                use_cuda=cuda_available)\n",
    "    # train model\n",
    "    model.train_model(train_data[['text', 'labels']])\n",
    "\n",
    "    # test on validation data\n",
    "    y_pred, _ = model.predict(val_data.text.tolist())\n",
    "    y_true = val_data['labels']\n",
    "    print(\"Validation Set Metrics\")\n",
    "    print(classification_report(y_true, y_pred, digits=4))\n",
    "    precision, recall, f1_score, support = precision_recall_fscore_support(y_true, y_pred)\n",
    "    return f1_score[1]"
   ]
  },
  {
   "cell_type": "code",
   "execution_count": 24,
   "id": "47282377-27df-4ae0-8d52-e8d556f5b309",
   "metadata": {},
   "outputs": [
    {
     "name": "stdout",
     "output_type": "stream",
     "text": [
      "Train data: 1968\n"
     ]
    }
   ],
   "source": [
    "# Downsampling train data (in the same way as RoBERTa base model)\n",
    "train_label_1 = train_data[train_data.labels==1]\n",
    "num_label_1 = len(train_label_1)\n",
    "train_label_0 = train_data[train_data.labels==0][:num_label_1*2]\n",
    "train_data_downsampled = pd.concat([train_label_1,train_label_0])\n",
    "print(f\"Train data: {len(train_data_downsampled)}\")"
   ]
  },
  {
   "cell_type": "markdown",
   "id": "7fc0928a-9600-41e4-8222-078db00aeb82",
   "metadata": {},
   "source": [
    "## Preprocessing Exploration"
   ]
  },
  {
   "cell_type": "markdown",
   "id": "9c9a090c-853c-4ba0-82db-53f0614b4636",
   "metadata": {},
   "source": [
    "First, we train the default model without any preprocessing for comparison."
   ]
  },
  {
   "cell_type": "code",
   "execution_count": null,
   "id": "228dbcb1-3589-47bb-b5b5-37bcc4f839fd",
   "metadata": {},
   "outputs": [],
   "source": [
    "f1_results_hyperparams = {}"
   ]
  },
  {
   "cell_type": "code",
   "execution_count": 28,
   "id": "a5221fe3-2efd-4e56-9d70-8e2c0079850d",
   "metadata": {
    "scrolled": true
   },
   "outputs": [
    {
     "name": "stderr",
     "output_type": "stream",
     "text": [
      "Some weights of RobertaForSequenceClassification were not initialized from the model checkpoint at roberta-base and are newly initialized: ['classifier.dense.bias', 'classifier.dense.weight', 'classifier.out_proj.bias', 'classifier.out_proj.weight']\n",
      "You should probably TRAIN this model on a down-stream task to be able to use it for predictions and inference.\n"
     ]
    },
    {
     "data": {
      "application/vnd.jupyter.widget-view+json": {
       "model_id": "11f8a48e60e24c15b7d34a43c9be78da",
       "version_major": 2,
       "version_minor": 0
      },
      "text/plain": [
       "Epoch:   0%|          | 0/1 [00:00<?, ?it/s]"
      ]
     },
     "metadata": {},
     "output_type": "display_data"
    },
    {
     "data": {
      "application/vnd.jupyter.widget-view+json": {
       "model_id": "9e2b639c7601407cae0672b96fcd0b43",
       "version_major": 2,
       "version_minor": 0
      },
      "text/plain": [
       "Running Epoch 1 of 1:   0%|          | 0/246 [00:00<?, ?it/s]"
      ]
     },
     "metadata": {},
     "output_type": "display_data"
    },
    {
     "data": {
      "application/vnd.jupyter.widget-view+json": {
       "model_id": "c3f33b31c1fa4c7c87a3ee848a5cfac5",
       "version_major": 2,
       "version_minor": 0
      },
      "text/plain": [
       "  0%|          | 0/210 [00:00<?, ?it/s]"
      ]
     },
     "metadata": {},
     "output_type": "display_data"
    },
    {
     "name": "stdout",
     "output_type": "stream",
     "text": [
      "Validation Set Metrics\n",
      "              precision    recall  f1-score   support\n",
      "\n",
      "           0     0.9790    0.8504    0.9102      1537\n",
      "           1     0.3235    0.7971    0.4603       138\n",
      "\n",
      "    accuracy                         0.8460      1675\n",
      "   macro avg     0.6513    0.8237    0.6852      1675\n",
      "weighted avg     0.9250    0.8460    0.8731      1675\n",
      "\n",
      "0.9101671309192201\n",
      "0.4602510460251046\n"
     ]
    }
   ],
   "source": [
    "f1_results_hyperparams['default'] = train_model(train_data_downsampled, val_data)"
   ]
  },
  {
   "cell_type": "markdown",
   "id": "7cc5332d-70f6-4778-b7fe-3f66e21b7efa",
   "metadata": {},
   "source": [
    "Now, we iterate over each possible preprocessing step and set them individually to true to see if the model performance improves."
   ]
  },
  {
   "cell_type": "code",
   "execution_count": 32,
   "id": "3efcb8e7-b2f8-43e5-82cd-2fcf47aabcff",
   "metadata": {},
   "outputs": [
    {
     "name": "stdout",
     "output_type": "stream",
     "text": [
      "Training with lowercase preprocessing step\n"
     ]
    },
    {
     "name": "stderr",
     "output_type": "stream",
     "text": [
      "Some weights of RobertaForSequenceClassification were not initialized from the model checkpoint at roberta-base and are newly initialized: ['classifier.dense.bias', 'classifier.dense.weight', 'classifier.out_proj.bias', 'classifier.out_proj.weight']\n",
      "You should probably TRAIN this model on a down-stream task to be able to use it for predictions and inference.\n"
     ]
    },
    {
     "data": {
      "application/vnd.jupyter.widget-view+json": {
       "model_id": "127e1f92d4f1439d8d398c60602e50ce",
       "version_major": 2,
       "version_minor": 0
      },
      "text/plain": [
       "Epoch:   0%|          | 0/1 [00:00<?, ?it/s]"
      ]
     },
     "metadata": {},
     "output_type": "display_data"
    },
    {
     "data": {
      "application/vnd.jupyter.widget-view+json": {
       "model_id": "cfa67e99105d410d969e3a85f0a0270b",
       "version_major": 2,
       "version_minor": 0
      },
      "text/plain": [
       "Running Epoch 1 of 1:   0%|          | 0/246 [00:00<?, ?it/s]"
      ]
     },
     "metadata": {},
     "output_type": "display_data"
    },
    {
     "data": {
      "application/vnd.jupyter.widget-view+json": {
       "model_id": "86b4eff29cef415c9b61148ed9df9ac3",
       "version_major": 2,
       "version_minor": 0
      },
      "text/plain": [
       "  0%|          | 0/210 [00:00<?, ?it/s]"
      ]
     },
     "metadata": {},
     "output_type": "display_data"
    },
    {
     "name": "stdout",
     "output_type": "stream",
     "text": [
      "Validation Set Metrics\n",
      "              precision    recall  f1-score   support\n",
      "\n",
      "           0     0.9678    0.8985    0.9318      1537\n",
      "           1     0.3710    0.6667    0.4767       138\n",
      "\n",
      "    accuracy                         0.8794      1675\n",
      "   macro avg     0.6694    0.7826    0.7043      1675\n",
      "weighted avg     0.9186    0.8794    0.8943      1675\n",
      "\n",
      "Training with remove_punctuation preprocessing step\n"
     ]
    },
    {
     "name": "stderr",
     "output_type": "stream",
     "text": [
      "Some weights of RobertaForSequenceClassification were not initialized from the model checkpoint at roberta-base and are newly initialized: ['classifier.dense.bias', 'classifier.dense.weight', 'classifier.out_proj.bias', 'classifier.out_proj.weight']\n",
      "You should probably TRAIN this model on a down-stream task to be able to use it for predictions and inference.\n"
     ]
    },
    {
     "data": {
      "application/vnd.jupyter.widget-view+json": {
       "model_id": "799bb730ceda44f3884b526a5e516fc7",
       "version_major": 2,
       "version_minor": 0
      },
      "text/plain": [
       "Epoch:   0%|          | 0/1 [00:00<?, ?it/s]"
      ]
     },
     "metadata": {},
     "output_type": "display_data"
    },
    {
     "data": {
      "application/vnd.jupyter.widget-view+json": {
       "model_id": "38e22f794ffe4a20a534eb1aeecf3f04",
       "version_major": 2,
       "version_minor": 0
      },
      "text/plain": [
       "Running Epoch 1 of 1:   0%|          | 0/246 [00:00<?, ?it/s]"
      ]
     },
     "metadata": {},
     "output_type": "display_data"
    },
    {
     "data": {
      "application/vnd.jupyter.widget-view+json": {
       "model_id": "6776c82c5b0343828e192e67695f92f1",
       "version_major": 2,
       "version_minor": 0
      },
      "text/plain": [
       "  0%|          | 0/210 [00:00<?, ?it/s]"
      ]
     },
     "metadata": {},
     "output_type": "display_data"
    },
    {
     "name": "stdout",
     "output_type": "stream",
     "text": [
      "Validation Set Metrics\n",
      "              precision    recall  f1-score   support\n",
      "\n",
      "           0     0.9690    0.8939    0.9299      1537\n",
      "           1     0.3658    0.6812    0.4759       138\n",
      "\n",
      "    accuracy                         0.8764      1675\n",
      "   macro avg     0.6674    0.7876    0.7029      1675\n",
      "weighted avg     0.9193    0.8764    0.8925      1675\n",
      "\n",
      "Training with remove_stopwords preprocessing step\n"
     ]
    },
    {
     "name": "stderr",
     "output_type": "stream",
     "text": [
      "Some weights of RobertaForSequenceClassification were not initialized from the model checkpoint at roberta-base and are newly initialized: ['classifier.dense.bias', 'classifier.dense.weight', 'classifier.out_proj.bias', 'classifier.out_proj.weight']\n",
      "You should probably TRAIN this model on a down-stream task to be able to use it for predictions and inference.\n"
     ]
    },
    {
     "data": {
      "application/vnd.jupyter.widget-view+json": {
       "model_id": "9470d6cf80b645e39b94a35aef97b2cc",
       "version_major": 2,
       "version_minor": 0
      },
      "text/plain": [
       "Epoch:   0%|          | 0/1 [00:00<?, ?it/s]"
      ]
     },
     "metadata": {},
     "output_type": "display_data"
    },
    {
     "data": {
      "application/vnd.jupyter.widget-view+json": {
       "model_id": "0caf3f33998c42df89faa497b501afd2",
       "version_major": 2,
       "version_minor": 0
      },
      "text/plain": [
       "Running Epoch 1 of 1:   0%|          | 0/246 [00:00<?, ?it/s]"
      ]
     },
     "metadata": {},
     "output_type": "display_data"
    },
    {
     "data": {
      "application/vnd.jupyter.widget-view+json": {
       "model_id": "c97a87af338d49fb873d455372b643b3",
       "version_major": 2,
       "version_minor": 0
      },
      "text/plain": [
       "  0%|          | 0/210 [00:00<?, ?it/s]"
      ]
     },
     "metadata": {},
     "output_type": "display_data"
    },
    {
     "name": "stdout",
     "output_type": "stream",
     "text": [
      "Validation Set Metrics\n",
      "              precision    recall  f1-score   support\n",
      "\n",
      "           0     0.9748    0.8562    0.9117      1537\n",
      "           1     0.3200    0.7536    0.4492       138\n",
      "\n",
      "    accuracy                         0.8478      1675\n",
      "   macro avg     0.6474    0.8049    0.6805      1675\n",
      "weighted avg     0.9209    0.8478    0.8736      1675\n",
      "\n",
      "Training with stemming preprocessing step\n"
     ]
    },
    {
     "name": "stderr",
     "output_type": "stream",
     "text": [
      "Some weights of RobertaForSequenceClassification were not initialized from the model checkpoint at roberta-base and are newly initialized: ['classifier.dense.bias', 'classifier.dense.weight', 'classifier.out_proj.bias', 'classifier.out_proj.weight']\n",
      "You should probably TRAIN this model on a down-stream task to be able to use it for predictions and inference.\n"
     ]
    },
    {
     "data": {
      "application/vnd.jupyter.widget-view+json": {
       "model_id": "1b17c2460ead4892801215e458d7fed6",
       "version_major": 2,
       "version_minor": 0
      },
      "text/plain": [
       "Epoch:   0%|          | 0/1 [00:00<?, ?it/s]"
      ]
     },
     "metadata": {},
     "output_type": "display_data"
    },
    {
     "data": {
      "application/vnd.jupyter.widget-view+json": {
       "model_id": "80cde11dfd0240e188d9a652c3bce94d",
       "version_major": 2,
       "version_minor": 0
      },
      "text/plain": [
       "Running Epoch 1 of 1:   0%|          | 0/246 [00:00<?, ?it/s]"
      ]
     },
     "metadata": {},
     "output_type": "display_data"
    },
    {
     "data": {
      "application/vnd.jupyter.widget-view+json": {
       "model_id": "799a1957c73d46739ca5d7993da5a90f",
       "version_major": 2,
       "version_minor": 0
      },
      "text/plain": [
       "  0%|          | 0/210 [00:00<?, ?it/s]"
      ]
     },
     "metadata": {},
     "output_type": "display_data"
    },
    {
     "name": "stdout",
     "output_type": "stream",
     "text": [
      "Validation Set Metrics\n",
      "              precision    recall  f1-score   support\n",
      "\n",
      "           0     0.9580    0.8907    0.9231      1537\n",
      "           1     0.3171    0.5652    0.4062       138\n",
      "\n",
      "    accuracy                         0.8639      1675\n",
      "   macro avg     0.6375    0.7280    0.6647      1675\n",
      "weighted avg     0.9052    0.8639    0.8805      1675\n",
      "\n",
      "Training with lemmatization preprocessing step\n"
     ]
    },
    {
     "name": "stderr",
     "output_type": "stream",
     "text": [
      "Some weights of RobertaForSequenceClassification were not initialized from the model checkpoint at roberta-base and are newly initialized: ['classifier.dense.bias', 'classifier.dense.weight', 'classifier.out_proj.bias', 'classifier.out_proj.weight']\n",
      "You should probably TRAIN this model on a down-stream task to be able to use it for predictions and inference.\n"
     ]
    },
    {
     "data": {
      "application/vnd.jupyter.widget-view+json": {
       "model_id": "c567b5a7938049df9cb3da154afec447",
       "version_major": 2,
       "version_minor": 0
      },
      "text/plain": [
       "Epoch:   0%|          | 0/1 [00:00<?, ?it/s]"
      ]
     },
     "metadata": {},
     "output_type": "display_data"
    },
    {
     "data": {
      "application/vnd.jupyter.widget-view+json": {
       "model_id": "55a0d4bce63a4ac6bce28f5f6c808356",
       "version_major": 2,
       "version_minor": 0
      },
      "text/plain": [
       "Running Epoch 1 of 1:   0%|          | 0/246 [00:00<?, ?it/s]"
      ]
     },
     "metadata": {},
     "output_type": "display_data"
    },
    {
     "data": {
      "application/vnd.jupyter.widget-view+json": {
       "model_id": "b62417260cc545d1b7bc0af988905bcf",
       "version_major": 2,
       "version_minor": 0
      },
      "text/plain": [
       "  0%|          | 0/210 [00:00<?, ?it/s]"
      ]
     },
     "metadata": {},
     "output_type": "display_data"
    },
    {
     "name": "stdout",
     "output_type": "stream",
     "text": [
      "Validation Set Metrics\n",
      "              precision    recall  f1-score   support\n",
      "\n",
      "           0     0.9682    0.8920    0.9285      1537\n",
      "           1     0.3591    0.6739    0.4685       138\n",
      "\n",
      "    accuracy                         0.8740      1675\n",
      "   macro avg     0.6636    0.7830    0.6985      1675\n",
      "weighted avg     0.9180    0.8740    0.8906      1675\n",
      "\n"
     ]
    }
   ],
   "source": [
    "preprocessing_hyperparams = {'lowercase': False, 'remove_punctuation': False, 'remove_stopwords': False, 'stemming': False, 'lemmatization': False}\n",
    "for hyperparam in preprocessing_hyperparams:\n",
    "    print(f\"Training with {hyperparam} preprocessing step\")\n",
    "    preprocessing_hyperparams[hyperparam] = True\n",
    "    train_data_downsampled['text'] = train_data_downsampled['original_text'].apply(preprocess_text, **preprocessing_hyperparams)\n",
    "    train_data_downsampled.head()\n",
    "    f1_results_hyperparams[hyperparam] = train_model(train_data_downsampled, val_data)\n",
    "    preprocessing_hyperparams[hyperparam] = False"
   ]
  },
  {
   "cell_type": "code",
   "execution_count": 39,
   "id": "8af39238-87be-4786-b076-2feb4f293ccb",
   "metadata": {},
   "outputs": [
    {
     "name": "stdout",
     "output_type": "stream",
     "text": [
      "{'lowercase': 0.47668393782383417, 'remove_punctuation': 0.4759493670886076, 'remove_stopwords': 0.44924406047516197, 'stemming': 0.40625, 'lemmatization': 0.46851385390428213, 'default': 0.4602510460251046}\n"
     ]
    }
   ],
   "source": [
    "print(f1_results_hyperparams)"
   ]
  },
  {
   "cell_type": "code",
   "execution_count": 44,
   "id": "74b66915-3b7b-4c94-88b7-00b0f5e863c8",
   "metadata": {},
   "outputs": [
    {
     "data": {
      "image/png": "[encoded data removed]",
      "text/plain": [
       "<Figure size 1000x600 with 1 Axes>"
      ]
     },
     "metadata": {},
     "output_type": "display_data"
    }
   ],
   "source": [
    "# Convert dictionary to DataFrame for easier manipulation\n",
    "df = pd.DataFrame.from_dict(f1_results_hyperparams, orient='index', columns=['F1 Score'])\n",
    "\n",
    "# Sort DataFrame by F1 Score in ascending order\n",
    "df_sorted = df.sort_values(by='F1 Score')\n",
    "\n",
    "# Plot the DataFrame\n",
    "plt.figure(figsize=(10, 6))\n",
    "for i, (index, row) in enumerate(df_sorted.iterrows()):\n",
    "    if index == 'default':\n",
    "        plt.bar(i, row['F1 Score'], color='skyblue', label=index)\n",
    "        plt.axhline(y=row['F1 Score'], color='red', linestyle='--')\n",
    "    else:\n",
    "        plt.bar(i, row['F1 Score'], color='skyblue', label=index)\n",
    "\n",
    "plt.xlabel('Preprocessing Setting')\n",
    "plt.ylabel('Label 1 F1 Score')\n",
    "plt.title('Label 1 F1 Scores for Different Preprocessing Settings')\n",
    "plt.xticks(range(len(df_sorted)), df_sorted.index, rotation=45)\n",
    "plt.tight_layout()\n",
    "plt.show()"
   ]
  },
  {
   "cell_type": "markdown",
   "id": "0b5fb77a-19f9-4c27-8be0-da622db84fa4",
   "metadata": {},
   "source": [
    "We notice that steimming at removing stopwords lowers the F1 score of the model, while lemmatization, removing punctuation, and lowercasing increases it. Thus, we will train a model which incorporates lemmatization, removing punctuation, and lowercasing as a preprocessing step."
   ]
  },
  {
   "cell_type": "code",
   "execution_count": 45,
   "id": "b3832a34-b3ab-4bfe-ba59-e79533119f71",
   "metadata": {},
   "outputs": [
    {
     "name": "stderr",
     "output_type": "stream",
     "text": [
      "Some weights of RobertaForSequenceClassification were not initialized from the model checkpoint at roberta-base and are newly initialized: ['classifier.dense.bias', 'classifier.dense.weight', 'classifier.out_proj.bias', 'classifier.out_proj.weight']\n",
      "You should probably TRAIN this model on a down-stream task to be able to use it for predictions and inference.\n"
     ]
    },
    {
     "data": {
      "application/vnd.jupyter.widget-view+json": {
       "model_id": "03041dacabe24d5196457f178e35e38b",
       "version_major": 2,
       "version_minor": 0
      },
      "text/plain": [
       "Epoch:   0%|          | 0/1 [00:00<?, ?it/s]"
      ]
     },
     "metadata": {},
     "output_type": "display_data"
    },
    {
     "data": {
      "application/vnd.jupyter.widget-view+json": {
       "model_id": "8907afdf960d4b74a9593cbda4d546cd",
       "version_major": 2,
       "version_minor": 0
      },
      "text/plain": [
       "Running Epoch 1 of 1:   0%|          | 0/246 [00:00<?, ?it/s]"
      ]
     },
     "metadata": {},
     "output_type": "display_data"
    },
    {
     "data": {
      "application/vnd.jupyter.widget-view+json": {
       "model_id": "4890dd043b294481a1fe7a2b4bdb59fe",
       "version_major": 2,
       "version_minor": 0
      },
      "text/plain": [
       "  0%|          | 0/210 [00:00<?, ?it/s]"
      ]
     },
     "metadata": {},
     "output_type": "display_data"
    },
    {
     "name": "stdout",
     "output_type": "stream",
     "text": [
      "Validation Set Metrics\n",
      "              precision    recall  f1-score   support\n",
      "\n",
      "           0     0.9658    0.8456    0.9017      1503\n",
      "           1     0.3538    0.7384    0.4783       172\n",
      "\n",
      "    accuracy                         0.8346      1675\n",
      "   macro avg     0.6598    0.7920    0.6900      1675\n",
      "weighted avg     0.9030    0.8346    0.8583      1675\n",
      "\n"
     ]
    }
   ],
   "source": [
    "train_data_downsampled['text'] = train_data_downsampled['original_text'].apply(preprocess_text, lemmatization=True, remove_punctuation=True, lowercase=True)\n",
    "f1_results_hyperparams['combined'] = train_model(train_data_downsampled, val_data)"
   ]
  },
  {
   "cell_type": "code",
   "execution_count": 46,
   "id": "a2afa357-ae54-4a7a-827e-38988b875c5e",
   "metadata": {},
   "outputs": [
    {
     "name": "stdout",
     "output_type": "stream",
     "text": [
      "{'lowercase': 0.47668393782383417, 'remove_punctuation': 0.4759493670886076, 'remove_stopwords': 0.44924406047516197, 'stemming': 0.40625, 'lemmatization': 0.46851385390428213, 'default': 0.4602510460251046, 'combined': 0.4783427495291902}\n"
     ]
    }
   ],
   "source": [
    "print(f1_results_hyperparams)"
   ]
  },
  {
   "cell_type": "code",
   "execution_count": 47,
   "id": "c9d840a2-0ddf-4ce8-b48a-bb548cb0ff97",
   "metadata": {},
   "outputs": [
    {
     "data": {
      "image/png": "[encoded data removed]",
      "text/plain": [
       "<Figure size 1000x600 with 1 Axes>"
      ]
     },
     "metadata": {},
     "output_type": "display_data"
    }
   ],
   "source": [
    "# Convert dictionary to DataFrame for easier manipulation\n",
    "df = pd.DataFrame.from_dict(f1_results_hyperparams, orient='index', columns=['F1 Score'])\n",
    "\n",
    "# Sort DataFrame by F1 Score in ascending order\n",
    "df_sorted = df.sort_values(by='F1 Score')\n",
    "\n",
    "# Plot the DataFrame\n",
    "plt.figure(figsize=(10, 6))\n",
    "for i, (index, row) in enumerate(df_sorted.iterrows()):\n",
    "    if index == 'default':\n",
    "        plt.bar(i, row['F1 Score'], color='skyblue', label=index)\n",
    "        plt.axhline(y=row['F1 Score'], color='red', linestyle='--')\n",
    "    else:\n",
    "        plt.bar(i, row['F1 Score'], color='skyblue', label=index)\n",
    "\n",
    "plt.xlabel('Preprocessing Setting')\n",
    "plt.ylabel('Label 1 F1 Score')\n",
    "plt.title('Label 1 F1 Scores for Different Preprocessing Settings')\n",
    "plt.xticks(range(len(df_sorted)), df_sorted.index, rotation=45)\n",
    "plt.tight_layout()\n",
    "plt.show()"
   ]
  },
  {
   "cell_type": "markdown",
   "id": "68ba6796-e757-4cdf-97d1-28b23ada879e",
   "metadata": {},
   "source": [
    "We can see that the combined preprocessing steps achieve the best performance."
   ]
  },
  {
   "cell_type": "markdown",
   "id": "dc806600-5f85-4ced-b6e0-5cb52e6b7e67",
   "metadata": {},
   "source": [
    "## Sampling and Data Augmentation"
   ]
  },
  {
   "cell_type": "markdown",
   "id": "b0373812-5aa4-471d-b5c7-fe393315d929",
   "metadata": {},
   "source": [
    "We now investigate if we can improve the model performance by changing the data sampling. Currently, we follow the RoBERTa baseline in performing downsampling of the majority class to twice the number of the minority class. Let's try different sampling methods to see if we can improve on this."
   ]
  },
  {
   "cell_type": "code",
   "execution_count": 51,
   "id": "8fc34c87-0e23-44b0-bafe-630a8aff26a4",
   "metadata": {},
   "outputs": [
    {
     "data": {
      "text/html": [
       "<div>\n",
       "<style scoped>\n",
       "    .dataframe tbody tr th:only-of-type {\n",
       "        vertical-align: middle;\n",
       "    }\n",
       "\n",
       "    .dataframe tbody tr th {\n",
       "        vertical-align: top;\n",
       "    }\n",
       "\n",
       "    .dataframe thead th {\n",
       "        text-align: right;\n",
       "    }\n",
       "</style>\n",
       "<table border=\"1\" class=\"dataframe\">\n",
       "  <thead>\n",
       "    <tr style=\"text-align: right;\">\n",
       "      <th></th>\n",
       "      <th>par_id</th>\n",
       "      <th>keyword</th>\n",
       "      <th>original_text</th>\n",
       "      <th>text</th>\n",
       "      <th>labels</th>\n",
       "    </tr>\n",
       "  </thead>\n",
       "  <tbody>\n",
       "    <tr>\n",
       "      <th>3906</th>\n",
       "      <td>3455</td>\n",
       "      <td>disabled</td>\n",
       "      <td>There was some worry last year when the Blue J...</td>\n",
       "      <td>there wa some worry last year when the blue ja...</td>\n",
       "      <td>0</td>\n",
       "    </tr>\n",
       "    <tr>\n",
       "      <th>2740</th>\n",
       "      <td>2168</td>\n",
       "      <td>disabled</td>\n",
       "      <td>COMMUNITY WELFARE AND ENTERPRISE This is the b...</td>\n",
       "      <td>community welfare and enterprise this is the b...</td>\n",
       "      <td>0</td>\n",
       "    </tr>\n",
       "    <tr>\n",
       "      <th>2329</th>\n",
       "      <td>1724</td>\n",
       "      <td>vulnerable</td>\n",
       "      <td>At once powerful and vulnerable , it is the pe...</td>\n",
       "      <td>at once powerful and vulnerable it is the perf...</td>\n",
       "      <td>0</td>\n",
       "    </tr>\n",
       "    <tr>\n",
       "      <th>1256</th>\n",
       "      <td>515</td>\n",
       "      <td>poor-families</td>\n",
       "      <td>If implemented , it will take the medical and ...</td>\n",
       "      <td>if implemented it will take the medical and de...</td>\n",
       "      <td>0</td>\n",
       "    </tr>\n",
       "    <tr>\n",
       "      <th>5784</th>\n",
       "      <td>5504</td>\n",
       "      <td>women</td>\n",
       "      <td>Women with intellectual disabilities died at a...</td>\n",
       "      <td>woman with intellectual disability died at an ...</td>\n",
       "      <td>0</td>\n",
       "    </tr>\n",
       "  </tbody>\n",
       "</table>\n",
       "</div>"
      ],
      "text/plain": [
       "      par_id        keyword  \\\n",
       "3906    3455       disabled   \n",
       "2740    2168       disabled   \n",
       "2329    1724     vulnerable   \n",
       "1256     515  poor-families   \n",
       "5784    5504          women   \n",
       "\n",
       "                                          original_text  \\\n",
       "3906  There was some worry last year when the Blue J...   \n",
       "2740  COMMUNITY WELFARE AND ENTERPRISE This is the b...   \n",
       "2329  At once powerful and vulnerable , it is the pe...   \n",
       "1256  If implemented , it will take the medical and ...   \n",
       "5784  Women with intellectual disabilities died at a...   \n",
       "\n",
       "                                                   text  labels  \n",
       "3906  there wa some worry last year when the blue ja...       0  \n",
       "2740  community welfare and enterprise this is the b...       0  \n",
       "2329  at once powerful and vulnerable it is the perf...       0  \n",
       "1256  if implemented it will take the medical and de...       0  \n",
       "5784  woman with intellectual disability died at an ...       0  "
      ]
     },
     "execution_count": 51,
     "metadata": {},
     "output_type": "execute_result"
    }
   ],
   "source": [
    "# First we perform preprocessing on all the training data using our chosen preprocessing method\n",
    "train_data['text'] = train_data['original_text'].apply(preprocess_text, lemmatization=True, remove_punctuation=True, lowercase=True)\n",
    "train_data.head()"
   ]
  },
  {
   "cell_type": "code",
   "execution_count": 53,
   "id": "d17e10df-2a99-4834-a407-0173df76c919",
   "metadata": {},
   "outputs": [
    {
     "name": "stderr",
     "output_type": "stream",
     "text": [
      "Some weights of RobertaForSequenceClassification were not initialized from the model checkpoint at roberta-base and are newly initialized: ['classifier.dense.bias', 'classifier.dense.weight', 'classifier.out_proj.bias', 'classifier.out_proj.weight']\n",
      "You should probably TRAIN this model on a down-stream task to be able to use it for predictions and inference.\n"
     ]
    },
    {
     "data": {
      "application/vnd.jupyter.widget-view+json": {
       "model_id": "075fb19c55cf4139a5f2e5912756c072",
       "version_major": 2,
       "version_minor": 0
      },
      "text/plain": [
       "Epoch:   0%|          | 0/1 [00:00<?, ?it/s]"
      ]
     },
     "metadata": {},
     "output_type": "display_data"
    },
    {
     "data": {
      "application/vnd.jupyter.widget-view+json": {
       "model_id": "f80cb93f077d4ede9385c7c05e9562e8",
       "version_major": 2,
       "version_minor": 0
      },
      "text/plain": [
       "Running Epoch 1 of 1:   0%|          | 0/156 [00:00<?, ?it/s]"
      ]
     },
     "metadata": {},
     "output_type": "display_data"
    },
    {
     "ename": "RuntimeError",
     "evalue": "CUDA error: an illegal memory access was encountered\nCUDA kernel errors might be asynchronously reported at some other API call, so the stacktrace below might be incorrect.\nFor debugging consider passing CUDA_LAUNCH_BLOCKING=1.\nCompile with `TORCH_USE_CUDA_DSA` to enable device-side assertions.\n",
     "output_type": "error",
     "traceback": [
      "\u001b[0;31m---------------------------------------------------------------------------\u001b[0m",
      "\u001b[0;31mRuntimeError\u001b[0m                              Traceback (most recent call last)",
      "Cell \u001b[0;32mIn[53], line 8\u001b[0m\n\u001b[1;32m      6\u001b[0m train_label_0 \u001b[38;5;241m=\u001b[39m train_data[train_data\u001b[38;5;241m.\u001b[39mlabels\u001b[38;5;241m==\u001b[39m\u001b[38;5;241m0\u001b[39m][:num_label_1\u001b[38;5;241m*\u001b[39mmultiple]\n\u001b[1;32m      7\u001b[0m train_data_downsampled \u001b[38;5;241m=\u001b[39m pd\u001b[38;5;241m.\u001b[39mconcat([train_label_1,train_label_0])\n\u001b[0;32m----> 8\u001b[0m downsampling_results[multiple] \u001b[38;5;241m=\u001b[39m \u001b[43mtrain_model\u001b[49m\u001b[43m(\u001b[49m\u001b[43mtrain_data_downsampled\u001b[49m\u001b[43m,\u001b[49m\u001b[43m \u001b[49m\u001b[43mval_data\u001b[49m\u001b[43m)\u001b[49m\n",
      "Cell \u001b[0;32mIn[29], line 22\u001b[0m, in \u001b[0;36mtrain_model\u001b[0;34m(train_data, val_data, num_epoch, model_type, model_name, learning_rate, optimizer)\u001b[0m\n\u001b[1;32m     16\u001b[0m model \u001b[38;5;241m=\u001b[39m ClassificationModel(model_type,\n\u001b[1;32m     17\u001b[0m                             model_name, \n\u001b[1;32m     18\u001b[0m                             args \u001b[38;5;241m=\u001b[39m model_args, \n\u001b[1;32m     19\u001b[0m                             num_labels\u001b[38;5;241m=\u001b[39m\u001b[38;5;241m2\u001b[39m, \n\u001b[1;32m     20\u001b[0m                             use_cuda\u001b[38;5;241m=\u001b[39mcuda_available)\n\u001b[1;32m     21\u001b[0m \u001b[38;5;66;03m# train model\u001b[39;00m\n\u001b[0;32m---> 22\u001b[0m \u001b[43mmodel\u001b[49m\u001b[38;5;241;43m.\u001b[39;49m\u001b[43mtrain_model\u001b[49m\u001b[43m(\u001b[49m\u001b[43mtrain_data\u001b[49m\u001b[43m[\u001b[49m\u001b[43m[\u001b[49m\u001b[38;5;124;43m'\u001b[39;49m\u001b[38;5;124;43mtext\u001b[39;49m\u001b[38;5;124;43m'\u001b[39;49m\u001b[43m,\u001b[49m\u001b[43m \u001b[49m\u001b[38;5;124;43m'\u001b[39;49m\u001b[38;5;124;43mlabels\u001b[39;49m\u001b[38;5;124;43m'\u001b[39;49m\u001b[43m]\u001b[49m\u001b[43m]\u001b[49m\u001b[43m)\u001b[49m\n\u001b[1;32m     24\u001b[0m \u001b[38;5;66;03m# test on validation data\u001b[39;00m\n\u001b[1;32m     25\u001b[0m y_pred, _ \u001b[38;5;241m=\u001b[39m model\u001b[38;5;241m.\u001b[39mpredict(val_data\u001b[38;5;241m.\u001b[39mtext\u001b[38;5;241m.\u001b[39mtolist())\n",
      "File \u001b[0;32m~/NLP_CW/DontPatroniseMe/venv/lib/python3.10/site-packages/simpletransformers/classification/classification_model.py:630\u001b[0m, in \u001b[0;36mClassificationModel.train_model\u001b[0;34m(self, train_df, multi_label, output_dir, show_running_loss, args, eval_df, verbose, **kwargs)\u001b[0m\n\u001b[1;32m    621\u001b[0m train_dataloader \u001b[38;5;241m=\u001b[39m DataLoader(\n\u001b[1;32m    622\u001b[0m     train_dataset,\n\u001b[1;32m    623\u001b[0m     sampler\u001b[38;5;241m=\u001b[39mtrain_sampler,\n\u001b[1;32m    624\u001b[0m     batch_size\u001b[38;5;241m=\u001b[39m\u001b[38;5;28mself\u001b[39m\u001b[38;5;241m.\u001b[39margs\u001b[38;5;241m.\u001b[39mtrain_batch_size,\n\u001b[1;32m    625\u001b[0m     num_workers\u001b[38;5;241m=\u001b[39m\u001b[38;5;28mself\u001b[39m\u001b[38;5;241m.\u001b[39margs\u001b[38;5;241m.\u001b[39mdataloader_num_workers,\n\u001b[1;32m    626\u001b[0m )\n\u001b[1;32m    628\u001b[0m os\u001b[38;5;241m.\u001b[39mmakedirs(output_dir, exist_ok\u001b[38;5;241m=\u001b[39m\u001b[38;5;28;01mTrue\u001b[39;00m)\n\u001b[0;32m--> 630\u001b[0m global_step, training_details \u001b[38;5;241m=\u001b[39m \u001b[38;5;28;43mself\u001b[39;49m\u001b[38;5;241;43m.\u001b[39;49m\u001b[43mtrain\u001b[49m\u001b[43m(\u001b[49m\n\u001b[1;32m    631\u001b[0m \u001b[43m    \u001b[49m\u001b[43mtrain_dataloader\u001b[49m\u001b[43m,\u001b[49m\n\u001b[1;32m    632\u001b[0m \u001b[43m    \u001b[49m\u001b[43moutput_dir\u001b[49m\u001b[43m,\u001b[49m\n\u001b[1;32m    633\u001b[0m \u001b[43m    \u001b[49m\u001b[43mmulti_label\u001b[49m\u001b[38;5;241;43m=\u001b[39;49m\u001b[43mmulti_label\u001b[49m\u001b[43m,\u001b[49m\n\u001b[1;32m    634\u001b[0m \u001b[43m    \u001b[49m\u001b[43mshow_running_loss\u001b[49m\u001b[38;5;241;43m=\u001b[39;49m\u001b[43mshow_running_loss\u001b[49m\u001b[43m,\u001b[49m\n\u001b[1;32m    635\u001b[0m \u001b[43m    \u001b[49m\u001b[43meval_df\u001b[49m\u001b[38;5;241;43m=\u001b[39;49m\u001b[43meval_df\u001b[49m\u001b[43m,\u001b[49m\n\u001b[1;32m    636\u001b[0m \u001b[43m    \u001b[49m\u001b[43mverbose\u001b[49m\u001b[38;5;241;43m=\u001b[39;49m\u001b[43mverbose\u001b[49m\u001b[43m,\u001b[49m\n\u001b[1;32m    637\u001b[0m \u001b[43m    \u001b[49m\u001b[38;5;241;43m*\u001b[39;49m\u001b[38;5;241;43m*\u001b[39;49m\u001b[43mkwargs\u001b[49m\u001b[43m,\u001b[49m\n\u001b[1;32m    638\u001b[0m \u001b[43m\u001b[49m\u001b[43m)\u001b[49m\n\u001b[1;32m    640\u001b[0m \u001b[38;5;66;03m# model_to_save = self.model.module if hasattr(self.model, \"module\") else self.model\u001b[39;00m\n\u001b[1;32m    641\u001b[0m \u001b[38;5;66;03m# model_to_save.save_pretrained(output_dir)\u001b[39;00m\n\u001b[1;32m    642\u001b[0m \u001b[38;5;66;03m# self.tokenizer.save_pretrained(output_dir)\u001b[39;00m\n\u001b[1;32m    643\u001b[0m \u001b[38;5;66;03m# torch.save(self.args, os.path.join(output_dir, \"training_args.bin\"))\u001b[39;00m\n\u001b[1;32m    644\u001b[0m \u001b[38;5;28mself\u001b[39m\u001b[38;5;241m.\u001b[39msave_model(model\u001b[38;5;241m=\u001b[39m\u001b[38;5;28mself\u001b[39m\u001b[38;5;241m.\u001b[39mmodel)\n",
      "File \u001b[0;32m~/NLP_CW/DontPatroniseMe/venv/lib/python3.10/site-packages/simpletransformers/classification/classification_model.py:903\u001b[0m, in \u001b[0;36mClassificationModel.train\u001b[0;34m(self, train_dataloader, output_dir, multi_label, show_running_loss, eval_df, test_df, verbose, **kwargs)\u001b[0m\n\u001b[1;32m    900\u001b[0m     steps_trained_in_current_epoch \u001b[38;5;241m-\u001b[39m\u001b[38;5;241m=\u001b[39m \u001b[38;5;241m1\u001b[39m\n\u001b[1;32m    901\u001b[0m     \u001b[38;5;28;01mcontinue\u001b[39;00m\n\u001b[0;32m--> 903\u001b[0m inputs \u001b[38;5;241m=\u001b[39m \u001b[38;5;28;43mself\u001b[39;49m\u001b[38;5;241;43m.\u001b[39;49m\u001b[43m_get_inputs_dict\u001b[49m\u001b[43m(\u001b[49m\u001b[43mbatch\u001b[49m\u001b[43m)\u001b[49m\n\u001b[1;32m    904\u001b[0m \u001b[38;5;28;01mif\u001b[39;00m \u001b[38;5;28mself\u001b[39m\u001b[38;5;241m.\u001b[39margs\u001b[38;5;241m.\u001b[39mfp16:\n\u001b[1;32m    905\u001b[0m     \u001b[38;5;28;01mwith\u001b[39;00m amp\u001b[38;5;241m.\u001b[39mautocast():\n",
      "File \u001b[0;32m~/NLP_CW/DontPatroniseMe/venv/lib/python3.10/site-packages/simpletransformers/classification/classification_model.py:2362\u001b[0m, in \u001b[0;36mClassificationModel._get_inputs_dict\u001b[0;34m(self, batch, no_hf)\u001b[0m\n\u001b[1;32m   2360\u001b[0m     \u001b[38;5;28;01mreturn\u001b[39;00m {key: value\u001b[38;5;241m.\u001b[39mto(\u001b[38;5;28mself\u001b[39m\u001b[38;5;241m.\u001b[39mdevice) \u001b[38;5;28;01mfor\u001b[39;00m key, value \u001b[38;5;129;01min\u001b[39;00m batch\u001b[38;5;241m.\u001b[39mitems()}\n\u001b[1;32m   2361\u001b[0m \u001b[38;5;28;01mif\u001b[39;00m \u001b[38;5;28misinstance\u001b[39m(batch[\u001b[38;5;241m0\u001b[39m], \u001b[38;5;28mdict\u001b[39m) \u001b[38;5;129;01mor\u001b[39;00m \u001b[38;5;28misinstance\u001b[39m(batch[\u001b[38;5;241m0\u001b[39m]\u001b[38;5;241m.\u001b[39mdata, \u001b[38;5;28mdict\u001b[39m):\n\u001b[0;32m-> 2362\u001b[0m     inputs \u001b[38;5;241m=\u001b[39m {\n\u001b[1;32m   2363\u001b[0m         key: value\u001b[38;5;241m.\u001b[39msqueeze(\u001b[38;5;241m1\u001b[39m)\u001b[38;5;241m.\u001b[39mto(\u001b[38;5;28mself\u001b[39m\u001b[38;5;241m.\u001b[39mdevice) \u001b[38;5;28;01mfor\u001b[39;00m key, value \u001b[38;5;129;01min\u001b[39;00m batch[\u001b[38;5;241m0\u001b[39m]\u001b[38;5;241m.\u001b[39mitems()\n\u001b[1;32m   2364\u001b[0m     }\n\u001b[1;32m   2365\u001b[0m     inputs[\u001b[38;5;124m\"\u001b[39m\u001b[38;5;124mlabels\u001b[39m\u001b[38;5;124m\"\u001b[39m] \u001b[38;5;241m=\u001b[39m batch[\u001b[38;5;241m1\u001b[39m]\u001b[38;5;241m.\u001b[39mto(\u001b[38;5;28mself\u001b[39m\u001b[38;5;241m.\u001b[39mdevice)\n\u001b[1;32m   2366\u001b[0m \u001b[38;5;28;01melse\u001b[39;00m:\n",
      "File \u001b[0;32m~/NLP_CW/DontPatroniseMe/venv/lib/python3.10/site-packages/simpletransformers/classification/classification_model.py:2363\u001b[0m, in \u001b[0;36m<dictcomp>\u001b[0;34m(.0)\u001b[0m\n\u001b[1;32m   2360\u001b[0m     \u001b[38;5;28;01mreturn\u001b[39;00m {key: value\u001b[38;5;241m.\u001b[39mto(\u001b[38;5;28mself\u001b[39m\u001b[38;5;241m.\u001b[39mdevice) \u001b[38;5;28;01mfor\u001b[39;00m key, value \u001b[38;5;129;01min\u001b[39;00m batch\u001b[38;5;241m.\u001b[39mitems()}\n\u001b[1;32m   2361\u001b[0m \u001b[38;5;28;01mif\u001b[39;00m \u001b[38;5;28misinstance\u001b[39m(batch[\u001b[38;5;241m0\u001b[39m], \u001b[38;5;28mdict\u001b[39m) \u001b[38;5;129;01mor\u001b[39;00m \u001b[38;5;28misinstance\u001b[39m(batch[\u001b[38;5;241m0\u001b[39m]\u001b[38;5;241m.\u001b[39mdata, \u001b[38;5;28mdict\u001b[39m):\n\u001b[1;32m   2362\u001b[0m     inputs \u001b[38;5;241m=\u001b[39m {\n\u001b[0;32m-> 2363\u001b[0m         key: \u001b[43mvalue\u001b[49m\u001b[38;5;241;43m.\u001b[39;49m\u001b[43msqueeze\u001b[49m\u001b[43m(\u001b[49m\u001b[38;5;241;43m1\u001b[39;49m\u001b[43m)\u001b[49m\u001b[38;5;241;43m.\u001b[39;49m\u001b[43mto\u001b[49m\u001b[43m(\u001b[49m\u001b[38;5;28;43mself\u001b[39;49m\u001b[38;5;241;43m.\u001b[39;49m\u001b[43mdevice\u001b[49m\u001b[43m)\u001b[49m \u001b[38;5;28;01mfor\u001b[39;00m key, value \u001b[38;5;129;01min\u001b[39;00m batch[\u001b[38;5;241m0\u001b[39m]\u001b[38;5;241m.\u001b[39mitems()\n\u001b[1;32m   2364\u001b[0m     }\n\u001b[1;32m   2365\u001b[0m     inputs[\u001b[38;5;124m\"\u001b[39m\u001b[38;5;124mlabels\u001b[39m\u001b[38;5;124m\"\u001b[39m] \u001b[38;5;241m=\u001b[39m batch[\u001b[38;5;241m1\u001b[39m]\u001b[38;5;241m.\u001b[39mto(\u001b[38;5;28mself\u001b[39m\u001b[38;5;241m.\u001b[39mdevice)\n\u001b[1;32m   2366\u001b[0m \u001b[38;5;28;01melse\u001b[39;00m:\n",
      "\u001b[0;31mRuntimeError\u001b[0m: CUDA error: an illegal memory access was encountered\nCUDA kernel errors might be asynchronously reported at some other API call, so the stacktrace below might be incorrect.\nFor debugging consider passing CUDA_LAUNCH_BLOCKING=1.\nCompile with `TORCH_USE_CUDA_DSA` to enable device-side assertions.\n"
     ]
    }
   ],
   "source": [
    "downsampling_results = {}\n",
    "# Downsampling train data\n",
    "for multiple in [1,2,3,4]:\n",
    "    train_label_1 = train_data[train_data.labels==1]\n",
    "    num_label_1 = len(train_label_1)\n",
    "    train_label_0 = train_data[train_data.labels==0][:num_label_1*multiple]\n",
    "    train_data_downsampled = pd.concat([train_label_1,train_label_0])\n",
    "    downsampling_results[multiple] = train_model(train_data_downsampled, val_data)"
   ]
  }
 ],
 "metadata": {
  "kernelspec": {
   "display_name": "Python 3 (ipykernel)",
   "language": "python",
   "name": "python3"
  },
  "language_info": {
   "codemirror_mode": {
    "name": "ipython",
    "version": 3
   },
   "file_extension": ".py",
   "mimetype": "text/x-python",
   "name": "python",
   "nbconvert_exporter": "python",
   "pygments_lexer": "ipython3",
   "version": "3.10.12"
  }
 },
 "nbformat": 4,
 "nbformat_minor": 5
}
