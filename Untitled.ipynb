{
 "cells": [
  {
   "cell_type": "code",
   "execution_count": 1,
   "id": "78b485e7-3012-413f-90fb-878af0fb9c29",
   "metadata": {},
   "outputs": [
    {
     "name": "stdout",
     "output_type": "stream",
     "text": [
      "Looking in indexes: https://pypi.org/simple, https://pypi.ngc.nvidia.com\n",
      "Requirement already satisfied: pandas in ./venv/lib/python3.10/site-packages (2.2.1)\n",
      "Requirement already satisfied: python-dateutil>=2.8.2 in ./venv/lib/python3.10/site-packages (from pandas) (2.8.2)\n",
      "Requirement already satisfied: pytz>=2020.1 in ./venv/lib/python3.10/site-packages (from pandas) (2024.1)\n",
      "Requirement already satisfied: numpy<2,>=1.22.4 in ./venv/lib/python3.10/site-packages (from pandas) (1.26.4)\n",
      "Requirement already satisfied: tzdata>=2022.7 in ./venv/lib/python3.10/site-packages (from pandas) (2024.1)\n",
      "Requirement already satisfied: six>=1.5 in ./venv/lib/python3.10/site-packages (from python-dateutil>=2.8.2->pandas) (1.16.0)\n",
      "Looking in indexes: https://pypi.org/simple, https://pypi.ngc.nvidia.com\n",
      "Requirement already satisfied: matplotlib in ./venv/lib/python3.10/site-packages (3.8.3)\n",
      "Requirement already satisfied: pillow>=8 in ./venv/lib/python3.10/site-packages (from matplotlib) (10.2.0)\n",
      "Requirement already satisfied: contourpy>=1.0.1 in ./venv/lib/python3.10/site-packages (from matplotlib) (1.2.0)\n",
      "Requirement already satisfied: python-dateutil>=2.7 in ./venv/lib/python3.10/site-packages (from matplotlib) (2.8.2)\n",
      "Requirement already satisfied: kiwisolver>=1.3.1 in ./venv/lib/python3.10/site-packages (from matplotlib) (1.4.5)\n",
      "Requirement already satisfied: fonttools>=4.22.0 in ./venv/lib/python3.10/site-packages (from matplotlib) (4.49.0)\n",
      "Requirement already satisfied: pyparsing>=2.3.1 in ./venv/lib/python3.10/site-packages (from matplotlib) (3.1.1)\n",
      "Requirement already satisfied: packaging>=20.0 in ./venv/lib/python3.10/site-packages (from matplotlib) (23.2)\n",
      "Requirement already satisfied: cycler>=0.10 in ./venv/lib/python3.10/site-packages (from matplotlib) (0.12.1)\n",
      "Requirement already satisfied: numpy<2,>=1.21 in ./venv/lib/python3.10/site-packages (from matplotlib) (1.26.4)\n",
      "Requirement already satisfied: six>=1.5 in ./venv/lib/python3.10/site-packages (from python-dateutil>=2.7->matplotlib) (1.16.0)\n",
      "Looking in indexes: https://pypi.org/simple, https://pypi.ngc.nvidia.com\n",
      "Requirement already satisfied: seaborn in ./venv/lib/python3.10/site-packages (0.13.2)\n",
      "Requirement already satisfied: numpy!=1.24.0,>=1.20 in ./venv/lib/python3.10/site-packages (from seaborn) (1.26.4)\n",
      "Requirement already satisfied: pandas>=1.2 in ./venv/lib/python3.10/site-packages (from seaborn) (2.2.1)\n",
      "Requirement already satisfied: matplotlib!=3.6.1,>=3.4 in ./venv/lib/python3.10/site-packages (from seaborn) (3.8.3)\n",
      "Requirement already satisfied: packaging>=20.0 in ./venv/lib/python3.10/site-packages (from matplotlib!=3.6.1,>=3.4->seaborn) (23.2)\n",
      "Requirement already satisfied: python-dateutil>=2.7 in ./venv/lib/python3.10/site-packages (from matplotlib!=3.6.1,>=3.4->seaborn) (2.8.2)\n",
      "Requirement already satisfied: fonttools>=4.22.0 in ./venv/lib/python3.10/site-packages (from matplotlib!=3.6.1,>=3.4->seaborn) (4.49.0)\n",
      "Requirement already satisfied: pyparsing>=2.3.1 in ./venv/lib/python3.10/site-packages (from matplotlib!=3.6.1,>=3.4->seaborn) (3.1.1)\n",
      "Requirement already satisfied: pillow>=8 in ./venv/lib/python3.10/site-packages (from matplotlib!=3.6.1,>=3.4->seaborn) (10.2.0)\n",
      "Requirement already satisfied: cycler>=0.10 in ./venv/lib/python3.10/site-packages (from matplotlib!=3.6.1,>=3.4->seaborn) (0.12.1)\n",
      "Requirement already satisfied: kiwisolver>=1.3.1 in ./venv/lib/python3.10/site-packages (from matplotlib!=3.6.1,>=3.4->seaborn) (1.4.5)\n",
      "Requirement already satisfied: contourpy>=1.0.1 in ./venv/lib/python3.10/site-packages (from matplotlib!=3.6.1,>=3.4->seaborn) (1.2.0)\n",
      "Requirement already satisfied: tzdata>=2022.7 in ./venv/lib/python3.10/site-packages (from pandas>=1.2->seaborn) (2024.1)\n",
      "Requirement already satisfied: pytz>=2020.1 in ./venv/lib/python3.10/site-packages (from pandas>=1.2->seaborn) (2024.1)\n",
      "Requirement already satisfied: six>=1.5 in ./venv/lib/python3.10/site-packages (from python-dateutil>=2.7->matplotlib!=3.6.1,>=3.4->seaborn) (1.16.0)\n",
      "Looking in indexes: https://pypi.org/simple, https://pypi.ngc.nvidia.com\n",
      "Requirement already satisfied: nltk in ./venv/lib/python3.10/site-packages (3.8.1)\n",
      "Requirement already satisfied: click in ./venv/lib/python3.10/site-packages (from nltk) (8.1.7)\n",
      "Requirement already satisfied: regex>=2021.8.3 in ./venv/lib/python3.10/site-packages (from nltk) (2023.12.25)\n",
      "Requirement already satisfied: joblib in ./venv/lib/python3.10/site-packages (from nltk) (1.3.2)\n",
      "Requirement already satisfied: tqdm in ./venv/lib/python3.10/site-packages (from nltk) (4.66.2)\n",
      "Looking in indexes: https://pypi.org/simple, https://pypi.ngc.nvidia.com\n",
      "Requirement already satisfied: simpletransformers in ./venv/lib/python3.10/site-packages (0.70.0)\n",
      "Requirement already satisfied: seqeval in ./venv/lib/python3.10/site-packages (from simpletransformers) (1.2.2)\n",
      "Requirement already satisfied: datasets in ./venv/lib/python3.10/site-packages (from simpletransformers) (2.17.1)\n",
      "Requirement already satisfied: tokenizers in ./venv/lib/python3.10/site-packages (from simpletransformers) (0.15.2)\n",
      "Requirement already satisfied: wandb>=0.10.32 in ./venv/lib/python3.10/site-packages (from simpletransformers) (0.16.3)\n",
      "Requirement already satisfied: transformers>=4.31.0 in ./venv/lib/python3.10/site-packages (from simpletransformers) (4.38.1)\n",
      "Requirement already satisfied: streamlit in ./venv/lib/python3.10/site-packages (from simpletransformers) (1.31.1)\n",
      "Requirement already satisfied: regex in ./venv/lib/python3.10/site-packages (from simpletransformers) (2023.12.25)\n",
      "Requirement already satisfied: tensorboardx in ./venv/lib/python3.10/site-packages (from simpletransformers) (2.6.2.2)\n",
      "Requirement already satisfied: pandas in ./venv/lib/python3.10/site-packages (from simpletransformers) (2.2.1)\n",
      "Requirement already satisfied: scikit-learn in ./venv/lib/python3.10/site-packages (from simpletransformers) (1.4.1.post1)\n",
      "Requirement already satisfied: scipy in ./venv/lib/python3.10/site-packages (from simpletransformers) (1.12.0)\n",
      "Requirement already satisfied: tqdm>=4.47.0 in ./venv/lib/python3.10/site-packages (from simpletransformers) (4.66.2)\n",
      "Requirement already satisfied: numpy in ./venv/lib/python3.10/site-packages (from simpletransformers) (1.26.4)\n",
      "Requirement already satisfied: tensorboard in ./venv/lib/python3.10/site-packages (from simpletransformers) (2.16.2)\n",
      "Requirement already satisfied: requests in ./venv/lib/python3.10/site-packages (from simpletransformers) (2.31.0)\n",
      "Requirement already satisfied: sentencepiece in ./venv/lib/python3.10/site-packages (from simpletransformers) (0.2.0)\n",
      "Requirement already satisfied: safetensors>=0.4.1 in ./venv/lib/python3.10/site-packages (from transformers>=4.31.0->simpletransformers) (0.4.2)\n",
      "Requirement already satisfied: huggingface-hub<1.0,>=0.19.3 in ./venv/lib/python3.10/site-packages (from transformers>=4.31.0->simpletransformers) (0.21.3)\n",
      "Requirement already satisfied: packaging>=20.0 in ./venv/lib/python3.10/site-packages (from transformers>=4.31.0->simpletransformers) (23.2)\n",
      "Requirement already satisfied: filelock in ./venv/lib/python3.10/site-packages (from transformers>=4.31.0->simpletransformers) (3.13.1)\n",
      "Requirement already satisfied: pyyaml>=5.1 in ./venv/lib/python3.10/site-packages (from transformers>=4.31.0->simpletransformers) (6.0.1)\n",
      "Requirement already satisfied: sentry-sdk>=1.0.0 in ./venv/lib/python3.10/site-packages (from wandb>=0.10.32->simpletransformers) (1.40.6)\n",
      "Requirement already satisfied: setproctitle in ./venv/lib/python3.10/site-packages (from wandb>=0.10.32->simpletransformers) (1.3.3)\n",
      "Requirement already satisfied: Click!=8.0.0,>=7.1 in ./venv/lib/python3.10/site-packages (from wandb>=0.10.32->simpletransformers) (8.1.7)\n",
      "Requirement already satisfied: docker-pycreds>=0.4.0 in ./venv/lib/python3.10/site-packages (from wandb>=0.10.32->simpletransformers) (0.4.0)\n",
      "Requirement already satisfied: appdirs>=1.4.3 in ./venv/lib/python3.10/site-packages (from wandb>=0.10.32->simpletransformers) (1.4.4)\n",
      "Requirement already satisfied: protobuf!=4.21.0,<5,>=3.19.0 in ./venv/lib/python3.10/site-packages (from wandb>=0.10.32->simpletransformers) (4.25.3)\n",
      "Requirement already satisfied: setuptools in ./venv/lib/python3.10/site-packages (from wandb>=0.10.32->simpletransformers) (59.6.0)\n",
      "Requirement already satisfied: GitPython!=3.1.29,>=1.0.0 in ./venv/lib/python3.10/site-packages (from wandb>=0.10.32->simpletransformers) (3.1.42)\n",
      "Requirement already satisfied: psutil>=5.0.0 in ./venv/lib/python3.10/site-packages (from wandb>=0.10.32->simpletransformers) (5.9.8)\n",
      "Requirement already satisfied: urllib3<3,>=1.21.1 in ./venv/lib/python3.10/site-packages (from requests->simpletransformers) (2.2.1)\n",
      "Requirement already satisfied: certifi>=2017.4.17 in ./venv/lib/python3.10/site-packages (from requests->simpletransformers) (2024.2.2)\n",
      "Requirement already satisfied: charset-normalizer<4,>=2 in ./venv/lib/python3.10/site-packages (from requests->simpletransformers) (3.3.2)\n",
      "Requirement already satisfied: idna<4,>=2.5 in ./venv/lib/python3.10/site-packages (from requests->simpletransformers) (3.6)\n",
      "Requirement already satisfied: pyarrow>=12.0.0 in ./venv/lib/python3.10/site-packages (from datasets->simpletransformers) (15.0.0)\n",
      "Requirement already satisfied: dill<0.3.9,>=0.3.0 in ./venv/lib/python3.10/site-packages (from datasets->simpletransformers) (0.3.8)\n",
      "Requirement already satisfied: fsspec[http]<=2023.10.0,>=2023.1.0 in ./venv/lib/python3.10/site-packages (from datasets->simpletransformers) (2023.10.0)\n",
      "Requirement already satisfied: xxhash in ./venv/lib/python3.10/site-packages (from datasets->simpletransformers) (3.4.1)\n",
      "Requirement already satisfied: pyarrow-hotfix in ./venv/lib/python3.10/site-packages (from datasets->simpletransformers) (0.6)\n",
      "Requirement already satisfied: multiprocess in ./venv/lib/python3.10/site-packages (from datasets->simpletransformers) (0.70.16)\n",
      "Requirement already satisfied: aiohttp in ./venv/lib/python3.10/site-packages (from datasets->simpletransformers) (3.9.3)\n",
      "Requirement already satisfied: tzdata>=2022.7 in ./venv/lib/python3.10/site-packages (from pandas->simpletransformers) (2024.1)\n",
      "Requirement already satisfied: pytz>=2020.1 in ./venv/lib/python3.10/site-packages (from pandas->simpletransformers) (2024.1)\n",
      "Requirement already satisfied: python-dateutil>=2.8.2 in ./venv/lib/python3.10/site-packages (from pandas->simpletransformers) (2.8.2)\n",
      "Requirement already satisfied: joblib>=1.2.0 in ./venv/lib/python3.10/site-packages (from scikit-learn->simpletransformers) (1.3.2)\n",
      "Requirement already satisfied: threadpoolctl>=2.0.0 in ./venv/lib/python3.10/site-packages (from scikit-learn->simpletransformers) (3.3.0)\n",
      "Requirement already satisfied: toml<2,>=0.10.1 in ./venv/lib/python3.10/site-packages (from streamlit->simpletransformers) (0.10.2)\n",
      "Requirement already satisfied: watchdog>=2.1.5 in ./venv/lib/python3.10/site-packages (from streamlit->simpletransformers) (4.0.0)\n",
      "Requirement already satisfied: pydeck<1,>=0.8.0b4 in ./venv/lib/python3.10/site-packages (from streamlit->simpletransformers) (0.8.1b0)\n",
      "Requirement already satisfied: rich<14,>=10.14.0 in ./venv/lib/python3.10/site-packages (from streamlit->simpletransformers) (13.7.1)\n",
      "Requirement already satisfied: tzlocal<6,>=1.1 in ./venv/lib/python3.10/site-packages (from streamlit->simpletransformers) (5.2)\n",
      "Requirement already satisfied: typing-extensions<5,>=4.3.0 in ./venv/lib/python3.10/site-packages (from streamlit->simpletransformers) (4.10.0)\n",
      "Requirement already satisfied: blinker<2,>=1.0.0 in ./venv/lib/python3.10/site-packages (from streamlit->simpletransformers) (1.7.0)\n",
      "Requirement already satisfied: pillow<11,>=7.1.0 in ./venv/lib/python3.10/site-packages (from streamlit->simpletransformers) (10.2.0)\n",
      "Requirement already satisfied: altair<6,>=4.0 in ./venv/lib/python3.10/site-packages (from streamlit->simpletransformers) (5.2.0)\n",
      "Requirement already satisfied: validators<1,>=0.2 in ./venv/lib/python3.10/site-packages (from streamlit->simpletransformers) (0.22.0)\n",
      "Requirement already satisfied: cachetools<6,>=4.0 in ./venv/lib/python3.10/site-packages (from streamlit->simpletransformers) (5.3.3)\n",
      "Requirement already satisfied: tenacity<9,>=8.1.0 in ./venv/lib/python3.10/site-packages (from streamlit->simpletransformers) (8.2.3)\n",
      "Requirement already satisfied: tornado<7,>=6.0.3 in ./venv/lib/python3.10/site-packages (from streamlit->simpletransformers) (6.4)\n",
      "Requirement already satisfied: importlib-metadata<8,>=1.4 in ./venv/lib/python3.10/site-packages (from streamlit->simpletransformers) (7.0.1)\n",
      "Requirement already satisfied: markdown>=2.6.8 in ./venv/lib/python3.10/site-packages (from tensorboard->simpletransformers) (3.5.2)\n",
      "Requirement already satisfied: absl-py>=0.4 in ./venv/lib/python3.10/site-packages (from tensorboard->simpletransformers) (2.1.0)\n",
      "Requirement already satisfied: six>1.9 in ./venv/lib/python3.10/site-packages (from tensorboard->simpletransformers) (1.16.0)\n",
      "Requirement already satisfied: grpcio>=1.48.2 in ./venv/lib/python3.10/site-packages (from tensorboard->simpletransformers) (1.62.0)\n",
      "Requirement already satisfied: tensorboard-data-server<0.8.0,>=0.7.0 in ./venv/lib/python3.10/site-packages (from tensorboard->simpletransformers) (0.7.2)\n",
      "Requirement already satisfied: werkzeug>=1.0.1 in ./venv/lib/python3.10/site-packages (from tensorboard->simpletransformers) (3.0.1)\n",
      "Requirement already satisfied: toolz in ./venv/lib/python3.10/site-packages (from altair<6,>=4.0->streamlit->simpletransformers) (0.12.1)\n",
      "Requirement already satisfied: jinja2 in ./venv/lib/python3.10/site-packages (from altair<6,>=4.0->streamlit->simpletransformers) (3.1.3)\n",
      "Requirement already satisfied: jsonschema>=3.0 in ./venv/lib/python3.10/site-packages (from altair<6,>=4.0->streamlit->simpletransformers) (4.21.1)\n",
      "Requirement already satisfied: attrs>=17.3.0 in ./venv/lib/python3.10/site-packages (from aiohttp->datasets->simpletransformers) (23.2.0)\n",
      "Requirement already satisfied: multidict<7.0,>=4.5 in ./venv/lib/python3.10/site-packages (from aiohttp->datasets->simpletransformers) (6.0.5)\n",
      "Requirement already satisfied: aiosignal>=1.1.2 in ./venv/lib/python3.10/site-packages (from aiohttp->datasets->simpletransformers) (1.3.1)\n",
      "Requirement already satisfied: async-timeout<5.0,>=4.0 in ./venv/lib/python3.10/site-packages (from aiohttp->datasets->simpletransformers) (4.0.3)\n",
      "Requirement already satisfied: frozenlist>=1.1.1 in ./venv/lib/python3.10/site-packages (from aiohttp->datasets->simpletransformers) (1.4.1)\n",
      "Requirement already satisfied: yarl<2.0,>=1.0 in ./venv/lib/python3.10/site-packages (from aiohttp->datasets->simpletransformers) (1.9.4)\n",
      "Requirement already satisfied: gitdb<5,>=4.0.1 in ./venv/lib/python3.10/site-packages (from GitPython!=3.1.29,>=1.0.0->wandb>=0.10.32->simpletransformers) (4.0.11)\n",
      "Requirement already satisfied: zipp>=0.5 in ./venv/lib/python3.10/site-packages (from importlib-metadata<8,>=1.4->streamlit->simpletransformers) (3.17.0)\n",
      "Requirement already satisfied: pygments<3.0.0,>=2.13.0 in ./venv/lib/python3.10/site-packages (from rich<14,>=10.14.0->streamlit->simpletransformers) (2.17.2)\n",
      "Requirement already satisfied: markdown-it-py>=2.2.0 in ./venv/lib/python3.10/site-packages (from rich<14,>=10.14.0->streamlit->simpletransformers) (3.0.0)\n",
      "Requirement already satisfied: MarkupSafe>=2.1.1 in ./venv/lib/python3.10/site-packages (from werkzeug>=1.0.1->tensorboard->simpletransformers) (2.1.5)\n",
      "Requirement already satisfied: smmap<6,>=3.0.1 in ./venv/lib/python3.10/site-packages (from gitdb<5,>=4.0.1->GitPython!=3.1.29,>=1.0.0->wandb>=0.10.32->simpletransformers) (5.0.1)\n",
      "Requirement already satisfied: rpds-py>=0.7.1 in ./venv/lib/python3.10/site-packages (from jsonschema>=3.0->altair<6,>=4.0->streamlit->simpletransformers) (0.18.0)\n",
      "Requirement already satisfied: jsonschema-specifications>=2023.03.6 in ./venv/lib/python3.10/site-packages (from jsonschema>=3.0->altair<6,>=4.0->streamlit->simpletransformers) (2023.12.1)\n",
      "Requirement already satisfied: referencing>=0.28.4 in ./venv/lib/python3.10/site-packages (from jsonschema>=3.0->altair<6,>=4.0->streamlit->simpletransformers) (0.33.0)\n",
      "Requirement already satisfied: mdurl~=0.1 in ./venv/lib/python3.10/site-packages (from markdown-it-py>=2.2.0->rich<14,>=10.14.0->streamlit->simpletransformers) (0.1.2)\n",
      "Looking in indexes: https://pypi.org/simple, https://pypi.ngc.nvidia.com\n",
      "Requirement already satisfied: scikit-learn in ./venv/lib/python3.10/site-packages (1.4.1.post1)\n",
      "Requirement already satisfied: threadpoolctl>=2.0.0 in ./venv/lib/python3.10/site-packages (from scikit-learn) (3.3.0)\n",
      "Requirement already satisfied: joblib>=1.2.0 in ./venv/lib/python3.10/site-packages (from scikit-learn) (1.3.2)\n",
      "Requirement already satisfied: scipy>=1.6.0 in ./venv/lib/python3.10/site-packages (from scikit-learn) (1.12.0)\n",
      "Requirement already satisfied: numpy<2.0,>=1.19.5 in ./venv/lib/python3.10/site-packages (from scikit-learn) (1.26.4)\n"
     ]
    }
   ],
   "source": [
    "!pip install pandas\n",
    "!pip install matplotlib\n",
    "!pip install seaborn\n",
    "!pip install nltk\n",
    "!pip install simpletransformers\n",
    "!pip install scikit-learn\n",
    "!pip install transformers"
   ]
  },
  {
   "cell_type": "code",
   "execution_count": 1,
   "id": "24fc5dde-99f3-4132-92e4-1273efe9fd92",
   "metadata": {},
   "outputs": [],
   "source": [
    "import pandas as pd\n",
    "import matplotlib.pyplot as plt\n",
    "import seaborn as sns\n",
    "import nltk\n",
    "import sklearn"
   ]
  },
  {
   "cell_type": "code",
   "execution_count": 2,
   "id": "9b94c6e5-4b01-4bb2-a7dc-cc14a0407448",
   "metadata": {},
   "outputs": [],
   "source": [
    "# defining code to load datasets\n",
    "data_root = \"data/raw_data/\"\n",
    "pcl_path = data_root + \"dontpatronizeme_pcl.tsv\"\n",
    "categories_path = data_root + \"dontpatronizeme_categories.tsv\"\n",
    "train_split_path = data_root + \"train_semeval_parids-labels.csv\"\n",
    "val_split_path = data_root + \"dev_semeval_parids-labels.csv\"\n",
    "# only load this for generating test results at the end!\n",
    "test_path = data_root + \"task4_test.tsv\"\n",
    "\n",
    "def load_pcl(pcl):\n",
    "    columns = ['par_id', 'art_id', 'keyword', 'country_code', 'text', 'label_original']\n",
    "    df = pd.read_csv(pcl, sep='\\t', skiprows=4, names=columns)\n",
    "    # get binary pcl label based on original label\n",
    "    df['label'] = (df['label_original'] > 1).astype(int)\n",
    "    return df\n",
    "\n",
    "def load_categories(categories):\n",
    "    columns = ['par_id', 'art_id', 'text', 'keyword', 'country_code', 'span_start', 'span_finish', 'span_text', 'pcl_category', 'number_of_annotators']\n",
    "    df = pd.read_csv(categories, sep='\\t', skiprows=4, names=columns)\n",
    "    return df\n",
    "\n",
    "def load_train_val_idx(train_path, val_path):\n",
    "    train_df = pd.read_csv(train_path, sep=\",\", header=0)\n",
    "    val_df = pd.read_csv(val_path, sep=\",\", header=0)\n",
    "    train_idx = train_df['par_id'].values\n",
    "    val_idx = val_df['par_id'].values\n",
    "    return train_idx, val_idx\n",
    "\n",
    "def load_test_data(test_path):\n",
    "    # test data has no label\n",
    "    columns = ['par_id', 'art_id', 'keyword', 'country_code', 'text']\n",
    "    # also, test data has no disclaimer at beginning\n",
    "    df = pd.read_csv(test_path, sep='\\t', names=columns)\n",
    "    return df"
   ]
  },
  {
   "cell_type": "code",
   "execution_count": 3,
   "id": "7d6b5b51-b099-427a-bef8-448bc60991bc",
   "metadata": {
    "scrolled": true
   },
   "outputs": [
    {
     "data": {
      "text/html": [
       "<div>\n",
       "<style scoped>\n",
       "    .dataframe tbody tr th:only-of-type {\n",
       "        vertical-align: middle;\n",
       "    }\n",
       "\n",
       "    .dataframe tbody tr th {\n",
       "        vertical-align: top;\n",
       "    }\n",
       "\n",
       "    .dataframe thead th {\n",
       "        text-align: right;\n",
       "    }\n",
       "</style>\n",
       "<table border=\"1\" class=\"dataframe\">\n",
       "  <thead>\n",
       "    <tr style=\"text-align: right;\">\n",
       "      <th></th>\n",
       "      <th>par_id</th>\n",
       "      <th>art_id</th>\n",
       "      <th>keyword</th>\n",
       "      <th>country_code</th>\n",
       "      <th>text</th>\n",
       "      <th>label_original</th>\n",
       "      <th>label</th>\n",
       "    </tr>\n",
       "  </thead>\n",
       "  <tbody>\n",
       "    <tr>\n",
       "      <th>0</th>\n",
       "      <td>1</td>\n",
       "      <td>@@24942188</td>\n",
       "      <td>hopeless</td>\n",
       "      <td>ph</td>\n",
       "      <td>We 're living in times of absolute insanity , ...</td>\n",
       "      <td>0</td>\n",
       "      <td>0</td>\n",
       "    </tr>\n",
       "    <tr>\n",
       "      <th>1</th>\n",
       "      <td>2</td>\n",
       "      <td>@@21968160</td>\n",
       "      <td>migrant</td>\n",
       "      <td>gh</td>\n",
       "      <td>In Libya today , there are countless number of...</td>\n",
       "      <td>0</td>\n",
       "      <td>0</td>\n",
       "    </tr>\n",
       "    <tr>\n",
       "      <th>2</th>\n",
       "      <td>3</td>\n",
       "      <td>@@16584954</td>\n",
       "      <td>immigrant</td>\n",
       "      <td>ie</td>\n",
       "      <td>White House press secretary Sean Spicer said t...</td>\n",
       "      <td>0</td>\n",
       "      <td>0</td>\n",
       "    </tr>\n",
       "    <tr>\n",
       "      <th>3</th>\n",
       "      <td>4</td>\n",
       "      <td>@@7811231</td>\n",
       "      <td>disabled</td>\n",
       "      <td>nz</td>\n",
       "      <td>Council customers only signs would be displaye...</td>\n",
       "      <td>0</td>\n",
       "      <td>0</td>\n",
       "    </tr>\n",
       "    <tr>\n",
       "      <th>4</th>\n",
       "      <td>5</td>\n",
       "      <td>@@1494111</td>\n",
       "      <td>refugee</td>\n",
       "      <td>ca</td>\n",
       "      <td>\" Just like we received migrants fleeing El Sa...</td>\n",
       "      <td>0</td>\n",
       "      <td>0</td>\n",
       "    </tr>\n",
       "    <tr>\n",
       "      <th>...</th>\n",
       "      <td>...</td>\n",
       "      <td>...</td>\n",
       "      <td>...</td>\n",
       "      <td>...</td>\n",
       "      <td>...</td>\n",
       "      <td>...</td>\n",
       "      <td>...</td>\n",
       "    </tr>\n",
       "    <tr>\n",
       "      <th>10464</th>\n",
       "      <td>10465</td>\n",
       "      <td>@@14297363</td>\n",
       "      <td>women</td>\n",
       "      <td>lk</td>\n",
       "      <td>Sri Lankan norms and culture inhibit women fro...</td>\n",
       "      <td>1</td>\n",
       "      <td>0</td>\n",
       "    </tr>\n",
       "    <tr>\n",
       "      <th>10465</th>\n",
       "      <td>10466</td>\n",
       "      <td>@@70091353</td>\n",
       "      <td>vulnerable</td>\n",
       "      <td>ph</td>\n",
       "      <td>He added that the AFP will continue to bank on...</td>\n",
       "      <td>0</td>\n",
       "      <td>0</td>\n",
       "    </tr>\n",
       "    <tr>\n",
       "      <th>10466</th>\n",
       "      <td>10467</td>\n",
       "      <td>@@20282330</td>\n",
       "      <td>in-need</td>\n",
       "      <td>ng</td>\n",
       "      <td>\" She has one huge platform , and information ...</td>\n",
       "      <td>3</td>\n",
       "      <td>1</td>\n",
       "    </tr>\n",
       "    <tr>\n",
       "      <th>10467</th>\n",
       "      <td>10468</td>\n",
       "      <td>@@16753236</td>\n",
       "      <td>hopeless</td>\n",
       "      <td>in</td>\n",
       "      <td>\" Anja Ringgren Loven I ca n't find a word to ...</td>\n",
       "      <td>4</td>\n",
       "      <td>1</td>\n",
       "    </tr>\n",
       "    <tr>\n",
       "      <th>10468</th>\n",
       "      <td>10469</td>\n",
       "      <td>@@16779383</td>\n",
       "      <td>homeless</td>\n",
       "      <td>ie</td>\n",
       "      <td>\" Guinness World Record of 540lbs of 7-layer m...</td>\n",
       "      <td>3</td>\n",
       "      <td>1</td>\n",
       "    </tr>\n",
       "  </tbody>\n",
       "</table>\n",
       "<p>10469 rows × 7 columns</p>\n",
       "</div>"
      ],
      "text/plain": [
       "       par_id      art_id     keyword country_code  \\\n",
       "0           1  @@24942188    hopeless           ph   \n",
       "1           2  @@21968160     migrant           gh   \n",
       "2           3  @@16584954   immigrant           ie   \n",
       "3           4   @@7811231    disabled           nz   \n",
       "4           5   @@1494111     refugee           ca   \n",
       "...       ...         ...         ...          ...   \n",
       "10464   10465  @@14297363       women           lk   \n",
       "10465   10466  @@70091353  vulnerable           ph   \n",
       "10466   10467  @@20282330     in-need           ng   \n",
       "10467   10468  @@16753236    hopeless           in   \n",
       "10468   10469  @@16779383    homeless           ie   \n",
       "\n",
       "                                                    text  label_original  \\\n",
       "0      We 're living in times of absolute insanity , ...               0   \n",
       "1      In Libya today , there are countless number of...               0   \n",
       "2      White House press secretary Sean Spicer said t...               0   \n",
       "3      Council customers only signs would be displaye...               0   \n",
       "4      \" Just like we received migrants fleeing El Sa...               0   \n",
       "...                                                  ...             ...   \n",
       "10464  Sri Lankan norms and culture inhibit women fro...               1   \n",
       "10465  He added that the AFP will continue to bank on...               0   \n",
       "10466  \" She has one huge platform , and information ...               3   \n",
       "10467  \" Anja Ringgren Loven I ca n't find a word to ...               4   \n",
       "10468  \" Guinness World Record of 540lbs of 7-layer m...               3   \n",
       "\n",
       "       label  \n",
       "0          0  \n",
       "1          0  \n",
       "2          0  \n",
       "3          0  \n",
       "4          0  \n",
       "...      ...  \n",
       "10464      0  \n",
       "10465      0  \n",
       "10466      1  \n",
       "10467      1  \n",
       "10468      1  \n",
       "\n",
       "[10469 rows x 7 columns]"
      ]
     },
     "execution_count": 3,
     "metadata": {},
     "output_type": "execute_result"
    }
   ],
   "source": [
    "pcl_df = load_pcl(pcl_path)\n",
    "pcl_df"
   ]
  },
  {
   "cell_type": "code",
   "execution_count": 34,
   "id": "880c752d-348e-4b04-a3b8-17460532e22b",
   "metadata": {},
   "outputs": [
    {
     "name": "stdout",
     "output_type": "stream",
     "text": [
      "keyword\n",
      "migrant          1089\n",
      "in-need          1082\n",
      "vulnerable       1080\n",
      "homeless         1077\n",
      "women            1070\n",
      "refugee          1068\n",
      "immigrant        1061\n",
      "disabled         1028\n",
      "hopeless         1005\n",
      "poor-families     909\n",
      "Name: count, dtype: int64\n"
     ]
    }
   ],
   "source": [
    "value_counts = pcl_df['keyword'].value_counts()\n",
    "print(value_counts)"
   ]
  },
  {
   "cell_type": "code",
   "execution_count": 5,
   "id": "4b3e52ee-a67e-4db2-9acf-0530dca5d7f8",
   "metadata": {},
   "outputs": [
    {
     "data": {
      "text/plain": [
       "par_id            0\n",
       "art_id            0\n",
       "keyword           0\n",
       "country_code      0\n",
       "text              1\n",
       "label_original    0\n",
       "label             0\n",
       "dtype: int64"
      ]
     },
     "execution_count": 5,
     "metadata": {},
     "output_type": "execute_result"
    }
   ],
   "source": [
    "pcl_df.isna().sum()"
   ]
  },
  {
   "cell_type": "code",
   "execution_count": 6,
   "id": "17217fc0-1d55-41c8-8f51-6e38fccf9510",
   "metadata": {},
   "outputs": [
    {
     "data": {
      "text/html": [
       "<div>\n",
       "<style scoped>\n",
       "    .dataframe tbody tr th:only-of-type {\n",
       "        vertical-align: middle;\n",
       "    }\n",
       "\n",
       "    .dataframe tbody tr th {\n",
       "        vertical-align: top;\n",
       "    }\n",
       "\n",
       "    .dataframe thead th {\n",
       "        text-align: right;\n",
       "    }\n",
       "</style>\n",
       "<table border=\"1\" class=\"dataframe\">\n",
       "  <thead>\n",
       "    <tr style=\"text-align: right;\">\n",
       "      <th></th>\n",
       "      <th>par_id</th>\n",
       "      <th>art_id</th>\n",
       "      <th>keyword</th>\n",
       "      <th>country_code</th>\n",
       "      <th>text</th>\n",
       "      <th>label_original</th>\n",
       "      <th>label</th>\n",
       "    </tr>\n",
       "  </thead>\n",
       "  <tbody>\n",
       "    <tr>\n",
       "      <th>8639</th>\n",
       "      <td>8640</td>\n",
       "      <td>@@16852855</td>\n",
       "      <td>migrant</td>\n",
       "      <td>ke</td>\n",
       "      <td>NaN</td>\n",
       "      <td>0</td>\n",
       "      <td>0</td>\n",
       "    </tr>\n",
       "  </tbody>\n",
       "</table>\n",
       "</div>"
      ],
      "text/plain": [
       "      par_id      art_id  keyword country_code text  label_original  label\n",
       "8639    8640  @@16852855  migrant           ke  NaN               0      0"
      ]
     },
     "execution_count": 6,
     "metadata": {},
     "output_type": "execute_result"
    }
   ],
   "source": [
    "pcl_df[pcl_df['text'].isna()]"
   ]
  },
  {
   "cell_type": "code",
   "execution_count": 4,
   "id": "bce276e7-5777-4433-bdb4-998458448a36",
   "metadata": {},
   "outputs": [],
   "source": [
    "# Replacing the missing text with \"\"\n",
    "pcl_df['text'] = pcl_df['text'].fillna('')"
   ]
  },
  {
   "cell_type": "code",
   "execution_count": 8,
   "id": "0d0ba714-6ee7-43dc-8e4b-0495e44877d2",
   "metadata": {},
   "outputs": [
    {
     "data": {
      "text/plain": [
       "par_id            0\n",
       "art_id            0\n",
       "keyword           0\n",
       "country_code      0\n",
       "text              0\n",
       "label_original    0\n",
       "label             0\n",
       "dtype: int64"
      ]
     },
     "execution_count": 8,
     "metadata": {},
     "output_type": "execute_result"
    }
   ],
   "source": [
    "pcl_df.isna().sum()"
   ]
  },
  {
   "cell_type": "code",
   "execution_count": 9,
   "id": "6082ac01-0d8b-4c36-ab81-68a288b45425",
   "metadata": {},
   "outputs": [],
   "source": [
    "pcl_df['text_length'] = pcl_df['text'].apply(lambda x: len(x))"
   ]
  },
  {
   "cell_type": "code",
   "execution_count": 10,
   "id": "a6329beb-8a2d-4cdd-872e-934bb6878fa6",
   "metadata": {
    "scrolled": true
   },
   "outputs": [
    {
     "data": {
      "text/html": [
       "<div>\n",
       "<style scoped>\n",
       "    .dataframe tbody tr th:only-of-type {\n",
       "        vertical-align: middle;\n",
       "    }\n",
       "\n",
       "    .dataframe tbody tr th {\n",
       "        vertical-align: top;\n",
       "    }\n",
       "\n",
       "    .dataframe thead th {\n",
       "        text-align: right;\n",
       "    }\n",
       "</style>\n",
       "<table border=\"1\" class=\"dataframe\">\n",
       "  <thead>\n",
       "    <tr style=\"text-align: right;\">\n",
       "      <th></th>\n",
       "      <th>par_id</th>\n",
       "      <th>art_id</th>\n",
       "      <th>keyword</th>\n",
       "      <th>country_code</th>\n",
       "      <th>text</th>\n",
       "      <th>label_original</th>\n",
       "      <th>label</th>\n",
       "      <th>text_length</th>\n",
       "    </tr>\n",
       "  </thead>\n",
       "  <tbody>\n",
       "    <tr>\n",
       "      <th>0</th>\n",
       "      <td>1</td>\n",
       "      <td>@@24942188</td>\n",
       "      <td>hopeless</td>\n",
       "      <td>ph</td>\n",
       "      <td>We 're living in times of absolute insanity , ...</td>\n",
       "      <td>0</td>\n",
       "      <td>0</td>\n",
       "      <td>620</td>\n",
       "    </tr>\n",
       "    <tr>\n",
       "      <th>1</th>\n",
       "      <td>2</td>\n",
       "      <td>@@21968160</td>\n",
       "      <td>migrant</td>\n",
       "      <td>gh</td>\n",
       "      <td>In Libya today , there are countless number of...</td>\n",
       "      <td>0</td>\n",
       "      <td>0</td>\n",
       "      <td>237</td>\n",
       "    </tr>\n",
       "    <tr>\n",
       "      <th>2</th>\n",
       "      <td>3</td>\n",
       "      <td>@@16584954</td>\n",
       "      <td>immigrant</td>\n",
       "      <td>ie</td>\n",
       "      <td>White House press secretary Sean Spicer said t...</td>\n",
       "      <td>0</td>\n",
       "      <td>0</td>\n",
       "      <td>158</td>\n",
       "    </tr>\n",
       "    <tr>\n",
       "      <th>3</th>\n",
       "      <td>4</td>\n",
       "      <td>@@7811231</td>\n",
       "      <td>disabled</td>\n",
       "      <td>nz</td>\n",
       "      <td>Council customers only signs would be displaye...</td>\n",
       "      <td>0</td>\n",
       "      <td>0</td>\n",
       "      <td>162</td>\n",
       "    </tr>\n",
       "    <tr>\n",
       "      <th>4</th>\n",
       "      <td>5</td>\n",
       "      <td>@@1494111</td>\n",
       "      <td>refugee</td>\n",
       "      <td>ca</td>\n",
       "      <td>\" Just like we received migrants fleeing El Sa...</td>\n",
       "      <td>0</td>\n",
       "      <td>0</td>\n",
       "      <td>273</td>\n",
       "    </tr>\n",
       "  </tbody>\n",
       "</table>\n",
       "</div>"
      ],
      "text/plain": [
       "   par_id      art_id    keyword country_code  \\\n",
       "0       1  @@24942188   hopeless           ph   \n",
       "1       2  @@21968160    migrant           gh   \n",
       "2       3  @@16584954  immigrant           ie   \n",
       "3       4   @@7811231   disabled           nz   \n",
       "4       5   @@1494111    refugee           ca   \n",
       "\n",
       "                                                text  label_original  label  \\\n",
       "0  We 're living in times of absolute insanity , ...               0      0   \n",
       "1  In Libya today , there are countless number of...               0      0   \n",
       "2  White House press secretary Sean Spicer said t...               0      0   \n",
       "3  Council customers only signs would be displaye...               0      0   \n",
       "4  \" Just like we received migrants fleeing El Sa...               0      0   \n",
       "\n",
       "   text_length  \n",
       "0          620  \n",
       "1          237  \n",
       "2          158  \n",
       "3          162  \n",
       "4          273  "
      ]
     },
     "execution_count": 10,
     "metadata": {},
     "output_type": "execute_result"
    }
   ],
   "source": [
    "pcl_df.head()"
   ]
  },
  {
   "cell_type": "markdown",
   "id": "96b62a90-712e-4370-87e7-8eecad113e0e",
   "metadata": {},
   "source": [
    "## Part 1 Data Analysis"
   ]
  },
  {
   "cell_type": "code",
   "execution_count": 43,
   "id": "bcc6d661-53c2-498c-bcf9-7020caa5a926",
   "metadata": {},
   "outputs": [
    {
     "name": "stdout",
     "output_type": "stream",
     "text": [
      "Counts and percentages per label:\n",
      "Label 0: Count = 9476, Percentage = 90.51%\n",
      "Label 1: Count = 993, Percentage = 9.49%\n"
     ]
    }
   ],
   "source": [
    "grouped = pcl_df.groupby('label')\n",
    "\n",
    "# Count the number of rows with each label\n",
    "count_per_label = grouped.size()\n",
    "percentages = (count_per_label / len(pcl_df)) * 100\n",
    "\n",
    "print(\"Counts and percentages per label:\")\n",
    "for label in count_per_label.index:\n",
    "    print(f\"Label {label}: Count = {count_per_label[label]}, Percentage = {percentages[label]:.2f}%\")"
   ]
  },
  {
   "cell_type": "code",
   "execution_count": 44,
   "id": "271c3a92-f8dc-4f91-a278-9c7d70d98294",
   "metadata": {},
   "outputs": [
    {
     "name": "stdout",
     "output_type": "stream",
     "text": [
      "\n",
      "Mean text length per label:\n",
      "Label 0: Mean text length = 264.36\n",
      "Label 1: Mean text length = 287.06\n"
     ]
    }
   ],
   "source": [
    "# Calculate the average value of 'text_length' for each label\n",
    "mean_text_length_per_label = grouped['text_length'].mean()\n",
    "print(\"\\nMean text length per label:\")\n",
    "for label in mean_text_length_per_label.index:\n",
    "    print(f\"Label {label}: Mean text length = {mean_text_length_per_label[label]:.2f}\")"
   ]
  },
  {
   "cell_type": "code",
   "execution_count": 45,
   "id": "2e450abc-93f8-4a42-aa9f-c5825600494d",
   "metadata": {},
   "outputs": [
    {
     "name": "stdout",
     "output_type": "stream",
     "text": [
      "Counts and percentages per label:\n",
      "Label 0: Count = 8529, Percentage = 81.47%\n",
      "Label 1: Count = 947, Percentage = 9.05%\n",
      "Label 2: Count = 144, Percentage = 1.38%\n",
      "Label 3: Count = 458, Percentage = 4.37%\n",
      "Label 4: Count = 391, Percentage = 3.73%\n"
     ]
    }
   ],
   "source": [
    "grouped = pcl_df.groupby('label_original')\n",
    "\n",
    "# Count the number of rows with each label\n",
    "count_per_label = grouped.size()\n",
    "percentages = (count_per_label / len(pcl_df)) * 100\n",
    "\n",
    "print(\"Counts and percentages per label:\")\n",
    "for label in count_per_label.index:\n",
    "    print(f\"Label {label}: Count = {count_per_label[label]}, Percentage = {percentages[label]:.2f}%\")"
   ]
  },
  {
   "cell_type": "code",
   "execution_count": 46,
   "id": "c0a7dda8-0d17-4326-8d99-e4e3e29ae7cd",
   "metadata": {},
   "outputs": [
    {
     "name": "stdout",
     "output_type": "stream",
     "text": [
      "\n",
      "Mean text length per label:\n",
      "Label 0: Mean text length = 262.31\n",
      "Label 1: Mean text length = 282.82\n",
      "Label 2: Mean text length = 269.27\n",
      "Label 3: Mean text length = 277.38\n",
      "Label 4: Mean text length = 304.95\n"
     ]
    }
   ],
   "source": [
    "# Calculate the average value of 'text_length' for each label\n",
    "mean_text_length_per_label = grouped['text_length'].mean()\n",
    "print(\"\\nMean text length per label:\")\n",
    "for label in mean_text_length_per_label.index:\n",
    "    print(f\"Label {label}: Mean text length = {mean_text_length_per_label[label]:.2f}\")"
   ]
  },
  {
   "cell_type": "code",
   "execution_count": 47,
   "id": "043dc0b4-b9cb-4a01-b3db-cc342a4baf87",
   "metadata": {
    "scrolled": true
   },
   "outputs": [
    {
     "data": {
      "image/png": "[encoded data removed]",
      "text/plain": [
       "<Figure size 1000x500 with 2 Axes>"
      ]
     },
     "metadata": {},
     "output_type": "display_data"
    }
   ],
   "source": [
    "# Create subplots for each label\n",
    "fig, axs = plt.subplots(1, 2, figsize=(10, 5))\n",
    "\n",
    "# Plot histograms of 'text_length' for each label\n",
    "for ax, (label, group) in zip(axs, grouped):\n",
    "    ax.hist(group['text_length'], bins=100)\n",
    "    ax.axvline(group['text_length'].mean(), color='red', linestyle='dotted', linewidth=2)\n",
    "    ax.set_title(f'Label {label}')\n",
    "    ax.set_xlabel('Text Length')\n",
    "    ax.set_ylabel('Frequency')\n",
    "\n",
    "plt.suptitle('Histogram of Text Length for Each Label with Mean')\n",
    "plt.tight_layout()\n",
    "plt.show()"
   ]
  },
  {
   "cell_type": "code",
   "execution_count": 48,
   "id": "e2dd8e9e-8db9-423c-a2f8-8e1f84d4d2de",
   "metadata": {},
   "outputs": [
    {
     "data": {
      "text/plain": [
       "<Figure size 1000x600 with 0 Axes>"
      ]
     },
     "metadata": {},
     "output_type": "display_data"
    },
    {
     "data": {
      "image/png": "[encoded data removed]",
      "text/plain": [
       "<Figure size 640x480 with 1 Axes>"
      ]
     },
     "metadata": {},
     "output_type": "display_data"
    }
   ],
   "source": [
    "# Count of each label for each country code\n",
    "label_counts = pd.crosstab(pcl_df['country_code'], pcl_df['label'])\n",
    "\n",
    "# Sort bars by total count for each country code\n",
    "total_counts = label_counts.sum(axis=1).sort_values(ascending=False).index\n",
    "label_counts = label_counts.loc[total_counts]\n",
    "\n",
    "# Plot stacked bar plot\n",
    "plt.figure(figsize=(10, 6))\n",
    "label_counts.plot(kind='bar', stacked=True, colormap='coolwarm')\n",
    "plt.title('Label Distribution by Country Code')\n",
    "plt.xlabel('Country Code')\n",
    "plt.ylabel('Count')\n",
    "plt.legend(title='Label', loc='upper right', fontsize='6')\n",
    "plt.show()"
   ]
  },
  {
   "cell_type": "code",
   "execution_count": 49,
   "id": "8a69fa2b-1672-4684-b9d7-6a1bc8c5c01f",
   "metadata": {
    "scrolled": true
   },
   "outputs": [
    {
     "data": {
      "image/png": "[encoded data removed]",
      "text/plain": [
       "<Figure size 1000x600 with 1 Axes>"
      ]
     },
     "metadata": {},
     "output_type": "display_data"
    }
   ],
   "source": [
    "# Calculate the percentage of 1 labels for each country code\n",
    "label_percentage = pcl_df.groupby('country_code')['label'].mean() * 100\n",
    "label_percentage = label_percentage.reset_index().sort_values(by='label', ascending=False)\n",
    "\n",
    "# Plot percentage of 1 labels for each country code\n",
    "plt.figure(figsize=(10, 6))\n",
    "sns.barplot(data=label_percentage, x='country_code', y='label')\n",
    "plt.title('Percentage of 1 Labels by Country Code')\n",
    "plt.xlabel('Country Code')\n",
    "plt.ylabel('Percentage of 1 Labels')\n",
    "plt.show()"
   ]
  },
  {
   "cell_type": "code",
   "execution_count": 50,
   "id": "3cea1171-4948-4207-a154-6a75d7a5301f",
   "metadata": {
    "scrolled": true
   },
   "outputs": [
    {
     "data": {
      "text/plain": [
       "<Figure size 1000x600 with 0 Axes>"
      ]
     },
     "metadata": {},
     "output_type": "display_data"
    },
    {
     "data": {
      "image/png": "[encoded data removed]",
      "text/plain": [
       "<Figure size 640x480 with 1 Axes>"
      ]
     },
     "metadata": {},
     "output_type": "display_data"
    }
   ],
   "source": [
    "# Count of each label for each country code\n",
    "label_counts = pd.crosstab(pcl_df['keyword'], pcl_df['label'])\n",
    "\n",
    "# Sort bars by total count for each country code\n",
    "total_counts = label_counts.sum(axis=1).sort_values(ascending=False).index\n",
    "label_counts = label_counts.loc[total_counts]\n",
    "\n",
    "# Plot stacked bar plot\n",
    "plt.figure(figsize=(10, 6))\n",
    "label_counts.plot(kind='bar', stacked=True, colormap='coolwarm')\n",
    "plt.title('Label Distribution by Keyword')\n",
    "plt.xlabel('Keyword')\n",
    "plt.ylabel('Count')\n",
    "plt.legend(title='Label', loc='upper right', fontsize='6')\n",
    "plt.show()"
   ]
  },
  {
   "cell_type": "code",
   "execution_count": 51,
   "id": "d60cb956-59cc-4947-b4be-e50478df2f13",
   "metadata": {
    "scrolled": true
   },
   "outputs": [
    {
     "data": {
      "image/png": "[encoded data removed]",
      "text/plain": [
       "<Figure size 1000x600 with 1 Axes>"
      ]
     },
     "metadata": {},
     "output_type": "display_data"
    }
   ],
   "source": [
    "# Calculate the percentage of 1 labels for each keyword\n",
    "label_percentage = pcl_df.groupby('keyword')['label'].mean() * 100\n",
    "label_percentage = label_percentage.reset_index().sort_values(by='label', ascending=False)\n",
    "\n",
    "# Plot percentage of 1 labels for each country code\n",
    "plt.figure(figsize=(10, 6))\n",
    "sns.barplot(data=label_percentage, x='keyword', y='label')\n",
    "plt.title('Percentage of 1 Labels by Keyword')\n",
    "plt.xlabel('Keyword')\n",
    "plt.ylabel('Percentage of 1 Labels')\n",
    "plt.show()"
   ]
  },
  {
   "cell_type": "markdown",
   "id": "511f4657-904b-4325-acb2-32fe656c93e0",
   "metadata": {},
   "source": [
    "### Preprocessing"
   ]
  },
  {
   "cell_type": "code",
   "execution_count": 5,
   "id": "b26b139a-8954-49d6-a58f-879007daf357",
   "metadata": {},
   "outputs": [
    {
     "name": "stderr",
     "output_type": "stream",
     "text": [
      "[nltk_data] Downloading package stopwords to\n",
      "[nltk_data]     /home/jonezia/nltk_data...\n",
      "[nltk_data]   Package stopwords is already up-to-date!\n",
      "[nltk_data] Downloading package wordnet to /home/jonezia/nltk_data...\n",
      "[nltk_data]   Package wordnet is already up-to-date!\n",
      "[nltk_data] Downloading package punkt to /home/jonezia/nltk_data...\n",
      "[nltk_data]   Package punkt is already up-to-date!\n"
     ]
    }
   ],
   "source": [
    "nltk.download('stopwords')\n",
    "nltk.download('wordnet')\n",
    "nltk.download('punkt')\n",
    "\n",
    "import re\n",
    "import nltk\n",
    "from nltk.tokenize import word_tokenize\n",
    "from nltk.stem import PorterStemmer, WordNetLemmatizer\n",
    "from nltk.corpus import stopwords\n",
    "\n",
    "# Function to preprocess text\n",
    "def preprocess_text(text, lowercase=False, remove_punctuation=False, remove_stopwords=False, stemming=False, lemmatization=False):\n",
    "    assert(not (stemming and lemmatization))\n",
    "    # Lowercasing\n",
    "    if lowercase:\n",
    "        text = text.lower()\n",
    "    # Removing punctuation\n",
    "    if remove_punctuation:\n",
    "        text = re.sub(r'[^\\w\\s]', '', text)\n",
    "    # Tokenization\n",
    "    tokens = word_tokenize(text)\n",
    "    # Removing stopwords\n",
    "    if remove_stopwords:\n",
    "        stop_words = set(stopwords.words('english'))\n",
    "        tokens = [word for word in tokens if word not in stop_words]\n",
    "    # Stemming\n",
    "    if stemming:\n",
    "        porter = PorterStemmer()\n",
    "        tokens = [porter.stem(word) for word in tokens]\n",
    "    # Lemmatization\n",
    "    if lemmatization:\n",
    "        lemmatizer = WordNetLemmatizer()\n",
    "        tokens = [lemmatizer.lemmatize(word) for word in tokens]\n",
    "    # Joining tokens back into text\n",
    "    processed_text = ' '.join(tokens)\n",
    "    return processed_text\n",
    "\n",
    "# Apply preprocessing function to text column\n",
    "pcl_df['preprocessed_text'] = pcl_df['text'].apply(preprocess_text, lowercase=True, remove_punctuation=True, remove_stopwords=True, lemmatization=True)"
   ]
  },
  {
   "cell_type": "code",
   "execution_count": 6,
   "id": "e061679a-82e3-4201-8dc9-c96bba3d9b1c",
   "metadata": {},
   "outputs": [
    {
     "name": "stdout",
     "output_type": "stream",
     "text": [
      "We 're living in times of absolute insanity , as I 'm pretty sure most people are aware . For a while , waking up every day to check the news seemed to carry with it the same feeling of panic and dread that action heroes probably face when they 're trying to decide whether to cut the blue or green wire on a ticking bomb -- except the bomb 's instructions long ago burned in a fire and imminent catastrophe seems the likeliest outcome . It 's hard to stay that on-edge for that long , though , so it 's natural for people to become inured to this constant chaos , to slump into a malaise of hopelessness and pessimism .\n",
      "\n",
      "living time absolute insanity pretty sure people aware waking every day check news seemed carry feeling panic dread action hero probably face trying decide whether cut blue green wire ticking bomb except bomb instruction long ago burned fire imminent catastrophe seems likeliest outcome hard stay onedge long though natural people become inured constant chaos slump malaise hopelessness pessimism\n"
     ]
    }
   ],
   "source": [
    "print(pcl_df.iloc[0]['text'])\n",
    "print()\n",
    "print(pcl_df.iloc[0]['preprocessed_text'])"
   ]
  },
  {
   "cell_type": "code",
   "execution_count": 54,
   "id": "eb0e9e49-4d4a-4fd3-82af-c6c0edb1292c",
   "metadata": {},
   "outputs": [
    {
     "data": {
      "image/png": "[encoded data removed]",
      "text/plain": [
       "<Figure size 1000x500 with 1 Axes>"
      ]
     },
     "metadata": {},
     "output_type": "display_data"
    },
    {
     "data": {
      "image/png": "[encoded data removed]",
      "text/plain": [
       "<Figure size 1000x500 with 1 Axes>"
      ]
     },
     "metadata": {},
     "output_type": "display_data"
    }
   ],
   "source": [
    "from collections import Counter\n",
    "\n",
    "# Separate preprocessed text associated with label 0 and label 1\n",
    "text_label_0 = ' '.join(pcl_df[pcl_df['label'] == 0]['preprocessed_text'])\n",
    "text_label_1 = ' '.join(pcl_df[pcl_df['label'] == 1]['preprocessed_text'])\n",
    "\n",
    "# Tokenize the text to extract individual words\n",
    "tokens_label_0 = word_tokenize(text_label_0)\n",
    "tokens_label_1 = word_tokenize(text_label_1)\n",
    "\n",
    "# Count the frequency of each word in each bag of words\n",
    "word_freq_label_0 = Counter(tokens_label_0)\n",
    "word_freq_label_1 = Counter(tokens_label_1)\n",
    "\n",
    "# Plot for Label 0\n",
    "plt.figure(figsize=(10, 5))\n",
    "sns.barplot(x=[pair[0] for pair in word_freq_label_0.most_common(10)], y=[pair[1] for pair in word_freq_label_0.most_common(10)])\n",
    "plt.title('Top 10 Most Common Words for Label 0', fontsize=16)\n",
    "plt.xlabel('Word', fontsize=14)\n",
    "plt.ylabel('Frequency', fontsize=14)\n",
    "plt.xticks(rotation=45, fontsize=12)\n",
    "plt.tight_layout()\n",
    "plt.show()\n",
    "\n",
    "# Plot for Label 1\n",
    "plt.figure(figsize=(10, 5))\n",
    "sns.barplot(x=[pair[0] for pair in word_freq_label_1.most_common(10)], y=[pair[1] for pair in word_freq_label_1.most_common(10)])\n",
    "plt.title('Top 10 Most Common Words for Label 1', fontsize=16)\n",
    "plt.xlabel('Word', fontsize=14)\n",
    "plt.ylabel('Frequency', fontsize=14)\n",
    "plt.xticks(rotation=45, fontsize=12)\n",
    "plt.tight_layout()\n",
    "plt.show()"
   ]
  },
  {
   "cell_type": "markdown",
   "id": "e14b115b-287a-40cb-b26a-55c3c7adb53f",
   "metadata": {},
   "source": [
    "## Model\n",
    "First, we split the data into train/val/test. I use the official validation set as my \"test\" data, and split the official train set to form the validation and training datasets."
   ]
  },
  {
   "cell_type": "code",
   "execution_count": 7,
   "id": "38714183-0b3b-4e3c-a9af-5c6fa12ac042",
   "metadata": {},
   "outputs": [
    {
     "name": "stdout",
     "output_type": "stream",
     "text": [
      "(8375,)\n",
      "(2094,)\n"
     ]
    }
   ],
   "source": [
    "official_train_idx, official_val_idx = load_train_val_idx(train_split_path, val_split_path)\n",
    "print(official_train_idx.shape)\n",
    "print(official_val_idx.shape)"
   ]
  },
  {
   "cell_type": "code",
   "execution_count": 8,
   "id": "41ab545b-f06e-4b51-b8f2-be3e8114f9a3",
   "metadata": {},
   "outputs": [
    {
     "name": "stdout",
     "output_type": "stream",
     "text": [
      "Train data: 6700\n",
      "Val data: 1675\n",
      "Test data: 2094\n"
     ]
    }
   ],
   "source": [
    "from sklearn.model_selection import train_test_split\n",
    "# Split data into training validation and test data according to official idx\n",
    "\n",
    "rows = [] # will contain par_id, label and text\n",
    "for parid in official_train_idx:  \n",
    "  # select row from original dataset\n",
    "  keyword = pcl_df.loc[pcl_df.par_id == parid].keyword.values[0]\n",
    "  text = pcl_df.loc[pcl_df.par_id == parid].text.values[0]\n",
    "  label = pcl_df.loc[pcl_df.par_id == parid].label.values[0]\n",
    "  rows.append({\n",
    "      'par_id':parid,\n",
    "      'keyword':keyword,\n",
    "      'original_text':text,\n",
    "      'text':text,\n",
    "      'labels':label\n",
    "  })\n",
    "train_data_ = pd.DataFrame(rows)\n",
    "train_data, val_data = train_test_split(train_data_, test_size=0.2, shuffle=True, random_state=42)\n",
    "\n",
    "rows = [] # will contain par_id, label and text\n",
    "for parid in official_val_idx:  \n",
    "  # select row from original dataset\n",
    "  keyword = pcl_df.loc[pcl_df.par_id == parid].keyword.values[0]\n",
    "  text = pcl_df.loc[pcl_df.par_id == parid].text.values[0]\n",
    "  label = pcl_df.loc[pcl_df.par_id == parid].label.values[0]\n",
    "  rows.append({\n",
    "      'par_id':parid,\n",
    "      'keyword':keyword,\n",
    "      'original_text':text,\n",
    "      'text':text,\n",
    "      'labels':label\n",
    "  })\n",
    "test_data = pd.DataFrame(rows)\n",
    "\n",
    "print(f\"Train data: {len(train_data)}\")\n",
    "print(f\"Val data: {len(val_data)}\")\n",
    "print(f\"Test data: {len(test_data)}\")"
   ]
  },
  {
   "cell_type": "code",
   "execution_count": 10,
   "id": "d82b037b-6ce3-4662-ac64-a27cffe9452b",
   "metadata": {},
   "outputs": [
    {
     "data": {
      "text/html": [
       "<div>\n",
       "<style scoped>\n",
       "    .dataframe tbody tr th:only-of-type {\n",
       "        vertical-align: middle;\n",
       "    }\n",
       "\n",
       "    .dataframe tbody tr th {\n",
       "        vertical-align: top;\n",
       "    }\n",
       "\n",
       "    .dataframe thead th {\n",
       "        text-align: right;\n",
       "    }\n",
       "</style>\n",
       "<table border=\"1\" class=\"dataframe\">\n",
       "  <thead>\n",
       "    <tr style=\"text-align: right;\">\n",
       "      <th></th>\n",
       "      <th>par_id</th>\n",
       "      <th>keyword</th>\n",
       "      <th>original_text</th>\n",
       "      <th>text</th>\n",
       "      <th>labels</th>\n",
       "    </tr>\n",
       "  </thead>\n",
       "  <tbody>\n",
       "    <tr>\n",
       "      <th>5714</th>\n",
       "      <td>5423</td>\n",
       "      <td>disabled</td>\n",
       "      <td>Critics have even taken to dobbing in Katrina ...</td>\n",
       "      <td>Critics have even taken to dobbing in Katrina ...</td>\n",
       "      <td>0</td>\n",
       "    </tr>\n",
       "    <tr>\n",
       "      <th>7023</th>\n",
       "      <td>6890</td>\n",
       "      <td>in-need</td>\n",
       "      <td>Alexis and her family decided to donate more t...</td>\n",
       "      <td>Alexis and her family decided to donate more t...</td>\n",
       "      <td>0</td>\n",
       "    </tr>\n",
       "    <tr>\n",
       "      <th>664</th>\n",
       "      <td>1394</td>\n",
       "      <td>vulnerable</td>\n",
       "      <td>Mr Porter , do you think you will get the numb...</td>\n",
       "      <td>Mr Porter , do you think you will get the numb...</td>\n",
       "      <td>1</td>\n",
       "    </tr>\n",
       "    <tr>\n",
       "      <th>4810</th>\n",
       "      <td>4445</td>\n",
       "      <td>vulnerable</td>\n",
       "      <td>\" This only serves to highlight the importance...</td>\n",
       "      <td>\" This only serves to highlight the importance...</td>\n",
       "      <td>0</td>\n",
       "    </tr>\n",
       "    <tr>\n",
       "      <th>8019</th>\n",
       "      <td>7991</td>\n",
       "      <td>hopeless</td>\n",
       "      <td>\" I was nervous , but life has taught me over ...</td>\n",
       "      <td>\" I was nervous , but life has taught me over ...</td>\n",
       "      <td>0</td>\n",
       "    </tr>\n",
       "  </tbody>\n",
       "</table>\n",
       "</div>"
      ],
      "text/plain": [
       "      par_id     keyword                                      original_text  \\\n",
       "5714    5423    disabled  Critics have even taken to dobbing in Katrina ...   \n",
       "7023    6890     in-need  Alexis and her family decided to donate more t...   \n",
       "664     1394  vulnerable  Mr Porter , do you think you will get the numb...   \n",
       "4810    4445  vulnerable  \" This only serves to highlight the importance...   \n",
       "8019    7991    hopeless  \" I was nervous , but life has taught me over ...   \n",
       "\n",
       "                                                   text  labels  \n",
       "5714  Critics have even taken to dobbing in Katrina ...       0  \n",
       "7023  Alexis and her family decided to donate more t...       0  \n",
       "664   Mr Porter , do you think you will get the numb...       1  \n",
       "4810  \" This only serves to highlight the importance...       0  \n",
       "8019  \" I was nervous , but life has taught me over ...       0  "
      ]
     },
     "execution_count": 10,
     "metadata": {},
     "output_type": "execute_result"
    }
   ],
   "source": [
    "train_data.head()"
   ]
  },
  {
   "cell_type": "code",
   "execution_count": 11,
   "id": "bdeb68dc-bf5d-40aa-8290-89ce05baa113",
   "metadata": {},
   "outputs": [
    {
     "data": {
      "text/html": [
       "<div>\n",
       "<style scoped>\n",
       "    .dataframe tbody tr th:only-of-type {\n",
       "        vertical-align: middle;\n",
       "    }\n",
       "\n",
       "    .dataframe tbody tr th {\n",
       "        vertical-align: top;\n",
       "    }\n",
       "\n",
       "    .dataframe thead th {\n",
       "        text-align: right;\n",
       "    }\n",
       "</style>\n",
       "<table border=\"1\" class=\"dataframe\">\n",
       "  <thead>\n",
       "    <tr style=\"text-align: right;\">\n",
       "      <th></th>\n",
       "      <th>par_id</th>\n",
       "      <th>keyword</th>\n",
       "      <th>original_text</th>\n",
       "      <th>text</th>\n",
       "      <th>labels</th>\n",
       "    </tr>\n",
       "  </thead>\n",
       "  <tbody>\n",
       "    <tr>\n",
       "      <th>4727</th>\n",
       "      <td>4355</td>\n",
       "      <td>in-need</td>\n",
       "      <td>The Kindness Institute came about through Cavi...</td>\n",
       "      <td>The Kindness Institute came about through Cavi...</td>\n",
       "      <td>0</td>\n",
       "    </tr>\n",
       "    <tr>\n",
       "      <th>8161</th>\n",
       "      <td>8147</td>\n",
       "      <td>refugee</td>\n",
       "      <td>Minister Swaminathan forwarded a Cabinet paper...</td>\n",
       "      <td>Minister Swaminathan forwarded a Cabinet paper...</td>\n",
       "      <td>0</td>\n",
       "    </tr>\n",
       "    <tr>\n",
       "      <th>2333</th>\n",
       "      <td>1728</td>\n",
       "      <td>migrant</td>\n",
       "      <td>Human Rights Watch last month released a repor...</td>\n",
       "      <td>Human Rights Watch last month released a repor...</td>\n",
       "      <td>0</td>\n",
       "    </tr>\n",
       "    <tr>\n",
       "      <th>4204</th>\n",
       "      <td>3781</td>\n",
       "      <td>migrant</td>\n",
       "      <td>The book is \" Never Look an American in the Ey...</td>\n",
       "      <td>The book is \" Never Look an American in the Ey...</td>\n",
       "      <td>0</td>\n",
       "    </tr>\n",
       "    <tr>\n",
       "      <th>5404</th>\n",
       "      <td>5083</td>\n",
       "      <td>immigrant</td>\n",
       "      <td>Born to immigrant Indian parents in the small ...</td>\n",
       "      <td>Born to immigrant Indian parents in the small ...</td>\n",
       "      <td>0</td>\n",
       "    </tr>\n",
       "  </tbody>\n",
       "</table>\n",
       "</div>"
      ],
      "text/plain": [
       "      par_id    keyword                                      original_text  \\\n",
       "4727    4355    in-need  The Kindness Institute came about through Cavi...   \n",
       "8161    8147    refugee  Minister Swaminathan forwarded a Cabinet paper...   \n",
       "2333    1728    migrant  Human Rights Watch last month released a repor...   \n",
       "4204    3781    migrant  The book is \" Never Look an American in the Ey...   \n",
       "5404    5083  immigrant  Born to immigrant Indian parents in the small ...   \n",
       "\n",
       "                                                   text  labels  \n",
       "4727  The Kindness Institute came about through Cavi...       0  \n",
       "8161  Minister Swaminathan forwarded a Cabinet paper...       0  \n",
       "2333  Human Rights Watch last month released a repor...       0  \n",
       "4204  The book is \" Never Look an American in the Ey...       0  \n",
       "5404  Born to immigrant Indian parents in the small ...       0  "
      ]
     },
     "execution_count": 11,
     "metadata": {},
     "output_type": "execute_result"
    }
   ],
   "source": [
    "val_data.head()"
   ]
  },
  {
   "cell_type": "code",
   "execution_count": 12,
   "id": "f585db21-8a80-4729-bcf8-2b1d8ec1be2f",
   "metadata": {},
   "outputs": [
    {
     "data": {
      "text/html": [
       "<div>\n",
       "<style scoped>\n",
       "    .dataframe tbody tr th:only-of-type {\n",
       "        vertical-align: middle;\n",
       "    }\n",
       "\n",
       "    .dataframe tbody tr th {\n",
       "        vertical-align: top;\n",
       "    }\n",
       "\n",
       "    .dataframe thead th {\n",
       "        text-align: right;\n",
       "    }\n",
       "</style>\n",
       "<table border=\"1\" class=\"dataframe\">\n",
       "  <thead>\n",
       "    <tr style=\"text-align: right;\">\n",
       "      <th></th>\n",
       "      <th>par_id</th>\n",
       "      <th>keyword</th>\n",
       "      <th>original_text</th>\n",
       "      <th>text</th>\n",
       "      <th>labels</th>\n",
       "    </tr>\n",
       "  </thead>\n",
       "  <tbody>\n",
       "    <tr>\n",
       "      <th>0</th>\n",
       "      <td>4046</td>\n",
       "      <td>hopeless</td>\n",
       "      <td>We also know that they can benefit by receivin...</td>\n",
       "      <td>We also know that they can benefit by receivin...</td>\n",
       "      <td>1</td>\n",
       "    </tr>\n",
       "    <tr>\n",
       "      <th>1</th>\n",
       "      <td>1279</td>\n",
       "      <td>refugee</td>\n",
       "      <td>Pope Francis washed and kissed the feet of Mus...</td>\n",
       "      <td>Pope Francis washed and kissed the feet of Mus...</td>\n",
       "      <td>1</td>\n",
       "    </tr>\n",
       "    <tr>\n",
       "      <th>2</th>\n",
       "      <td>8330</td>\n",
       "      <td>refugee</td>\n",
       "      <td>Many refugees do n't want to be resettled anyw...</td>\n",
       "      <td>Many refugees do n't want to be resettled anyw...</td>\n",
       "      <td>1</td>\n",
       "    </tr>\n",
       "    <tr>\n",
       "      <th>3</th>\n",
       "      <td>4063</td>\n",
       "      <td>in-need</td>\n",
       "      <td>Budding chefs , like \" Fred \" , \" Winston \" an...</td>\n",
       "      <td>Budding chefs , like \" Fred \" , \" Winston \" an...</td>\n",
       "      <td>1</td>\n",
       "    </tr>\n",
       "    <tr>\n",
       "      <th>4</th>\n",
       "      <td>4089</td>\n",
       "      <td>homeless</td>\n",
       "      <td>In a 90-degree view of his constituency , one ...</td>\n",
       "      <td>In a 90-degree view of his constituency , one ...</td>\n",
       "      <td>1</td>\n",
       "    </tr>\n",
       "  </tbody>\n",
       "</table>\n",
       "</div>"
      ],
      "text/plain": [
       "   par_id   keyword                                      original_text  \\\n",
       "0    4046  hopeless  We also know that they can benefit by receivin...   \n",
       "1    1279   refugee  Pope Francis washed and kissed the feet of Mus...   \n",
       "2    8330   refugee  Many refugees do n't want to be resettled anyw...   \n",
       "3    4063   in-need  Budding chefs , like \" Fred \" , \" Winston \" an...   \n",
       "4    4089  homeless  In a 90-degree view of his constituency , one ...   \n",
       "\n",
       "                                                text  labels  \n",
       "0  We also know that they can benefit by receivin...       1  \n",
       "1  Pope Francis washed and kissed the feet of Mus...       1  \n",
       "2  Many refugees do n't want to be resettled anyw...       1  \n",
       "3  Budding chefs , like \" Fred \" , \" Winston \" an...       1  \n",
       "4  In a 90-degree view of his constituency , one ...       1  "
      ]
     },
     "execution_count": 12,
     "metadata": {},
     "output_type": "execute_result"
    }
   ],
   "source": [
    "test_data.head()"
   ]
  },
  {
   "cell_type": "markdown",
   "id": "13eb17a4-aad5-4788-8ccc-4124cb88c192",
   "metadata": {},
   "source": [
    "Code to train the model"
   ]
  },
  {
   "cell_type": "code",
   "execution_count": 9,
   "id": "4b5e829b-a954-48bc-a34d-703a36363b06",
   "metadata": {},
   "outputs": [],
   "source": [
    "import torch\n",
    "from simpletransformers.classification import ClassificationModel, ClassificationArgs\n",
    "from sklearn.metrics import classification_report, precision_recall_fscore_support\n",
    "\n",
    "cuda_available = torch.cuda.is_available()\n",
    "\n",
    "def train_model(train_data, val_data, num_epoch=1, model_type=\"roberta\", model_name=\"roberta-base\", learning_rate=4e-5, scheduler=\"linear_schedule_with_warmup\", optimizer=\"AdamW\"):\n",
    "    model_args = ClassificationArgs(num_train_epochs=num_epoch, \n",
    "                                    no_save=True, \n",
    "                                    no_cache=True, \n",
    "                                    overwrite_output_dir=True,\n",
    "                                    use_multiprocessing=False,\n",
    "                                    use_multiprocessing_for_evaluation=False,\n",
    "                                    train_batch_size=8,\n",
    "                                    eval_batch_size=8,\n",
    "                                    learning_rate=learning_rate,\n",
    "                                    scheduler=scheduler,\n",
    "                                    optimizer=optimizer)\n",
    "    model = ClassificationModel(model_type,\n",
    "                                model_name, \n",
    "                                args = model_args, \n",
    "                                num_labels=2, \n",
    "                                use_cuda=cuda_available)\n",
    "    # train model\n",
    "    model.train_model(train_data[['text', 'labels']])\n",
    "\n",
    "    # test on validation data\n",
    "    y_pred, _ = model.predict(val_data.text.tolist())\n",
    "    y_true = val_data['labels']\n",
    "    print(\"Validation Set Metrics\")\n",
    "    print(classification_report(y_true, y_pred, digits=4))\n",
    "    precision, recall, f1_score, support = precision_recall_fscore_support(y_true, y_pred)\n",
    "    del model\n",
    "    return f1_score[1]"
   ]
  },
  {
   "cell_type": "markdown",
   "id": "7fc0928a-9600-41e4-8222-078db00aeb82",
   "metadata": {},
   "source": [
    "## Preprocessing Exploration"
   ]
  },
  {
   "cell_type": "code",
   "execution_count": 21,
   "id": "47282377-27df-4ae0-8d52-e8d556f5b309",
   "metadata": {},
   "outputs": [
    {
     "name": "stdout",
     "output_type": "stream",
     "text": [
      "Train data: 1881\n"
     ]
    }
   ],
   "source": [
    "# Downsampling train data (in the same way as RoBERTa base model)\n",
    "train_label_1 = train_data[train_data.labels==1]\n",
    "num_label_1 = len(train_label_1)\n",
    "train_label_0 = train_data[train_data.labels==0][:num_label_1*2]\n",
    "train_data_downsampled = pd.concat([train_label_1,train_label_0])\n",
    "print(f\"Train data: {len(train_data_downsampled)}\")"
   ]
  },
  {
   "cell_type": "markdown",
   "id": "9c9a090c-853c-4ba0-82db-53f0614b4636",
   "metadata": {},
   "source": [
    "First, we train the default model without any preprocessing for comparison."
   ]
  },
  {
   "cell_type": "code",
   "execution_count": null,
   "id": "228dbcb1-3589-47bb-b5b5-37bcc4f839fd",
   "metadata": {},
   "outputs": [],
   "source": [
    "f1_results_hyperparams = {}"
   ]
  },
  {
   "cell_type": "code",
   "execution_count": 28,
   "id": "a5221fe3-2efd-4e56-9d70-8e2c0079850d",
   "metadata": {
    "scrolled": true
   },
   "outputs": [
    {
     "name": "stderr",
     "output_type": "stream",
     "text": [
      "Some weights of RobertaForSequenceClassification were not initialized from the model checkpoint at roberta-base and are newly initialized: ['classifier.dense.bias', 'classifier.dense.weight', 'classifier.out_proj.bias', 'classifier.out_proj.weight']\n",
      "You should probably TRAIN this model on a down-stream task to be able to use it for predictions and inference.\n"
     ]
    },
    {
     "data": {
      "application/vnd.jupyter.widget-view+json": {
       "model_id": "11f8a48e60e24c15b7d34a43c9be78da",
       "version_major": 2,
       "version_minor": 0
      },
      "text/plain": [
       "Epoch:   0%|          | 0/1 [00:00<?, ?it/s]"
      ]
     },
     "metadata": {},
     "output_type": "display_data"
    },
    {
     "data": {
      "application/vnd.jupyter.widget-view+json": {
       "model_id": "9e2b639c7601407cae0672b96fcd0b43",
       "version_major": 2,
       "version_minor": 0
      },
      "text/plain": [
       "Running Epoch 1 of 1:   0%|          | 0/246 [00:00<?, ?it/s]"
      ]
     },
     "metadata": {},
     "output_type": "display_data"
    },
    {
     "data": {
      "application/vnd.jupyter.widget-view+json": {
       "model_id": "c3f33b31c1fa4c7c87a3ee848a5cfac5",
       "version_major": 2,
       "version_minor": 0
      },
      "text/plain": [
       "  0%|          | 0/210 [00:00<?, ?it/s]"
      ]
     },
     "metadata": {},
     "output_type": "display_data"
    },
    {
     "name": "stdout",
     "output_type": "stream",
     "text": [
      "Validation Set Metrics\n",
      "              precision    recall  f1-score   support\n",
      "\n",
      "           0     0.9790    0.8504    0.9102      1537\n",
      "           1     0.3235    0.7971    0.4603       138\n",
      "\n",
      "    accuracy                         0.8460      1675\n",
      "   macro avg     0.6513    0.8237    0.6852      1675\n",
      "weighted avg     0.9250    0.8460    0.8731      1675\n",
      "\n",
      "0.9101671309192201\n",
      "0.4602510460251046\n"
     ]
    }
   ],
   "source": [
    "f1_results_hyperparams['default'] = train_model(train_data_downsampled, val_data)"
   ]
  },
  {
   "cell_type": "markdown",
   "id": "7cc5332d-70f6-4778-b7fe-3f66e21b7efa",
   "metadata": {},
   "source": [
    "Now, we iterate over each possible preprocessing step and set them individually to true to see if the model performance improves."
   ]
  },
  {
   "cell_type": "code",
   "execution_count": 32,
   "id": "3efcb8e7-b2f8-43e5-82cd-2fcf47aabcff",
   "metadata": {},
   "outputs": [
    {
     "name": "stdout",
     "output_type": "stream",
     "text": [
      "Training with lowercase preprocessing step\n"
     ]
    },
    {
     "name": "stderr",
     "output_type": "stream",
     "text": [
      "Some weights of RobertaForSequenceClassification were not initialized from the model checkpoint at roberta-base and are newly initialized: ['classifier.dense.bias', 'classifier.dense.weight', 'classifier.out_proj.bias', 'classifier.out_proj.weight']\n",
      "You should probably TRAIN this model on a down-stream task to be able to use it for predictions and inference.\n"
     ]
    },
    {
     "data": {
      "application/vnd.jupyter.widget-view+json": {
       "model_id": "127e1f92d4f1439d8d398c60602e50ce",
       "version_major": 2,
       "version_minor": 0
      },
      "text/plain": [
       "Epoch:   0%|          | 0/1 [00:00<?, ?it/s]"
      ]
     },
     "metadata": {},
     "output_type": "display_data"
    },
    {
     "data": {
      "application/vnd.jupyter.widget-view+json": {
       "model_id": "cfa67e99105d410d969e3a85f0a0270b",
       "version_major": 2,
       "version_minor": 0
      },
      "text/plain": [
       "Running Epoch 1 of 1:   0%|          | 0/246 [00:00<?, ?it/s]"
      ]
     },
     "metadata": {},
     "output_type": "display_data"
    },
    {
     "data": {
      "application/vnd.jupyter.widget-view+json": {
       "model_id": "86b4eff29cef415c9b61148ed9df9ac3",
       "version_major": 2,
       "version_minor": 0
      },
      "text/plain": [
       "  0%|          | 0/210 [00:00<?, ?it/s]"
      ]
     },
     "metadata": {},
     "output_type": "display_data"
    },
    {
     "name": "stdout",
     "output_type": "stream",
     "text": [
      "Validation Set Metrics\n",
      "              precision    recall  f1-score   support\n",
      "\n",
      "           0     0.9678    0.8985    0.9318      1537\n",
      "           1     0.3710    0.6667    0.4767       138\n",
      "\n",
      "    accuracy                         0.8794      1675\n",
      "   macro avg     0.6694    0.7826    0.7043      1675\n",
      "weighted avg     0.9186    0.8794    0.8943      1675\n",
      "\n",
      "Training with remove_punctuation preprocessing step\n"
     ]
    },
    {
     "name": "stderr",
     "output_type": "stream",
     "text": [
      "Some weights of RobertaForSequenceClassification were not initialized from the model checkpoint at roberta-base and are newly initialized: ['classifier.dense.bias', 'classifier.dense.weight', 'classifier.out_proj.bias', 'classifier.out_proj.weight']\n",
      "You should probably TRAIN this model on a down-stream task to be able to use it for predictions and inference.\n"
     ]
    },
    {
     "data": {
      "application/vnd.jupyter.widget-view+json": {
       "model_id": "799bb730ceda44f3884b526a5e516fc7",
       "version_major": 2,
       "version_minor": 0
      },
      "text/plain": [
       "Epoch:   0%|          | 0/1 [00:00<?, ?it/s]"
      ]
     },
     "metadata": {},
     "output_type": "display_data"
    },
    {
     "data": {
      "application/vnd.jupyter.widget-view+json": {
       "model_id": "38e22f794ffe4a20a534eb1aeecf3f04",
       "version_major": 2,
       "version_minor": 0
      },
      "text/plain": [
       "Running Epoch 1 of 1:   0%|          | 0/246 [00:00<?, ?it/s]"
      ]
     },
     "metadata": {},
     "output_type": "display_data"
    },
    {
     "data": {
      "application/vnd.jupyter.widget-view+json": {
       "model_id": "6776c82c5b0343828e192e67695f92f1",
       "version_major": 2,
       "version_minor": 0
      },
      "text/plain": [
       "  0%|          | 0/210 [00:00<?, ?it/s]"
      ]
     },
     "metadata": {},
     "output_type": "display_data"
    },
    {
     "name": "stdout",
     "output_type": "stream",
     "text": [
      "Validation Set Metrics\n",
      "              precision    recall  f1-score   support\n",
      "\n",
      "           0     0.9690    0.8939    0.9299      1537\n",
      "           1     0.3658    0.6812    0.4759       138\n",
      "\n",
      "    accuracy                         0.8764      1675\n",
      "   macro avg     0.6674    0.7876    0.7029      1675\n",
      "weighted avg     0.9193    0.8764    0.8925      1675\n",
      "\n",
      "Training with remove_stopwords preprocessing step\n"
     ]
    },
    {
     "name": "stderr",
     "output_type": "stream",
     "text": [
      "Some weights of RobertaForSequenceClassification were not initialized from the model checkpoint at roberta-base and are newly initialized: ['classifier.dense.bias', 'classifier.dense.weight', 'classifier.out_proj.bias', 'classifier.out_proj.weight']\n",
      "You should probably TRAIN this model on a down-stream task to be able to use it for predictions and inference.\n"
     ]
    },
    {
     "data": {
      "application/vnd.jupyter.widget-view+json": {
       "model_id": "9470d6cf80b645e39b94a35aef97b2cc",
       "version_major": 2,
       "version_minor": 0
      },
      "text/plain": [
       "Epoch:   0%|          | 0/1 [00:00<?, ?it/s]"
      ]
     },
     "metadata": {},
     "output_type": "display_data"
    },
    {
     "data": {
      "application/vnd.jupyter.widget-view+json": {
       "model_id": "0caf3f33998c42df89faa497b501afd2",
       "version_major": 2,
       "version_minor": 0
      },
      "text/plain": [
       "Running Epoch 1 of 1:   0%|          | 0/246 [00:00<?, ?it/s]"
      ]
     },
     "metadata": {},
     "output_type": "display_data"
    },
    {
     "data": {
      "application/vnd.jupyter.widget-view+json": {
       "model_id": "c97a87af338d49fb873d455372b643b3",
       "version_major": 2,
       "version_minor": 0
      },
      "text/plain": [
       "  0%|          | 0/210 [00:00<?, ?it/s]"
      ]
     },
     "metadata": {},
     "output_type": "display_data"
    },
    {
     "name": "stdout",
     "output_type": "stream",
     "text": [
      "Validation Set Metrics\n",
      "              precision    recall  f1-score   support\n",
      "\n",
      "           0     0.9748    0.8562    0.9117      1537\n",
      "           1     0.3200    0.7536    0.4492       138\n",
      "\n",
      "    accuracy                         0.8478      1675\n",
      "   macro avg     0.6474    0.8049    0.6805      1675\n",
      "weighted avg     0.9209    0.8478    0.8736      1675\n",
      "\n",
      "Training with stemming preprocessing step\n"
     ]
    },
    {
     "name": "stderr",
     "output_type": "stream",
     "text": [
      "Some weights of RobertaForSequenceClassification were not initialized from the model checkpoint at roberta-base and are newly initialized: ['classifier.dense.bias', 'classifier.dense.weight', 'classifier.out_proj.bias', 'classifier.out_proj.weight']\n",
      "You should probably TRAIN this model on a down-stream task to be able to use it for predictions and inference.\n"
     ]
    },
    {
     "data": {
      "application/vnd.jupyter.widget-view+json": {
       "model_id": "1b17c2460ead4892801215e458d7fed6",
       "version_major": 2,
       "version_minor": 0
      },
      "text/plain": [
       "Epoch:   0%|          | 0/1 [00:00<?, ?it/s]"
      ]
     },
     "metadata": {},
     "output_type": "display_data"
    },
    {
     "data": {
      "application/vnd.jupyter.widget-view+json": {
       "model_id": "80cde11dfd0240e188d9a652c3bce94d",
       "version_major": 2,
       "version_minor": 0
      },
      "text/plain": [
       "Running Epoch 1 of 1:   0%|          | 0/246 [00:00<?, ?it/s]"
      ]
     },
     "metadata": {},
     "output_type": "display_data"
    },
    {
     "data": {
      "application/vnd.jupyter.widget-view+json": {
       "model_id": "799a1957c73d46739ca5d7993da5a90f",
       "version_major": 2,
       "version_minor": 0
      },
      "text/plain": [
       "  0%|          | 0/210 [00:00<?, ?it/s]"
      ]
     },
     "metadata": {},
     "output_type": "display_data"
    },
    {
     "name": "stdout",
     "output_type": "stream",
     "text": [
      "Validation Set Metrics\n",
      "              precision    recall  f1-score   support\n",
      "\n",
      "           0     0.9580    0.8907    0.9231      1537\n",
      "           1     0.3171    0.5652    0.4062       138\n",
      "\n",
      "    accuracy                         0.8639      1675\n",
      "   macro avg     0.6375    0.7280    0.6647      1675\n",
      "weighted avg     0.9052    0.8639    0.8805      1675\n",
      "\n",
      "Training with lemmatization preprocessing step\n"
     ]
    },
    {
     "name": "stderr",
     "output_type": "stream",
     "text": [
      "Some weights of RobertaForSequenceClassification were not initialized from the model checkpoint at roberta-base and are newly initialized: ['classifier.dense.bias', 'classifier.dense.weight', 'classifier.out_proj.bias', 'classifier.out_proj.weight']\n",
      "You should probably TRAIN this model on a down-stream task to be able to use it for predictions and inference.\n"
     ]
    },
    {
     "data": {
      "application/vnd.jupyter.widget-view+json": {
       "model_id": "c567b5a7938049df9cb3da154afec447",
       "version_major": 2,
       "version_minor": 0
      },
      "text/plain": [
       "Epoch:   0%|          | 0/1 [00:00<?, ?it/s]"
      ]
     },
     "metadata": {},
     "output_type": "display_data"
    },
    {
     "data": {
      "application/vnd.jupyter.widget-view+json": {
       "model_id": "55a0d4bce63a4ac6bce28f5f6c808356",
       "version_major": 2,
       "version_minor": 0
      },
      "text/plain": [
       "Running Epoch 1 of 1:   0%|          | 0/246 [00:00<?, ?it/s]"
      ]
     },
     "metadata": {},
     "output_type": "display_data"
    },
    {
     "data": {
      "application/vnd.jupyter.widget-view+json": {
       "model_id": "b62417260cc545d1b7bc0af988905bcf",
       "version_major": 2,
       "version_minor": 0
      },
      "text/plain": [
       "  0%|          | 0/210 [00:00<?, ?it/s]"
      ]
     },
     "metadata": {},
     "output_type": "display_data"
    },
    {
     "name": "stdout",
     "output_type": "stream",
     "text": [
      "Validation Set Metrics\n",
      "              precision    recall  f1-score   support\n",
      "\n",
      "           0     0.9682    0.8920    0.9285      1537\n",
      "           1     0.3591    0.6739    0.4685       138\n",
      "\n",
      "    accuracy                         0.8740      1675\n",
      "   macro avg     0.6636    0.7830    0.6985      1675\n",
      "weighted avg     0.9180    0.8740    0.8906      1675\n",
      "\n"
     ]
    }
   ],
   "source": [
    "preprocessing_hyperparams = {'lowercase': False, 'remove_punctuation': False, 'remove_stopwords': False, 'stemming': False, 'lemmatization': False}\n",
    "for hyperparam in preprocessing_hyperparams:\n",
    "    print(f\"Training with {hyperparam} preprocessing step\")\n",
    "    preprocessing_hyperparams[hyperparam] = True\n",
    "    train_data_downsampled['text'] = train_data_downsampled['original_text'].apply(preprocess_text, **preprocessing_hyperparams)\n",
    "    f1_results_hyperparams[hyperparam] = train_model(train_data_downsampled, val_data)\n",
    "    preprocessing_hyperparams[hyperparam] = False"
   ]
  },
  {
   "cell_type": "code",
   "execution_count": 39,
   "id": "8af39238-87be-4786-b076-2feb4f293ccb",
   "metadata": {},
   "outputs": [
    {
     "name": "stdout",
     "output_type": "stream",
     "text": [
      "{'lowercase': 0.47668393782383417, 'remove_punctuation': 0.4759493670886076, 'remove_stopwords': 0.44924406047516197, 'stemming': 0.40625, 'lemmatization': 0.46851385390428213, 'default': 0.4602510460251046}\n"
     ]
    }
   ],
   "source": [
    "print(f1_results_hyperparams)"
   ]
  },
  {
   "cell_type": "code",
   "execution_count": 44,
   "id": "74b66915-3b7b-4c94-88b7-00b0f5e863c8",
   "metadata": {},
   "outputs": [
    {
     "data": {
      "image/png": "[encoded data removed]",
      "text/plain": [
       "<Figure size 1000x600 with 1 Axes>"
      ]
     },
     "metadata": {},
     "output_type": "display_data"
    }
   ],
   "source": [
    "# Convert dictionary to DataFrame for easier manipulation\n",
    "df = pd.DataFrame.from_dict(f1_results_hyperparams, orient='index', columns=['F1 Score'])\n",
    "\n",
    "# Sort DataFrame by F1 Score in ascending order\n",
    "df_sorted = df.sort_values(by='F1 Score')\n",
    "\n",
    "# Plot the DataFrame\n",
    "plt.figure(figsize=(10, 6))\n",
    "for i, (index, row) in enumerate(df_sorted.iterrows()):\n",
    "    if index == 'default':\n",
    "        plt.bar(i, row['F1 Score'], color='skyblue', label=index)\n",
    "        plt.axhline(y=row['F1 Score'], color='red', linestyle='--')\n",
    "    else:\n",
    "        plt.bar(i, row['F1 Score'], color='skyblue', label=index)\n",
    "\n",
    "plt.xlabel('Preprocessing Setting')\n",
    "plt.ylabel('Label 1 F1 Score')\n",
    "plt.title('Label 1 F1 Scores for Different Preprocessing Settings')\n",
    "plt.xticks(range(len(df_sorted)), df_sorted.index, rotation=45)\n",
    "plt.tight_layout()\n",
    "plt.show()"
   ]
  },
  {
   "cell_type": "markdown",
   "id": "0b5fb77a-19f9-4c27-8be0-da622db84fa4",
   "metadata": {},
   "source": [
    "We notice that steimming at removing stopwords lowers the F1 score of the model, while lemmatization, removing punctuation, and lowercasing increases it. Thus, we will train a model which incorporates lemmatization, removing punctuation, and lowercasing as a preprocessing step."
   ]
  },
  {
   "cell_type": "code",
   "execution_count": 45,
   "id": "b3832a34-b3ab-4bfe-ba59-e79533119f71",
   "metadata": {},
   "outputs": [
    {
     "name": "stderr",
     "output_type": "stream",
     "text": [
      "Some weights of RobertaForSequenceClassification were not initialized from the model checkpoint at roberta-base and are newly initialized: ['classifier.dense.bias', 'classifier.dense.weight', 'classifier.out_proj.bias', 'classifier.out_proj.weight']\n",
      "You should probably TRAIN this model on a down-stream task to be able to use it for predictions and inference.\n"
     ]
    },
    {
     "data": {
      "application/vnd.jupyter.widget-view+json": {
       "model_id": "03041dacabe24d5196457f178e35e38b",
       "version_major": 2,
       "version_minor": 0
      },
      "text/plain": [
       "Epoch:   0%|          | 0/1 [00:00<?, ?it/s]"
      ]
     },
     "metadata": {},
     "output_type": "display_data"
    },
    {
     "data": {
      "application/vnd.jupyter.widget-view+json": {
       "model_id": "8907afdf960d4b74a9593cbda4d546cd",
       "version_major": 2,
       "version_minor": 0
      },
      "text/plain": [
       "Running Epoch 1 of 1:   0%|          | 0/246 [00:00<?, ?it/s]"
      ]
     },
     "metadata": {},
     "output_type": "display_data"
    },
    {
     "data": {
      "application/vnd.jupyter.widget-view+json": {
       "model_id": "4890dd043b294481a1fe7a2b4bdb59fe",
       "version_major": 2,
       "version_minor": 0
      },
      "text/plain": [
       "  0%|          | 0/210 [00:00<?, ?it/s]"
      ]
     },
     "metadata": {},
     "output_type": "display_data"
    },
    {
     "name": "stdout",
     "output_type": "stream",
     "text": [
      "Validation Set Metrics\n",
      "              precision    recall  f1-score   support\n",
      "\n",
      "           0     0.9658    0.8456    0.9017      1503\n",
      "           1     0.3538    0.7384    0.4783       172\n",
      "\n",
      "    accuracy                         0.8346      1675\n",
      "   macro avg     0.6598    0.7920    0.6900      1675\n",
      "weighted avg     0.9030    0.8346    0.8583      1675\n",
      "\n"
     ]
    }
   ],
   "source": [
    "train_data_downsampled['text'] = train_data_downsampled['original_text'].apply(preprocess_text, lemmatization=True, remove_punctuation=True, lowercase=True)\n",
    "f1_results_hyperparams['combined'] = train_model(train_data_downsampled, val_data)"
   ]
  },
  {
   "cell_type": "code",
   "execution_count": 46,
   "id": "a2afa357-ae54-4a7a-827e-38988b875c5e",
   "metadata": {
    "scrolled": true
   },
   "outputs": [
    {
     "name": "stdout",
     "output_type": "stream",
     "text": [
      "{'lowercase': 0.47668393782383417, 'remove_punctuation': 0.4759493670886076, 'remove_stopwords': 0.44924406047516197, 'stemming': 0.40625, 'lemmatization': 0.46851385390428213, 'default': 0.4602510460251046, 'combined': 0.4783427495291902}\n"
     ]
    }
   ],
   "source": [
    "print(f1_results_hyperparams)"
   ]
  },
  {
   "cell_type": "code",
   "execution_count": 52,
   "id": "c9d840a2-0ddf-4ce8-b48a-bb548cb0ff97",
   "metadata": {},
   "outputs": [
    {
     "data": {
      "image/png": "[encoded data removed]",
      "text/plain": [
       "<Figure size 1000x600 with 1 Axes>"
      ]
     },
     "metadata": {},
     "output_type": "display_data"
    }
   ],
   "source": [
    "# Convert dictionary to DataFrame for easier manipulation\n",
    "df = pd.DataFrame.from_dict(f1_results_hyperparams, orient='index', columns=['F1 Score'])\n",
    "\n",
    "# Sort DataFrame by F1 Score in ascending order\n",
    "df_sorted = df.sort_values(by='F1 Score')\n",
    "\n",
    "# Plot the DataFrame\n",
    "plt.figure(figsize=(10, 6))\n",
    "for i, (index, row) in enumerate(df_sorted.iterrows()):\n",
    "    if index == 'default':\n",
    "        plt.bar(i, row['F1 Score'], color='skyblue', label=index)\n",
    "        plt.axhline(y=row['F1 Score'], color='red', linestyle='--')\n",
    "    else:\n",
    "        plt.bar(i, row['F1 Score'], color='skyblue', label=index)\n",
    "\n",
    "plt.xlabel('Preprocessing Setting', fontsize=14)\n",
    "plt.ylabel('Label 1 F1 Score', fontsize=14)\n",
    "plt.title('Label 1 F1 Scores for Different Preprocessing Settings', fontsize=16)\n",
    "plt.xticks(range(len(df_sorted)), df_sorted.index, rotation=45, fontsize=12)\n",
    "plt.tight_layout()\n",
    "plt.show()"
   ]
  },
  {
   "cell_type": "markdown",
   "id": "68ba6796-e757-4cdf-97d1-28b23ada879e",
   "metadata": {},
   "source": [
    "We can see that the combined preprocessing steps achieve the best performance."
   ]
  },
  {
   "cell_type": "markdown",
   "id": "dc806600-5f85-4ced-b6e0-5cb52e6b7e67",
   "metadata": {},
   "source": [
    "## Sampling and Data Augmentation"
   ]
  },
  {
   "cell_type": "markdown",
   "id": "b0373812-5aa4-471d-b5c7-fe393315d929",
   "metadata": {},
   "source": [
    "We now investigate if we can improve the model performance by changing the data sampling. Currently, we follow the RoBERTa baseline in performing downsampling of the majority class to twice the number of the minority class. Let's try different sampling methods to see if we can improve on this."
   ]
  },
  {
   "cell_type": "code",
   "execution_count": 13,
   "id": "8fc34c87-0e23-44b0-bafe-630a8aff26a4",
   "metadata": {},
   "outputs": [
    {
     "data": {
      "text/html": [
       "<div>\n",
       "<style scoped>\n",
       "    .dataframe tbody tr th:only-of-type {\n",
       "        vertical-align: middle;\n",
       "    }\n",
       "\n",
       "    .dataframe tbody tr th {\n",
       "        vertical-align: top;\n",
       "    }\n",
       "\n",
       "    .dataframe thead th {\n",
       "        text-align: right;\n",
       "    }\n",
       "</style>\n",
       "<table border=\"1\" class=\"dataframe\">\n",
       "  <thead>\n",
       "    <tr style=\"text-align: right;\">\n",
       "      <th></th>\n",
       "      <th>par_id</th>\n",
       "      <th>keyword</th>\n",
       "      <th>original_text</th>\n",
       "      <th>text</th>\n",
       "      <th>labels</th>\n",
       "    </tr>\n",
       "  </thead>\n",
       "  <tbody>\n",
       "    <tr>\n",
       "      <th>5714</th>\n",
       "      <td>5423</td>\n",
       "      <td>disabled</td>\n",
       "      <td>Critics have even taken to dobbing in Katrina ...</td>\n",
       "      <td>critic have even taken to dobbing in katrina b...</td>\n",
       "      <td>0</td>\n",
       "    </tr>\n",
       "    <tr>\n",
       "      <th>7023</th>\n",
       "      <td>6890</td>\n",
       "      <td>in-need</td>\n",
       "      <td>Alexis and her family decided to donate more t...</td>\n",
       "      <td>alexis and her family decided to donate more t...</td>\n",
       "      <td>0</td>\n",
       "    </tr>\n",
       "    <tr>\n",
       "      <th>664</th>\n",
       "      <td>1394</td>\n",
       "      <td>vulnerable</td>\n",
       "      <td>Mr Porter , do you think you will get the numb...</td>\n",
       "      <td>mr porter do you think you will get the number...</td>\n",
       "      <td>1</td>\n",
       "    </tr>\n",
       "    <tr>\n",
       "      <th>4810</th>\n",
       "      <td>4445</td>\n",
       "      <td>vulnerable</td>\n",
       "      <td>\" This only serves to highlight the importance...</td>\n",
       "      <td>this only serf to highlight the importance of ...</td>\n",
       "      <td>0</td>\n",
       "    </tr>\n",
       "    <tr>\n",
       "      <th>8019</th>\n",
       "      <td>7991</td>\n",
       "      <td>hopeless</td>\n",
       "      <td>\" I was nervous , but life has taught me over ...</td>\n",
       "      <td>i wa nervous but life ha taught me over the ye...</td>\n",
       "      <td>0</td>\n",
       "    </tr>\n",
       "  </tbody>\n",
       "</table>\n",
       "</div>"
      ],
      "text/plain": [
       "      par_id     keyword                                      original_text  \\\n",
       "5714    5423    disabled  Critics have even taken to dobbing in Katrina ...   \n",
       "7023    6890     in-need  Alexis and her family decided to donate more t...   \n",
       "664     1394  vulnerable  Mr Porter , do you think you will get the numb...   \n",
       "4810    4445  vulnerable  \" This only serves to highlight the importance...   \n",
       "8019    7991    hopeless  \" I was nervous , but life has taught me over ...   \n",
       "\n",
       "                                                   text  labels  \n",
       "5714  critic have even taken to dobbing in katrina b...       0  \n",
       "7023  alexis and her family decided to donate more t...       0  \n",
       "664   mr porter do you think you will get the number...       1  \n",
       "4810  this only serf to highlight the importance of ...       0  \n",
       "8019  i wa nervous but life ha taught me over the ye...       0  "
      ]
     },
     "execution_count": 13,
     "metadata": {},
     "output_type": "execute_result"
    }
   ],
   "source": [
    "# First we perform preprocessing on all the training data using our chosen preprocessing method\n",
    "train_data['text'] = train_data['original_text'].apply(preprocess_text, lemmatization=True, remove_punctuation=True, lowercase=True)\n",
    "train_data.head()"
   ]
  },
  {
   "cell_type": "markdown",
   "id": "e9801cd2-ea47-4109-afef-d92e84429555",
   "metadata": {},
   "source": [
    "Let's try upsampling the minority class and downsampling the majority class. We oversample from the minority class of the same training data such that we have more points of the underrepresented minority class, and downsample the majority class to reduce the class imbalance. There are a few ways we can upsample:\n",
    "1. duplicative upsampling - Having a deterministic number of copies of each data point in the minority class. If the upsampling factor is zero there is the same as not having any upsampling.\n",
    "1. random upsampling - Randomly picking from the minority class of the training dataset until we have enough points.\n",
    "3. data augmentation - generate synthetic examples of the minority class (rather than using copies of minority class training data). There are different data augmentation techniques we can use. We will explore two:\n",
    "- Replacing words with synonyms\n",
    "- Paraphrasing\n",
    "\n",
    "In terms of downsampling, we will simply pick a subsection of the majority class according to a multiple of the size of the minority class, thus ensuring we have a fixed class imbalance ratio."
   ]
  },
  {
   "cell_type": "code",
   "execution_count": 10,
   "id": "ad122d4a-286c-4f94-8323-7757d9857888",
   "metadata": {},
   "outputs": [
    {
     "name": "stdout",
     "output_type": "stream",
     "text": [
      "Total number 1 labels: 627\n",
      "Total number 0 labels: 6073\n",
      "Default Imbalance Ratio: 9.685805422647528\n",
      "Training for upsampling factor 1 and downsampling factor 1\n",
      "Total samples: 1254\n",
      "Num label 1 samples: 627\n",
      "Num label 0 samples: 627\n",
      "Imbalance ratio: 1.0\n"
     ]
    },
    {
     "name": "stderr",
     "output_type": "stream",
     "text": [
      "Some weights of RobertaForSequenceClassification were not initialized from the model checkpoint at roberta-base and are newly initialized: ['classifier.dense.bias', 'classifier.dense.weight', 'classifier.out_proj.bias', 'classifier.out_proj.weight']\n",
      "You should probably TRAIN this model on a down-stream task to be able to use it for predictions and inference.\n"
     ]
    },
    {
     "data": {
      "application/vnd.jupyter.widget-view+json": {
       "model_id": "f35f3bd06c9e4a2fb1b658884b5b9a20",
       "version_major": 2,
       "version_minor": 0
      },
      "text/plain": [
       "Epoch:   0%|          | 0/1 [00:00<?, ?it/s]"
      ]
     },
     "metadata": {},
     "output_type": "display_data"
    },
    {
     "data": {
      "application/vnd.jupyter.widget-view+json": {
       "model_id": "a61711feff624358811c3bb8a8ec0294",
       "version_major": 2,
       "version_minor": 0
      },
      "text/plain": [
       "Running Epoch 1 of 1:   0%|          | 0/157 [00:00<?, ?it/s]"
      ]
     },
     "metadata": {},
     "output_type": "display_data"
    },
    {
     "data": {
      "application/vnd.jupyter.widget-view+json": {
       "model_id": "eb6b0473149d4793a0fb76de26f1895e",
       "version_major": 2,
       "version_minor": 0
      },
      "text/plain": [
       "  0%|          | 0/210 [00:00<?, ?it/s]"
      ]
     },
     "metadata": {},
     "output_type": "display_data"
    },
    {
     "name": "stdout",
     "output_type": "stream",
     "text": [
      "Validation Set Metrics\n",
      "              precision    recall  f1-score   support\n",
      "\n",
      "           0     0.9820    0.6863    0.8080      1508\n",
      "           1     0.2383    0.8862    0.3756       167\n",
      "\n",
      "    accuracy                         0.7063      1675\n",
      "   macro avg     0.6101    0.7863    0.5918      1675\n",
      "weighted avg     0.9078    0.7063    0.7649      1675\n",
      "\n",
      "Training for upsampling factor 2 and downsampling factor 1\n",
      "Total samples: 1881\n",
      "Num label 1 samples: 627\n",
      "Num label 0 samples: 1254\n",
      "Imbalance ratio: 2.0\n"
     ]
    },
    {
     "name": "stderr",
     "output_type": "stream",
     "text": [
      "Some weights of RobertaForSequenceClassification were not initialized from the model checkpoint at roberta-base and are newly initialized: ['classifier.dense.bias', 'classifier.dense.weight', 'classifier.out_proj.bias', 'classifier.out_proj.weight']\n",
      "You should probably TRAIN this model on a down-stream task to be able to use it for predictions and inference.\n"
     ]
    },
    {
     "data": {
      "application/vnd.jupyter.widget-view+json": {
       "model_id": "dc306e0f653f4a39a1519e1f9f6c89cc",
       "version_major": 2,
       "version_minor": 0
      },
      "text/plain": [
       "Epoch:   0%|          | 0/1 [00:00<?, ?it/s]"
      ]
     },
     "metadata": {},
     "output_type": "display_data"
    },
    {
     "data": {
      "application/vnd.jupyter.widget-view+json": {
       "model_id": "661173806119498291c2a042d3ceb701",
       "version_major": 2,
       "version_minor": 0
      },
      "text/plain": [
       "Running Epoch 1 of 1:   0%|          | 0/236 [00:00<?, ?it/s]"
      ]
     },
     "metadata": {},
     "output_type": "display_data"
    },
    {
     "data": {
      "application/vnd.jupyter.widget-view+json": {
       "model_id": "2f2085dd22ea4fa38195ffb4ef87f5c7",
       "version_major": 2,
       "version_minor": 0
      },
      "text/plain": [
       "  0%|          | 0/210 [00:00<?, ?it/s]"
      ]
     },
     "metadata": {},
     "output_type": "display_data"
    },
    {
     "name": "stdout",
     "output_type": "stream",
     "text": [
      "Validation Set Metrics\n",
      "              precision    recall  f1-score   support\n",
      "\n",
      "           0     0.9542    0.8972    0.9248      1508\n",
      "           1     0.3969    0.6108    0.4811       167\n",
      "\n",
      "    accuracy                         0.8687      1675\n",
      "   macro avg     0.6755    0.7540    0.7030      1675\n",
      "weighted avg     0.8986    0.8687    0.8806      1675\n",
      "\n",
      "Training for upsampling factor 3 and downsampling factor 1\n",
      "Total samples: 2508\n",
      "Num label 1 samples: 627\n",
      "Num label 0 samples: 1881\n",
      "Imbalance ratio: 3.0\n"
     ]
    },
    {
     "name": "stderr",
     "output_type": "stream",
     "text": [
      "Some weights of RobertaForSequenceClassification were not initialized from the model checkpoint at roberta-base and are newly initialized: ['classifier.dense.bias', 'classifier.dense.weight', 'classifier.out_proj.bias', 'classifier.out_proj.weight']\n",
      "You should probably TRAIN this model on a down-stream task to be able to use it for predictions and inference.\n"
     ]
    },
    {
     "data": {
      "application/vnd.jupyter.widget-view+json": {
       "model_id": "25a682b6b53348b7a93229b506996a16",
       "version_major": 2,
       "version_minor": 0
      },
      "text/plain": [
       "Epoch:   0%|          | 0/1 [00:00<?, ?it/s]"
      ]
     },
     "metadata": {},
     "output_type": "display_data"
    },
    {
     "data": {
      "application/vnd.jupyter.widget-view+json": {
       "model_id": "766d0f7ff4fc4060a0f0039cd875c8e7",
       "version_major": 2,
       "version_minor": 0
      },
      "text/plain": [
       "Running Epoch 1 of 1:   0%|          | 0/314 [00:00<?, ?it/s]"
      ]
     },
     "metadata": {},
     "output_type": "display_data"
    },
    {
     "data": {
      "application/vnd.jupyter.widget-view+json": {
       "model_id": "98b2e6926212486aa3a1ec178aae9730",
       "version_major": 2,
       "version_minor": 0
      },
      "text/plain": [
       "  0%|          | 0/210 [00:00<?, ?it/s]"
      ]
     },
     "metadata": {},
     "output_type": "display_data"
    },
    {
     "name": "stdout",
     "output_type": "stream",
     "text": [
      "Validation Set Metrics\n",
      "              precision    recall  f1-score   support\n",
      "\n",
      "           0     0.9474    0.9204    0.9337      1508\n",
      "           1     0.4286    0.5389    0.4775       167\n",
      "\n",
      "    accuracy                         0.8824      1675\n",
      "   macro avg     0.6880    0.7297    0.7056      1675\n",
      "weighted avg     0.8957    0.8824    0.8882      1675\n",
      "\n",
      "Training for upsampling factor 1 and downsampling factor 2\n",
      "Total samples: 2508\n",
      "Num label 1 samples: 1254\n",
      "Num label 0 samples: 1254\n",
      "Imbalance ratio: 1.0\n"
     ]
    },
    {
     "name": "stderr",
     "output_type": "stream",
     "text": [
      "Some weights of RobertaForSequenceClassification were not initialized from the model checkpoint at roberta-base and are newly initialized: ['classifier.dense.bias', 'classifier.dense.weight', 'classifier.out_proj.bias', 'classifier.out_proj.weight']\n",
      "You should probably TRAIN this model on a down-stream task to be able to use it for predictions and inference.\n"
     ]
    },
    {
     "data": {
      "application/vnd.jupyter.widget-view+json": {
       "model_id": "8bac1f3b15d64c9094e73497bd1eb65c",
       "version_major": 2,
       "version_minor": 0
      },
      "text/plain": [
       "Epoch:   0%|          | 0/1 [00:00<?, ?it/s]"
      ]
     },
     "metadata": {},
     "output_type": "display_data"
    },
    {
     "data": {
      "application/vnd.jupyter.widget-view+json": {
       "model_id": "63ea68b81a0245a199789e4150219b5e",
       "version_major": 2,
       "version_minor": 0
      },
      "text/plain": [
       "Running Epoch 1 of 1:   0%|          | 0/314 [00:00<?, ?it/s]"
      ]
     },
     "metadata": {},
     "output_type": "display_data"
    },
    {
     "data": {
      "application/vnd.jupyter.widget-view+json": {
       "model_id": "c91255883cdc42b8b4561fa6f1cc6aa1",
       "version_major": 2,
       "version_minor": 0
      },
      "text/plain": [
       "  0%|          | 0/210 [00:00<?, ?it/s]"
      ]
     },
     "metadata": {},
     "output_type": "display_data"
    },
    {
     "name": "stdout",
     "output_type": "stream",
     "text": [
      "Validation Set Metrics\n",
      "              precision    recall  f1-score   support\n",
      "\n",
      "           0     0.9891    0.7235    0.8357      1508\n",
      "           1     0.2710    0.9281    0.4195       167\n",
      "\n",
      "    accuracy                         0.7439      1675\n",
      "   macro avg     0.6300    0.8258    0.6276      1675\n",
      "weighted avg     0.9175    0.7439    0.7942      1675\n",
      "\n",
      "Training for upsampling factor 2 and downsampling factor 2\n",
      "Total samples: 3762\n",
      "Num label 1 samples: 1254\n",
      "Num label 0 samples: 2508\n",
      "Imbalance ratio: 2.0\n"
     ]
    },
    {
     "name": "stderr",
     "output_type": "stream",
     "text": [
      "Some weights of RobertaForSequenceClassification were not initialized from the model checkpoint at roberta-base and are newly initialized: ['classifier.dense.bias', 'classifier.dense.weight', 'classifier.out_proj.bias', 'classifier.out_proj.weight']\n",
      "You should probably TRAIN this model on a down-stream task to be able to use it for predictions and inference.\n"
     ]
    },
    {
     "data": {
      "application/vnd.jupyter.widget-view+json": {
       "model_id": "02b194819ead427183621d4f24e837d9",
       "version_major": 2,
       "version_minor": 0
      },
      "text/plain": [
       "Epoch:   0%|          | 0/1 [00:00<?, ?it/s]"
      ]
     },
     "metadata": {},
     "output_type": "display_data"
    },
    {
     "data": {
      "application/vnd.jupyter.widget-view+json": {
       "model_id": "075481ee78f7442db34d996aed477a0e",
       "version_major": 2,
       "version_minor": 0
      },
      "text/plain": [
       "Running Epoch 1 of 1:   0%|          | 0/471 [00:00<?, ?it/s]"
      ]
     },
     "metadata": {},
     "output_type": "display_data"
    },
    {
     "data": {
      "application/vnd.jupyter.widget-view+json": {
       "model_id": "881dec86a4344b25b25e2b1ad1b8f759",
       "version_major": 2,
       "version_minor": 0
      },
      "text/plain": [
       "  0%|          | 0/210 [00:00<?, ?it/s]"
      ]
     },
     "metadata": {},
     "output_type": "display_data"
    },
    {
     "name": "stdout",
     "output_type": "stream",
     "text": [
      "Validation Set Metrics\n",
      "              precision    recall  f1-score   support\n",
      "\n",
      "           0     0.9589    0.9118    0.9347      1508\n",
      "           1     0.4481    0.6467    0.5294       167\n",
      "\n",
      "    accuracy                         0.8854      1675\n",
      "   macro avg     0.7035    0.7793    0.7321      1675\n",
      "weighted avg     0.9079    0.8854    0.8943      1675\n",
      "\n",
      "Training for upsampling factor 3 and downsampling factor 2\n",
      "Total samples: 5016\n",
      "Num label 1 samples: 1254\n",
      "Num label 0 samples: 3762\n",
      "Imbalance ratio: 3.0\n"
     ]
    },
    {
     "name": "stderr",
     "output_type": "stream",
     "text": [
      "Some weights of RobertaForSequenceClassification were not initialized from the model checkpoint at roberta-base and are newly initialized: ['classifier.dense.bias', 'classifier.dense.weight', 'classifier.out_proj.bias', 'classifier.out_proj.weight']\n",
      "You should probably TRAIN this model on a down-stream task to be able to use it for predictions and inference.\n"
     ]
    },
    {
     "data": {
      "application/vnd.jupyter.widget-view+json": {
       "model_id": "2f0a1e83d58a4986b3c23d4ae681e28e",
       "version_major": 2,
       "version_minor": 0
      },
      "text/plain": [
       "Epoch:   0%|          | 0/1 [00:00<?, ?it/s]"
      ]
     },
     "metadata": {},
     "output_type": "display_data"
    },
    {
     "data": {
      "application/vnd.jupyter.widget-view+json": {
       "model_id": "4929623c2da441699d59948eaf2a3fc8",
       "version_major": 2,
       "version_minor": 0
      },
      "text/plain": [
       "Running Epoch 1 of 1:   0%|          | 0/627 [00:00<?, ?it/s]"
      ]
     },
     "metadata": {},
     "output_type": "display_data"
    },
    {
     "data": {
      "application/vnd.jupyter.widget-view+json": {
       "model_id": "75dc8075af1645698890f99699bb59be",
       "version_major": 2,
       "version_minor": 0
      },
      "text/plain": [
       "  0%|          | 0/210 [00:00<?, ?it/s]"
      ]
     },
     "metadata": {},
     "output_type": "display_data"
    },
    {
     "name": "stdout",
     "output_type": "stream",
     "text": [
      "Validation Set Metrics\n",
      "              precision    recall  f1-score   support\n",
      "\n",
      "           0     0.9630    0.8985    0.9297      1508\n",
      "           1     0.4291    0.6886    0.5287       167\n",
      "\n",
      "    accuracy                         0.8776      1675\n",
      "   macro avg     0.6961    0.7936    0.7292      1675\n",
      "weighted avg     0.9098    0.8776    0.8897      1675\n",
      "\n",
      "Training for upsampling factor 1 and downsampling factor 3\n",
      "Total samples: 3762\n",
      "Num label 1 samples: 1881\n",
      "Num label 0 samples: 1881\n",
      "Imbalance ratio: 1.0\n"
     ]
    },
    {
     "name": "stderr",
     "output_type": "stream",
     "text": [
      "Some weights of RobertaForSequenceClassification were not initialized from the model checkpoint at roberta-base and are newly initialized: ['classifier.dense.bias', 'classifier.dense.weight', 'classifier.out_proj.bias', 'classifier.out_proj.weight']\n",
      "You should probably TRAIN this model on a down-stream task to be able to use it for predictions and inference.\n"
     ]
    },
    {
     "data": {
      "application/vnd.jupyter.widget-view+json": {
       "model_id": "5119db7f8c074047b86d84b5a94dfed0",
       "version_major": 2,
       "version_minor": 0
      },
      "text/plain": [
       "Epoch:   0%|          | 0/1 [00:00<?, ?it/s]"
      ]
     },
     "metadata": {},
     "output_type": "display_data"
    },
    {
     "data": {
      "application/vnd.jupyter.widget-view+json": {
       "model_id": "144ff9b770d748bf938fb23d67d9edd7",
       "version_major": 2,
       "version_minor": 0
      },
      "text/plain": [
       "Running Epoch 1 of 1:   0%|          | 0/471 [00:00<?, ?it/s]"
      ]
     },
     "metadata": {},
     "output_type": "display_data"
    },
    {
     "data": {
      "application/vnd.jupyter.widget-view+json": {
       "model_id": "b587a90df41a479ebced67733b2cd327",
       "version_major": 2,
       "version_minor": 0
      },
      "text/plain": [
       "  0%|          | 0/210 [00:00<?, ?it/s]"
      ]
     },
     "metadata": {},
     "output_type": "display_data"
    },
    {
     "name": "stdout",
     "output_type": "stream",
     "text": [
      "Validation Set Metrics\n",
      "              precision    recall  f1-score   support\n",
      "\n",
      "           0     0.9753    0.8110    0.8856      1508\n",
      "           1     0.3230    0.8144    0.4626       167\n",
      "\n",
      "    accuracy                         0.8113      1675\n",
      "   macro avg     0.6492    0.8127    0.6741      1675\n",
      "weighted avg     0.9102    0.8113    0.8434      1675\n",
      "\n",
      "Training for upsampling factor 2 and downsampling factor 3\n",
      "Total samples: 5643\n",
      "Num label 1 samples: 1881\n",
      "Num label 0 samples: 3762\n",
      "Imbalance ratio: 2.0\n"
     ]
    },
    {
     "name": "stderr",
     "output_type": "stream",
     "text": [
      "Some weights of RobertaForSequenceClassification were not initialized from the model checkpoint at roberta-base and are newly initialized: ['classifier.dense.bias', 'classifier.dense.weight', 'classifier.out_proj.bias', 'classifier.out_proj.weight']\n",
      "You should probably TRAIN this model on a down-stream task to be able to use it for predictions and inference.\n"
     ]
    },
    {
     "data": {
      "application/vnd.jupyter.widget-view+json": {
       "model_id": "6af841462f354faf9e8f3295a94fb8d7",
       "version_major": 2,
       "version_minor": 0
      },
      "text/plain": [
       "Epoch:   0%|          | 0/1 [00:00<?, ?it/s]"
      ]
     },
     "metadata": {},
     "output_type": "display_data"
    },
    {
     "data": {
      "application/vnd.jupyter.widget-view+json": {
       "model_id": "622733f57a984c21b0fa65d1539344c3",
       "version_major": 2,
       "version_minor": 0
      },
      "text/plain": [
       "Running Epoch 1 of 1:   0%|          | 0/706 [00:00<?, ?it/s]"
      ]
     },
     "metadata": {},
     "output_type": "display_data"
    },
    {
     "data": {
      "application/vnd.jupyter.widget-view+json": {
       "model_id": "72c2a8ac78554821ba54c61ae88807f1",
       "version_major": 2,
       "version_minor": 0
      },
      "text/plain": [
       "  0%|          | 0/210 [00:00<?, ?it/s]"
      ]
     },
     "metadata": {},
     "output_type": "display_data"
    },
    {
     "name": "stdout",
     "output_type": "stream",
     "text": [
      "Validation Set Metrics\n",
      "              precision    recall  f1-score   support\n",
      "\n",
      "           0     0.9609    0.9138    0.9368      1508\n",
      "           1     0.4606    0.6647    0.5441       167\n",
      "\n",
      "    accuracy                         0.8890      1675\n",
      "   macro avg     0.7108    0.7892    0.7404      1675\n",
      "weighted avg     0.9111    0.8890    0.8976      1675\n",
      "\n",
      "Training for upsampling factor 3 and downsampling factor 3\n",
      "Total samples: 7524\n",
      "Num label 1 samples: 1881\n",
      "Num label 0 samples: 5643\n",
      "Imbalance ratio: 3.0\n"
     ]
    },
    {
     "name": "stderr",
     "output_type": "stream",
     "text": [
      "Some weights of RobertaForSequenceClassification were not initialized from the model checkpoint at roberta-base and are newly initialized: ['classifier.dense.bias', 'classifier.dense.weight', 'classifier.out_proj.bias', 'classifier.out_proj.weight']\n",
      "You should probably TRAIN this model on a down-stream task to be able to use it for predictions and inference.\n"
     ]
    },
    {
     "data": {
      "application/vnd.jupyter.widget-view+json": {
       "model_id": "bbf08c023b5c490b90050d290e9140b6",
       "version_major": 2,
       "version_minor": 0
      },
      "text/plain": [
       "Epoch:   0%|          | 0/1 [00:00<?, ?it/s]"
      ]
     },
     "metadata": {},
     "output_type": "display_data"
    },
    {
     "data": {
      "application/vnd.jupyter.widget-view+json": {
       "model_id": "176541bb13724b85b7832f2d292cad21",
       "version_major": 2,
       "version_minor": 0
      },
      "text/plain": [
       "Running Epoch 1 of 1:   0%|          | 0/941 [00:00<?, ?it/s]"
      ]
     },
     "metadata": {},
     "output_type": "display_data"
    },
    {
     "data": {
      "application/vnd.jupyter.widget-view+json": {
       "model_id": "003e18f4bcbe486eb12f9a10e1c4d2f3",
       "version_major": 2,
       "version_minor": 0
      },
      "text/plain": [
       "  0%|          | 0/210 [00:00<?, ?it/s]"
      ]
     },
     "metadata": {},
     "output_type": "display_data"
    },
    {
     "name": "stdout",
     "output_type": "stream",
     "text": [
      "Validation Set Metrics\n",
      "              precision    recall  f1-score   support\n",
      "\n",
      "           0     0.9561    0.9244    0.9400      1508\n",
      "           1     0.4747    0.6168    0.5365       167\n",
      "\n",
      "    accuracy                         0.8937      1675\n",
      "   macro avg     0.7154    0.7706    0.7382      1675\n",
      "weighted avg     0.9081    0.8937    0.8998      1675\n",
      "\n"
     ]
    }
   ],
   "source": [
    "# Duplicative upsampling with downsampling\n",
    "duplicative_upsampling_results = {}\n",
    "train_label_1 = train_data[train_data.labels==1]\n",
    "num_label_1 = len(train_label_1)\n",
    "train_label_0 = train_data[train_data.labels==0]\n",
    "num_label_0 = len(train_label_0)\n",
    "print(f\"Total number 1 labels: {num_label_1}\")\n",
    "print(f\"Total number 0 labels: {num_label_0}\")\n",
    "print(f\"Default Imbalance Ratio: {num_label_0/num_label_1}\")\n",
    "for downsampling_multiple in [1,2,3]:\n",
    "    for upsampling_multiple in [1,2,3]:\n",
    "        print(f\"Training for upsampling factor {upsampling_multiple} and downsampling factor {downsampling_multiple}\")\n",
    "        train_label_1_samples = pd.concat([train_label_1]*upsampling_multiple).sample(frac=1, random_state=42)\n",
    "        num_label_1_samples = len(train_label_1_samples)\n",
    "        num_label_0_samples = num_label_1_samples*downsampling_multiple\n",
    "        train_label_0_samples = train_label_0[:num_label_0_samples]\n",
    "        print(f\"Total samples: {num_label_1_samples + num_label_0_samples}\")\n",
    "        print(f\"Num label 1 samples: {num_label_1_samples}\")\n",
    "        print(f\"Num label 0 samples: {num_label_0_samples}\")\n",
    "        print(f\"Imbalance ratio: {num_label_0_samples/num_label_1_samples}\")\n",
    "        train_data_updownsampled = pd.concat([train_label_1_samples,train_label_0_samples])\n",
    "        duplicative_upsampling_results[f\"UF={upsampling_multiple}, DF={downsampling_multiple}\"] = train_model(train_data_updownsampled, val_data)"
   ]
  },
  {
   "cell_type": "code",
   "execution_count": 23,
   "id": "bee9f9d1-5d98-4905-8739-1d333368a9b3",
   "metadata": {},
   "outputs": [
    {
     "name": "stdout",
     "output_type": "stream",
     "text": [
      "{'UF=1, DF=1': 0.3756345177664975, 'UF=1, DF=2': 0.4811320754716981, 'UF=1, DF=3': 0.47745358090185674, 'UF=2, DF=1': 0.41948579161028415, 'UF=2, DF=2': 0.5294117647058824, 'UF=2, DF=3': 0.5287356321839081, 'UF=3, DF=1': 0.46258503401360546, 'UF=3, DF=2': 0.5441176470588235, 'UF=3, DF=3': 0.5364583333333334}\n"
     ]
    }
   ],
   "source": [
    "print(duplicative_upsampling_results)"
   ]
  },
  {
   "cell_type": "code",
   "execution_count": 57,
   "id": "ff9520cd-b87d-4207-a021-3f1f9c02c001",
   "metadata": {
    "scrolled": true
   },
   "outputs": [
    {
     "data": {
      "image/png": "[encoded data removed]",
      "text/plain": [
       "<Figure size 1000x600 with 1 Axes>"
      ]
     },
     "metadata": {},
     "output_type": "display_data"
    }
   ],
   "source": [
    "keys = list(duplicative_upsampling_results.keys())\n",
    "values = list(duplicative_upsampling_results.values())\n",
    "\n",
    "plt.figure(figsize=(10, 6))\n",
    "plt.bar(keys, values)\n",
    "\n",
    "plt.xlabel('Duplicative Sampling Setting', fontsize=16)\n",
    "plt.ylabel('Label 1 F1 Score', fontsize=14)\n",
    "plt.title('Label 1 F1 Scores for Different Duplicative Sampling Settings', fontsize=14)\n",
    "plt.xticks(rotation=45, fontsize=12)\n",
    "plt.tight_layout()\n",
    "plt.show()\n",
    "\n",
    "# Show the plot\n",
    "plt.show()"
   ]
  },
  {
   "cell_type": "code",
   "execution_count": 18,
   "id": "73f757d6-b8b5-4ddb-9aa8-df349f18844a",
   "metadata": {
    "scrolled": true
   },
   "outputs": [
    {
     "name": "stdout",
     "output_type": "stream",
     "text": [
      "Training for upsampling factor 1 and downsampling factor 9\n",
      "Total samples: 11286\n",
      "Num label 1 samples: 5643\n",
      "Num label 0 samples: 5643\n",
      "Imbalance ratio: 1.0\n"
     ]
    },
    {
     "name": "stderr",
     "output_type": "stream",
     "text": [
      "Some weights of RobertaForSequenceClassification were not initialized from the model checkpoint at roberta-base and are newly initialized: ['classifier.dense.bias', 'classifier.dense.weight', 'classifier.out_proj.bias', 'classifier.out_proj.weight']\n",
      "You should probably TRAIN this model on a down-stream task to be able to use it for predictions and inference.\n"
     ]
    },
    {
     "data": {
      "application/vnd.jupyter.widget-view+json": {
       "model_id": "74dfb91a0c024c7fb01c37379deafe4e",
       "version_major": 2,
       "version_minor": 0
      },
      "text/plain": [
       "Epoch:   0%|          | 0/1 [00:00<?, ?it/s]"
      ]
     },
     "metadata": {},
     "output_type": "display_data"
    },
    {
     "data": {
      "application/vnd.jupyter.widget-view+json": {
       "model_id": "8ce8c78a59f54552bb099e218b0696ca",
       "version_major": 2,
       "version_minor": 0
      },
      "text/plain": [
       "Running Epoch 1 of 1:   0%|          | 0/1411 [00:00<?, ?it/s]"
      ]
     },
     "metadata": {},
     "output_type": "display_data"
    },
    {
     "data": {
      "application/vnd.jupyter.widget-view+json": {
       "model_id": "07c238d4af34423c907ea22222a81180",
       "version_major": 2,
       "version_minor": 0
      },
      "text/plain": [
       "  0%|          | 0/210 [00:00<?, ?it/s]"
      ]
     },
     "metadata": {},
     "output_type": "display_data"
    },
    {
     "name": "stdout",
     "output_type": "stream",
     "text": [
      "Validation Set Metrics\n",
      "              precision    recall  f1-score   support\n",
      "\n",
      "           0     0.9418    0.9556    0.9487      1508\n",
      "           1     0.5379    0.4671    0.5000       167\n",
      "\n",
      "    accuracy                         0.9069      1675\n",
      "   macro avg     0.7399    0.7113    0.7243      1675\n",
      "weighted avg     0.9016    0.9069    0.9039      1675\n",
      "\n"
     ]
    }
   ],
   "source": [
    "# Testing if increasing the downsampling multiple even more leads to better performance\n",
    "for downsampling_multiple in [9]:\n",
    "    for upsampling_multiple in [1]:\n",
    "        print(f\"Training for upsampling factor {upsampling_multiple} and downsampling factor {downsampling_multiple}\")\n",
    "        train_label_1_samples = pd.concat([train_label_1]*downsampling_multiple).sample(frac=1, random_state=42)\n",
    "        num_label_1_samples = len(train_label_1_samples)\n",
    "        num_label_0_samples = num_label_1_samples*upsampling_multiple\n",
    "        train_label_0_samples = train_label_0[:num_label_0_samples]\n",
    "        print(f\"Total samples: {num_label_1_samples + num_label_0_samples}\")\n",
    "        print(f\"Num label 1 samples: {num_label_1_samples}\")\n",
    "        print(f\"Num label 0 samples: {num_label_0_samples}\")\n",
    "        print(f\"Imbalance ratio: {num_label_0_samples/num_label_1_samples}\")\n",
    "        train_data_updownsampled = pd.concat([train_label_1_samples,train_label_0_samples])\n",
    "        duplicative_upsampling_results[f\"UF={upsampling_multiple}, DF={downsampling_multiple}\"] = train_model(train_data_updownsampled, val_data)"
   ]
  },
  {
   "cell_type": "code",
   "execution_count": 21,
   "id": "a4c7c2d3-274f-42e4-855e-4c1be3e7c029",
   "metadata": {
    "scrolled": true
   },
   "outputs": [
    {
     "name": "stdout",
     "output_type": "stream",
     "text": [
      "Training for upsampling factor 2 and downsampling factor 4\n",
      "Total samples: 7524\n",
      "Num label 1 samples: 2508\n",
      "Num label 0 samples: 5016\n",
      "Imbalance ratio: 2.0\n"
     ]
    },
    {
     "name": "stderr",
     "output_type": "stream",
     "text": [
      "Some weights of RobertaForSequenceClassification were not initialized from the model checkpoint at roberta-base and are newly initialized: ['classifier.dense.bias', 'classifier.dense.weight', 'classifier.out_proj.bias', 'classifier.out_proj.weight']\n",
      "You should probably TRAIN this model on a down-stream task to be able to use it for predictions and inference.\n"
     ]
    },
    {
     "data": {
      "application/vnd.jupyter.widget-view+json": {
       "model_id": "5dc6b165d8384521a82528fa8bc08b96",
       "version_major": 2,
       "version_minor": 0
      },
      "text/plain": [
       "Epoch:   0%|          | 0/1 [00:00<?, ?it/s]"
      ]
     },
     "metadata": {},
     "output_type": "display_data"
    },
    {
     "data": {
      "application/vnd.jupyter.widget-view+json": {
       "model_id": "939ee06846be4d468ceae85429ce768f",
       "version_major": 2,
       "version_minor": 0
      },
      "text/plain": [
       "Running Epoch 1 of 1:   0%|          | 0/941 [00:00<?, ?it/s]"
      ]
     },
     "metadata": {},
     "output_type": "display_data"
    },
    {
     "data": {
      "application/vnd.jupyter.widget-view+json": {
       "model_id": "9e34e94e51164f7f8ec64c365359581a",
       "version_major": 2,
       "version_minor": 0
      },
      "text/plain": [
       "  0%|          | 0/210 [00:00<?, ?it/s]"
      ]
     },
     "metadata": {},
     "output_type": "display_data"
    },
    {
     "name": "stdout",
     "output_type": "stream",
     "text": [
      "Validation Set Metrics\n",
      "              precision    recall  f1-score   support\n",
      "\n",
      "           0     0.9610    0.8992    0.9291      1508\n",
      "           1     0.4242    0.6707    0.5197       167\n",
      "\n",
      "    accuracy                         0.8764      1675\n",
      "   macro avg     0.6926    0.7849    0.7244      1675\n",
      "weighted avg     0.9075    0.8764    0.8883      1675\n",
      "\n"
     ]
    }
   ],
   "source": [
    "# Adding downsampling multiple 4, upsampling multiple 2 to duplicative upsampling\n",
    "for downsampling_multiple in [4]:\n",
    "    for upsampling_multiple in [2]:\n",
    "        print(f\"Training for upsampling factor {upsampling_multiple} and downsampling factor {downsampling_multiple}\")\n",
    "        train_label_1_samples = pd.concat([train_label_1]*downsampling_multiple).sample(frac=1, random_state=42)\n",
    "        num_label_1_samples = len(train_label_1_samples)\n",
    "        num_label_0_samples = num_label_1_samples*upsampling_multiple\n",
    "        train_label_0_samples = train_label_0[:num_label_0_samples]\n",
    "        print(f\"Total samples: {num_label_1_samples + num_label_0_samples}\")\n",
    "        print(f\"Num label 1 samples: {num_label_1_samples}\")\n",
    "        print(f\"Num label 0 samples: {num_label_0_samples}\")\n",
    "        print(f\"Imbalance ratio: {num_label_0_samples/num_label_1_samples}\")\n",
    "        train_data_updownsampled = pd.concat([train_label_1_samples,train_label_0_samples])\n",
    "        duplicative_upsampling_results[f\"UF={upsampling_multiple}, DF={downsampling_multiple}\"] = train_model(train_data_updownsampled, val_data)"
   ]
  },
  {
   "cell_type": "code",
   "execution_count": 25,
   "id": "3934fe5e-4178-40c2-a2b6-41b9b9b22974",
   "metadata": {},
   "outputs": [
    {
     "name": "stdout",
     "output_type": "stream",
     "text": [
      "{'UF=1, DF=1': 0.3756345177664975, 'UF=1, DF=2': 0.4811320754716981, 'UF=1, DF=3': 0.47745358090185674, 'UF=2, DF=1': 0.41948579161028415, 'UF=2, DF=2': 0.5294117647058824, 'UF=2, DF=3': 0.5287356321839081, 'UF=3, DF=1': 0.46258503401360546, 'UF=3, DF=2': 0.5441176470588235, 'UF=3, DF=3': 0.5364583333333334, 'UF=9, DF=1': 0.5, 'UF=4, DF=2': 0.5197215777262181}\n"
     ]
    }
   ],
   "source": [
    "print(duplicative_upsampling_results)"
   ]
  },
  {
   "cell_type": "markdown",
   "id": "4677e51a-140f-4c44-a7b5-d9c5437c7afc",
   "metadata": {},
   "source": [
    "We see that in general as the downsampling factor increases the performance increases, but also that the ideal upsampling factor is 2. Thus for the rest of the sampling experiments we will keep the upsampling factor at 2 i.e. there will be twice as many 0 class samples as 1 class samples. It's a trade-off between using less of the available training data and having the 1 class overpowered by the 0 class."
   ]
  },
  {
   "cell_type": "code",
   "execution_count": 19,
   "id": "55bbab3a-0bb7-40df-aa18-1c3997fd22fa",
   "metadata": {
    "scrolled": true
   },
   "outputs": [
    {
     "name": "stdout",
     "output_type": "stream",
     "text": [
      "Total number 1 labels: 627\n",
      "Total number 0 labels: 6073\n",
      "Default Imbalance Ratio: 9.685805422647528\n",
      "Training for upsampling factor 1 and downsampling factor 2\n",
      "Total samples: 1881\n",
      "Num label 1 samples: 627\n",
      "Num label 0 samples: 1254\n",
      "Imbalance ratio: 2.0\n"
     ]
    },
    {
     "name": "stderr",
     "output_type": "stream",
     "text": [
      "Some weights of RobertaForSequenceClassification were not initialized from the model checkpoint at roberta-base and are newly initialized: ['classifier.dense.bias', 'classifier.dense.weight', 'classifier.out_proj.bias', 'classifier.out_proj.weight']\n",
      "You should probably TRAIN this model on a down-stream task to be able to use it for predictions and inference.\n"
     ]
    },
    {
     "data": {
      "application/vnd.jupyter.widget-view+json": {
       "model_id": "44d47790989c40a088cafc102f5c8e65",
       "version_major": 2,
       "version_minor": 0
      },
      "text/plain": [
       "Epoch:   0%|          | 0/1 [00:00<?, ?it/s]"
      ]
     },
     "metadata": {},
     "output_type": "display_data"
    },
    {
     "data": {
      "application/vnd.jupyter.widget-view+json": {
       "model_id": "a705b8e1227f4946bb33c0a8dc0d2a1b",
       "version_major": 2,
       "version_minor": 0
      },
      "text/plain": [
       "Running Epoch 1 of 1:   0%|          | 0/236 [00:00<?, ?it/s]"
      ]
     },
     "metadata": {},
     "output_type": "display_data"
    },
    {
     "data": {
      "application/vnd.jupyter.widget-view+json": {
       "model_id": "512f138ac73a4e13bcb59b7e1934837d",
       "version_major": 2,
       "version_minor": 0
      },
      "text/plain": [
       "  0%|          | 0/210 [00:00<?, ?it/s]"
      ]
     },
     "metadata": {},
     "output_type": "display_data"
    },
    {
     "name": "stdout",
     "output_type": "stream",
     "text": [
      "Validation Set Metrics\n",
      "              precision    recall  f1-score   support\n",
      "\n",
      "           0     0.9667    0.8674    0.9144      1508\n",
      "           1     0.3789    0.7305    0.4990       167\n",
      "\n",
      "    accuracy                         0.8537      1675\n",
      "   macro avg     0.6728    0.7990    0.7067      1675\n",
      "weighted avg     0.9081    0.8537    0.8730      1675\n",
      "\n",
      "Training for upsampling factor 2 and downsampling factor 2\n",
      "Total samples: 3762\n",
      "Num label 1 samples: 1254\n",
      "Num label 0 samples: 2508\n",
      "Imbalance ratio: 2.0\n"
     ]
    },
    {
     "name": "stderr",
     "output_type": "stream",
     "text": [
      "Some weights of RobertaForSequenceClassification were not initialized from the model checkpoint at roberta-base and are newly initialized: ['classifier.dense.bias', 'classifier.dense.weight', 'classifier.out_proj.bias', 'classifier.out_proj.weight']\n",
      "You should probably TRAIN this model on a down-stream task to be able to use it for predictions and inference.\n"
     ]
    },
    {
     "data": {
      "application/vnd.jupyter.widget-view+json": {
       "model_id": "13f9de9900ff42349f47fbe51799fdc2",
       "version_major": 2,
       "version_minor": 0
      },
      "text/plain": [
       "Epoch:   0%|          | 0/1 [00:00<?, ?it/s]"
      ]
     },
     "metadata": {},
     "output_type": "display_data"
    },
    {
     "data": {
      "application/vnd.jupyter.widget-view+json": {
       "model_id": "719165a692224cd3b365fed9d094bebe",
       "version_major": 2,
       "version_minor": 0
      },
      "text/plain": [
       "Running Epoch 1 of 1:   0%|          | 0/471 [00:00<?, ?it/s]"
      ]
     },
     "metadata": {},
     "output_type": "display_data"
    },
    {
     "data": {
      "application/vnd.jupyter.widget-view+json": {
       "model_id": "f1109e1da8c042eca3fd45634fcb2d30",
       "version_major": 2,
       "version_minor": 0
      },
      "text/plain": [
       "  0%|          | 0/210 [00:00<?, ?it/s]"
      ]
     },
     "metadata": {},
     "output_type": "display_data"
    },
    {
     "name": "stdout",
     "output_type": "stream",
     "text": [
      "Validation Set Metrics\n",
      "              precision    recall  f1-score   support\n",
      "\n",
      "           0     0.9598    0.9025    0.9303      1508\n",
      "           1     0.4280    0.6587    0.5189       167\n",
      "\n",
      "    accuracy                         0.8782      1675\n",
      "   macro avg     0.6939    0.7806    0.7246      1675\n",
      "weighted avg     0.9068    0.8782    0.8893      1675\n",
      "\n",
      "Training for upsampling factor 3 and downsampling factor 2\n",
      "Total samples: 5643\n",
      "Num label 1 samples: 1881\n",
      "Num label 0 samples: 3762\n",
      "Imbalance ratio: 2.0\n"
     ]
    },
    {
     "name": "stderr",
     "output_type": "stream",
     "text": [
      "Some weights of RobertaForSequenceClassification were not initialized from the model checkpoint at roberta-base and are newly initialized: ['classifier.dense.bias', 'classifier.dense.weight', 'classifier.out_proj.bias', 'classifier.out_proj.weight']\n",
      "You should probably TRAIN this model on a down-stream task to be able to use it for predictions and inference.\n"
     ]
    },
    {
     "data": {
      "application/vnd.jupyter.widget-view+json": {
       "model_id": "71ae18056f9c4950b72df580efe8948d",
       "version_major": 2,
       "version_minor": 0
      },
      "text/plain": [
       "Epoch:   0%|          | 0/1 [00:00<?, ?it/s]"
      ]
     },
     "metadata": {},
     "output_type": "display_data"
    },
    {
     "data": {
      "application/vnd.jupyter.widget-view+json": {
       "model_id": "a22869cdfa864e17b81f2541743dcd6d",
       "version_major": 2,
       "version_minor": 0
      },
      "text/plain": [
       "Running Epoch 1 of 1:   0%|          | 0/706 [00:00<?, ?it/s]"
      ]
     },
     "metadata": {},
     "output_type": "display_data"
    },
    {
     "data": {
      "application/vnd.jupyter.widget-view+json": {
       "model_id": "262bbf3d216b46d0be966e9128cc3a73",
       "version_major": 2,
       "version_minor": 0
      },
      "text/plain": [
       "  0%|          | 0/210 [00:00<?, ?it/s]"
      ]
     },
     "metadata": {},
     "output_type": "display_data"
    },
    {
     "name": "stdout",
     "output_type": "stream",
     "text": [
      "Validation Set Metrics\n",
      "              precision    recall  f1-score   support\n",
      "\n",
      "           0     0.9581    0.9092    0.9330      1508\n",
      "           1     0.4385    0.6407    0.5207       167\n",
      "\n",
      "    accuracy                         0.8824      1675\n",
      "   macro avg     0.6983    0.7749    0.7268      1675\n",
      "weighted avg     0.9063    0.8824    0.8919      1675\n",
      "\n",
      "Training for upsampling factor 4 and downsampling factor 2\n",
      "Total samples: 7524\n",
      "Num label 1 samples: 2508\n",
      "Num label 0 samples: 5016\n",
      "Imbalance ratio: 2.0\n"
     ]
    },
    {
     "name": "stderr",
     "output_type": "stream",
     "text": [
      "Some weights of RobertaForSequenceClassification were not initialized from the model checkpoint at roberta-base and are newly initialized: ['classifier.dense.bias', 'classifier.dense.weight', 'classifier.out_proj.bias', 'classifier.out_proj.weight']\n",
      "You should probably TRAIN this model on a down-stream task to be able to use it for predictions and inference.\n"
     ]
    },
    {
     "data": {
      "application/vnd.jupyter.widget-view+json": {
       "model_id": "043f79e870414e0982a90329f9eaa547",
       "version_major": 2,
       "version_minor": 0
      },
      "text/plain": [
       "Epoch:   0%|          | 0/1 [00:00<?, ?it/s]"
      ]
     },
     "metadata": {},
     "output_type": "display_data"
    },
    {
     "data": {
      "application/vnd.jupyter.widget-view+json": {
       "model_id": "b9f4ed51c18c40748bf4cb8b08a761a4",
       "version_major": 2,
       "version_minor": 0
      },
      "text/plain": [
       "Running Epoch 1 of 1:   0%|          | 0/941 [00:00<?, ?it/s]"
      ]
     },
     "metadata": {},
     "output_type": "display_data"
    },
    {
     "data": {
      "application/vnd.jupyter.widget-view+json": {
       "model_id": "2039a7478d77445c87c4396089d7973d",
       "version_major": 2,
       "version_minor": 0
      },
      "text/plain": [
       "  0%|          | 0/210 [00:00<?, ?it/s]"
      ]
     },
     "metadata": {},
     "output_type": "display_data"
    },
    {
     "name": "stdout",
     "output_type": "stream",
     "text": [
      "Validation Set Metrics\n",
      "              precision    recall  f1-score   support\n",
      "\n",
      "           0     0.9577    0.9297    0.9435      1508\n",
      "           1     0.4976    0.6287    0.5556       167\n",
      "\n",
      "    accuracy                         0.8997      1675\n",
      "   macro avg     0.7276    0.7792    0.7495      1675\n",
      "weighted avg     0.9118    0.8997    0.9048      1675\n",
      "\n"
     ]
    }
   ],
   "source": [
    "# Random upsampling with downsampling\n",
    "from sklearn.utils import resample\n",
    "# We want to use more of the training data, but this will cause the 0 class to overpower\n",
    "# the 1 class. Thus, we will upsample the minority class and downsample the majority class\n",
    "random_upsampling_results = {}\n",
    "train_label_1 = train_data[train_data.labels==1]\n",
    "num_label_1 = len(train_label_1)\n",
    "train_label_0 = train_data[train_data.labels==0]\n",
    "num_label_0 = len(train_label_0)\n",
    "print(f\"Total number 1 labels: {num_label_1}\")\n",
    "print(f\"Total number 0 labels: {num_label_0}\")\n",
    "print(f\"Default Imbalance Ratio: {num_label_0/num_label_1}\")\n",
    "for upsampling_multiple in [1,2,3,4]:\n",
    "    print(f\"Training for upsampling factor {upsampling_multiple} and downsampling factor 2\")\n",
    "    train_label_1_samples = resample(train_label_1, replace=True,\n",
    "                                    n_samples=num_label_1*upsampling_multiple,\n",
    "                                    random_state=42)\n",
    "    num_label_1_samples = len(train_label_1_samples)\n",
    "    num_label_0_samples = num_label_1_samples*2\n",
    "    train_label_0_samples = train_label_0[:num_label_0_samples]\n",
    "    print(f\"Total samples: {num_label_1_samples + num_label_0_samples}\")\n",
    "    print(f\"Num label 1 samples: {num_label_1_samples}\")\n",
    "    print(f\"Num label 0 samples: {num_label_0_samples}\")\n",
    "    print(f\"Imbalance ratio: {num_label_0_samples/num_label_1_samples}\")\n",
    "    train_data_updownsampled = pd.concat([train_label_1_samples,train_label_0_samples])\n",
    "    random_upsampling_results[f\"{upsampling_multiple}\"] = train_model(train_data_updownsampled, val_data)"
   ]
  },
  {
   "cell_type": "code",
   "execution_count": 46,
   "id": "590ba9db-d30d-49f3-a963-b8a8216eb38a",
   "metadata": {},
   "outputs": [
    {
     "name": "stdout",
     "output_type": "stream",
     "text": [
      "{'1': 0.49897750511247446, '2': 0.5188679245283019, '3': 0.5206812652068127, '4': 0.5555555555555556}\n"
     ]
    }
   ],
   "source": [
    "print(random_upsampling_results)"
   ]
  },
  {
   "cell_type": "markdown",
   "id": "d79a3331-1153-40a9-8afd-e3e4ae30474f",
   "metadata": {},
   "source": [
    "While this achieves better results, random sampling is limited as it \"generates\" new training samples for the minority class by just sampling duplicates of the minority class. Let's see if using data augmentation to generate novel training examples for the minority class works better."
   ]
  },
  {
   "cell_type": "code",
   "execution_count": 34,
   "id": "36064e76-6893-479a-87d4-4fb1fd242006",
   "metadata": {},
   "outputs": [],
   "source": [
    "from nltk.corpus import wordnet\n",
    "from nltk.tokenize import word_tokenize\n",
    "import random\n",
    "\n",
    "def synonym_replacement(text, probability=0.5):\n",
    "    tokens = word_tokenize(text)\n",
    "    for i, token in enumerate(tokens):\n",
    "        if wordnet.synsets(token) and random.random() <= probability:\n",
    "            synonyms = [synset.lemmas()[0].name() for synset in wordnet.synsets(token)]\n",
    "            if synonyms:\n",
    "                replacement = random.choice(synonyms)\n",
    "                tokens[i] = replacement\n",
    "    return ' '.join(tokens)"
   ]
  },
  {
   "cell_type": "code",
   "execution_count": 44,
   "id": "604b34bb-816d-43f1-b533-1672825cd337",
   "metadata": {},
   "outputs": [
    {
     "name": "stdout",
     "output_type": "stream",
     "text": [
      "Mr Porter , do you think you will get the numbers needed from the remaining senators and do you agree that , if implemented , some vulnerable people will fall through the cracks and the streets could be un-safer as a consequence ?\n",
      "Mister Porter , do you think you will catch the count needed from the persist senator and do you agree that , if implemented , some vulnerable people will fall through the cracks and the streets could be un-safer ampere a consequence ?\n",
      "Mister Porter , do you think you will catch the number want from the remaining senators and do you agree that , if enforced , some vulnerable people will fall through the cracks and the streets could cost un-safer as a consequence ?\n"
     ]
    }
   ],
   "source": [
    "example_text = train_label_1[train_label_1[\"par_id\"] == 1394][\"original_text\"].iloc[0]\n",
    "print(example_text)\n",
    "print(synonym_replacement(example_text))\n",
    "print(synonym_replacement(example_text))"
   ]
  },
  {
   "cell_type": "code",
   "execution_count": 39,
   "id": "43480d28-d886-4b56-8607-4d92230d71fb",
   "metadata": {},
   "outputs": [
    {
     "name": "stdout",
     "output_type": "stream",
     "text": [
      "Total number 1 labels: 627\n",
      "Total number 0 labels: 6073\n",
      "Default Imbalance Ratio: 9.685805422647528\n",
      "Training for upsampling factor 2 and downsampling factor 2\n",
      "Total samples: 3762\n",
      "Num label 1 samples: 1254\n",
      "Num label 0 samples: 2508\n",
      "Imbalance ratio: 2.0\n"
     ]
    },
    {
     "name": "stderr",
     "output_type": "stream",
     "text": [
      "Some weights of RobertaForSequenceClassification were not initialized from the model checkpoint at roberta-base and are newly initialized: ['classifier.dense.bias', 'classifier.dense.weight', 'classifier.out_proj.bias', 'classifier.out_proj.weight']\n",
      "You should probably TRAIN this model on a down-stream task to be able to use it for predictions and inference.\n"
     ]
    },
    {
     "data": {
      "application/vnd.jupyter.widget-view+json": {
       "model_id": "0a80c51c853f4f7eaddcfa2da3ad5766",
       "version_major": 2,
       "version_minor": 0
      },
      "text/plain": [
       "Epoch:   0%|          | 0/1 [00:00<?, ?it/s]"
      ]
     },
     "metadata": {},
     "output_type": "display_data"
    },
    {
     "data": {
      "application/vnd.jupyter.widget-view+json": {
       "model_id": "d797aee29770404fa51805d8613f0fdc",
       "version_major": 2,
       "version_minor": 0
      },
      "text/plain": [
       "Running Epoch 1 of 1:   0%|          | 0/471 [00:00<?, ?it/s]"
      ]
     },
     "metadata": {},
     "output_type": "display_data"
    },
    {
     "data": {
      "application/vnd.jupyter.widget-view+json": {
       "model_id": "ba55107c8b424105994698db58039991",
       "version_major": 2,
       "version_minor": 0
      },
      "text/plain": [
       "  0%|          | 0/210 [00:00<?, ?it/s]"
      ]
     },
     "metadata": {},
     "output_type": "display_data"
    },
    {
     "name": "stdout",
     "output_type": "stream",
     "text": [
      "Validation Set Metrics\n",
      "              precision    recall  f1-score   support\n",
      "\n",
      "           0     0.9558    0.9171    0.9360      1508\n",
      "           1     0.4518    0.6168    0.5215       167\n",
      "\n",
      "    accuracy                         0.8872      1675\n",
      "   macro avg     0.7038    0.7669    0.7288      1675\n",
      "weighted avg     0.9055    0.8872    0.8947      1675\n",
      "\n",
      "Training for upsampling factor 3 and downsampling factor 2\n",
      "Total samples: 5643\n",
      "Num label 1 samples: 1881\n",
      "Num label 0 samples: 3762\n",
      "Imbalance ratio: 2.0\n"
     ]
    },
    {
     "name": "stderr",
     "output_type": "stream",
     "text": [
      "Some weights of RobertaForSequenceClassification were not initialized from the model checkpoint at roberta-base and are newly initialized: ['classifier.dense.bias', 'classifier.dense.weight', 'classifier.out_proj.bias', 'classifier.out_proj.weight']\n",
      "You should probably TRAIN this model on a down-stream task to be able to use it for predictions and inference.\n"
     ]
    },
    {
     "data": {
      "application/vnd.jupyter.widget-view+json": {
       "model_id": "f0862e40777e4134a720105211f9a89a",
       "version_major": 2,
       "version_minor": 0
      },
      "text/plain": [
       "Epoch:   0%|          | 0/1 [00:00<?, ?it/s]"
      ]
     },
     "metadata": {},
     "output_type": "display_data"
    },
    {
     "data": {
      "application/vnd.jupyter.widget-view+json": {
       "model_id": "8128c8c3d7174d3fb2136291e6277931",
       "version_major": 2,
       "version_minor": 0
      },
      "text/plain": [
       "Running Epoch 1 of 1:   0%|          | 0/706 [00:00<?, ?it/s]"
      ]
     },
     "metadata": {},
     "output_type": "display_data"
    },
    {
     "data": {
      "application/vnd.jupyter.widget-view+json": {
       "model_id": "1a00de3a4c9d423da66d1d92b3b8651d",
       "version_major": 2,
       "version_minor": 0
      },
      "text/plain": [
       "  0%|          | 0/210 [00:00<?, ?it/s]"
      ]
     },
     "metadata": {},
     "output_type": "display_data"
    },
    {
     "name": "stdout",
     "output_type": "stream",
     "text": [
      "Validation Set Metrics\n",
      "              precision    recall  f1-score   support\n",
      "\n",
      "           0     0.9308    0.9629    0.9465      1508\n",
      "           1     0.5130    0.3533    0.4184       167\n",
      "\n",
      "    accuracy                         0.9021      1675\n",
      "   macro avg     0.7219    0.6581    0.6825      1675\n",
      "weighted avg     0.8891    0.9021    0.8939      1675\n",
      "\n",
      "Training for upsampling factor 4 and downsampling factor 2\n",
      "Total samples: 7524\n",
      "Num label 1 samples: 2508\n",
      "Num label 0 samples: 5016\n",
      "Imbalance ratio: 2.0\n"
     ]
    },
    {
     "name": "stderr",
     "output_type": "stream",
     "text": [
      "Some weights of RobertaForSequenceClassification were not initialized from the model checkpoint at roberta-base and are newly initialized: ['classifier.dense.bias', 'classifier.dense.weight', 'classifier.out_proj.bias', 'classifier.out_proj.weight']\n",
      "You should probably TRAIN this model on a down-stream task to be able to use it for predictions and inference.\n"
     ]
    },
    {
     "data": {
      "application/vnd.jupyter.widget-view+json": {
       "model_id": "86c11825c19347fc878d37acf24ac8c4",
       "version_major": 2,
       "version_minor": 0
      },
      "text/plain": [
       "Epoch:   0%|          | 0/1 [00:00<?, ?it/s]"
      ]
     },
     "metadata": {},
     "output_type": "display_data"
    },
    {
     "data": {
      "application/vnd.jupyter.widget-view+json": {
       "model_id": "e25262a75f3d4645927610f493b1b871",
       "version_major": 2,
       "version_minor": 0
      },
      "text/plain": [
       "Running Epoch 1 of 1:   0%|          | 0/941 [00:00<?, ?it/s]"
      ]
     },
     "metadata": {},
     "output_type": "display_data"
    },
    {
     "data": {
      "application/vnd.jupyter.widget-view+json": {
       "model_id": "181f6215ad564116b8447b92841c444e",
       "version_major": 2,
       "version_minor": 0
      },
      "text/plain": [
       "  0%|          | 0/210 [00:00<?, ?it/s]"
      ]
     },
     "metadata": {},
     "output_type": "display_data"
    },
    {
     "name": "stdout",
     "output_type": "stream",
     "text": [
      "Validation Set Metrics\n",
      "              precision    recall  f1-score   support\n",
      "\n",
      "           0     0.9192    0.9881    0.9524      1508\n",
      "           1     0.6667    0.2156    0.3258       167\n",
      "\n",
      "    accuracy                         0.9110      1675\n",
      "   macro avg     0.7929    0.6018    0.6391      1675\n",
      "weighted avg     0.8940    0.9110    0.8899      1675\n",
      "\n"
     ]
    }
   ],
   "source": [
    "# Data augmentation (synonym replacement) with downsampling\n",
    "from sklearn.utils import resample\n",
    "synonym_augmentation_results = {}\n",
    "train_label_1 = train_data[train_data.labels==1]\n",
    "num_label_1 = len(train_label_1)\n",
    "train_label_0 = train_data[train_data.labels==0]\n",
    "num_label_0 = len(train_label_0)\n",
    "print(f\"Total number 1 labels: {num_label_1}\")\n",
    "print(f\"Total number 0 labels: {num_label_0}\")\n",
    "print(f\"Default Imbalance Ratio: {num_label_0/num_label_1}\")\n",
    "for upsampling_multiple in [2,3,4]:\n",
    "    print(f\"Training for upsampling factor {upsampling_multiple} and downsampling factor 2\")\n",
    "    train_label_1_default = train_label_1.copy()\n",
    "    train_label_1_augmented = pd.concat([train_label_1]*(upsampling_multiple - 1))\n",
    "    train_label_1_augmented[\"text\"] = train_label_1_augmented[\"original_text\"].apply(synonym_replacement).apply(preprocess_text, lemmatization=True, remove_punctuation=True, lowercase=True)\n",
    "    train_label_1_samples = pd.concat([train_label_1_default, train_label_1_augmented])\n",
    "    num_label_1_samples = len(train_label_1_samples)\n",
    "    num_label_0_samples = num_label_1_samples*2\n",
    "    train_label_0_samples = train_label_0[:num_label_0_samples]\n",
    "    print(f\"Total samples: {num_label_1_samples + num_label_0_samples}\")\n",
    "    print(f\"Num label 1 samples: {num_label_1_samples}\")\n",
    "    print(f\"Num label 0 samples: {num_label_0_samples}\")\n",
    "    print(f\"Imbalance ratio: {num_label_0_samples/num_label_1_samples}\")\n",
    "    train_data_updownsampled = pd.concat([train_label_1_samples,train_label_0_samples])\n",
    "    synonym_augmentation_results[f\"{upsampling_multiple}\"] = train_model(train_data_updownsampled, val_data)"
   ]
  },
  {
   "cell_type": "code",
   "execution_count": 40,
   "id": "95da19e5-0a95-4f0c-8e62-159f72e91ec1",
   "metadata": {},
   "outputs": [
    {
     "name": "stdout",
     "output_type": "stream",
     "text": [
      "{'2': 0.5215189873417722, '3': 0.41843971631205673, '4': 0.3257918552036199}\n"
     ]
    }
   ],
   "source": [
    "print(synonym_augmentation_results)"
   ]
  },
  {
   "cell_type": "markdown",
   "id": "edbd857b-9c7b-495e-bb39-e94bfc77d99b",
   "metadata": {},
   "source": [
    "#### Paraphrasing"
   ]
  },
  {
   "cell_type": "code",
   "execution_count": 10,
   "id": "a7e6ce37-8359-472e-add1-273d1d696857",
   "metadata": {},
   "outputs": [
    {
     "name": "stderr",
     "output_type": "stream",
     "text": [
      "/home/jonezia/NLP_CW/DontPatroniseMe/venv/lib/python3.10/site-packages/torch/_utils.py:776: UserWarning: TypedStorage is deprecated. It will be removed in the future and UntypedStorage will be the only storage class. This should only matter to you if you are using storages directly.  To access UntypedStorage directly, use tensor.untyped_storage() instead of tensor.storage()\n",
      "  return self.fget.__get__(instance, owner)()\n",
      "Some weights of PegasusForConditionalGeneration were not initialized from the model checkpoint at tuner007/pegasus_paraphrase and are newly initialized: ['model.decoder.embed_positions.weight', 'model.encoder.embed_positions.weight']\n",
      "You should probably TRAIN this model on a down-stream task to be able to use it for predictions and inference.\n"
     ]
    }
   ],
   "source": [
    "from transformers import PegasusTokenizer, PegasusForConditionalGeneration\n",
    "\n",
    "device = \"cuda\" if torch.cuda.is_available() else \"cpu\"\n",
    "\n",
    "# load pre-trained Pegasus Paraphrase model and tokenizer\n",
    "pegasus_model_name = \"tuner007/pegasus_paraphrase\"\n",
    "pegasus_tokenizer = PegasusTokenizer.from_pretrained(pegasus_model_name)\n",
    "pegasus_model = PegasusForConditionalGeneration.from_pretrained(pegasus_model_name).to(device)"
   ]
  },
  {
   "cell_type": "code",
   "execution_count": 67,
   "id": "3f5045cf-1fa4-45ab-8e33-7e5c0a19d24f",
   "metadata": {},
   "outputs": [],
   "source": [
    "def paraphrase_text(input_text, temperature=1.5, max_length=60, num_sequences=3):\n",
    "    # Tokenize the input sentence\n",
    "    input_ids = pegasus_tokenizer.encode(input_text, max_length=max_length, truncation=True, return_tensors='pt').to(device)\n",
    "    # Generate paraphrased sentence\n",
    "    paraphrase_ids = pegasus_model.generate(input_ids, num_beams=num_sequences, max_length=max_length, do_sample=True, early_stopping=True, temperature=temperature).to(device)\n",
    "    # Decode\n",
    "    paraphrase = pegasus_tokenizer.decode(paraphrase_ids[0], skip_special_tokens=True)\n",
    "    return paraphrase"
   ]
  },
  {
   "cell_type": "code",
   "execution_count": 69,
   "id": "6dcbd588-56b6-4d6a-8888-9e6a64ae0215",
   "metadata": {},
   "outputs": [
    {
     "name": "stdout",
     "output_type": "stream",
     "text": [
      "Mr Porter , do you think you will get the numbers needed from the remaining senators and do you agree that , if implemented , some vulnerable people will fall through the cracks and the streets could be un-safer as a consequence ?\n",
      "Do you believe that you will get the numbers from the remaining senates so that we can keep the streets safe, and do you agree with the idea that vulnerable people will fall through the cracks?\n",
      "Is it possible that some vulnerable people will fall through the cracks if implemented, and the streets will be unsafe as a consequence, as you think you can get the numbers from the remaining senators?\n",
      "Mr Porter, do you believe that if implemented, some vulnerable people will fall through the cracks and the streets will be unsafe, do you agree with that?\n"
     ]
    }
   ],
   "source": [
    "train_label_1 = train_data[train_data.labels==1]\n",
    "train_label_0 = train_data[train_data.labels==0]\n",
    "example_text = train_label_1[train_label_1[\"par_id\"] == 1394][\"original_text\"].iloc[0]\n",
    "print(example_text)\n",
    "print(paraphrase_text(example_text))\n",
    "print(paraphrase_text(example_text))\n",
    "print(paraphrase_text(example_text))"
   ]
  },
  {
   "cell_type": "code",
   "execution_count": 70,
   "id": "0493ed48-c758-4083-9af7-209afe5d03b7",
   "metadata": {},
   "outputs": [],
   "source": [
    "paraphrase_augmented_block_1 = train_label_1.copy()\n",
    "paraphrase_augmented_block_1[\"text\"] = paraphrase_augmented_block_1[\"original_text\"].apply(paraphrase_text).apply(preprocess_text, lemmatization=True, remove_punctuation=True, lowercase=True)"
   ]
  },
  {
   "cell_type": "code",
   "execution_count": 71,
   "id": "5a74fa6a-5f15-40be-9e05-3410e4b83145",
   "metadata": {},
   "outputs": [],
   "source": [
    "paraphrase_augmented_block_2 = train_label_1.copy()\n",
    "paraphrase_augmented_block_2[\"text\"] = paraphrase_augmented_block_2[\"original_text\"].apply(paraphrase_text).apply(preprocess_text, lemmatization=True, remove_punctuation=True, lowercase=True)"
   ]
  },
  {
   "cell_type": "code",
   "execution_count": 72,
   "id": "51daf441-a098-4e20-afc6-461c6009d6f0",
   "metadata": {},
   "outputs": [],
   "source": [
    "paraphrase_augmented_block_3 = train_label_1.copy()\n",
    "paraphrase_augmented_block_3[\"text\"] = paraphrase_augmented_block_3[\"original_text\"].apply(paraphrase_text).apply(preprocess_text, lemmatization=True, remove_punctuation=True, lowercase=True)"
   ]
  },
  {
   "cell_type": "code",
   "execution_count": 73,
   "id": "322a4aa6-a356-41d5-b293-d2b52b0cf0a9",
   "metadata": {},
   "outputs": [],
   "source": [
    "paraphrase_augmented_train_label_1 = pd.concat([paraphrase_augmented_block_1, paraphrase_augmented_block_2, paraphrase_augmented_block_3])"
   ]
  },
  {
   "cell_type": "code",
   "execution_count": 75,
   "id": "86e0e278-7484-48ec-8cde-0733da1c6cd2",
   "metadata": {},
   "outputs": [],
   "source": [
    "import pickle\n",
    "paraphrase_augmented_train_label_1.to_pickle(\"augmented_data\")"
   ]
  },
  {
   "cell_type": "code",
   "execution_count": 89,
   "id": "b6acb104-a986-4c5a-aa46-b30c5c49abbb",
   "metadata": {},
   "outputs": [
    {
     "name": "stdout",
     "output_type": "stream",
     "text": [
      "664    mr porter are you sure you will get the number...\n",
      "664    mr porter do you believe that the government w...\n",
      "664    mr porter do you think that the street are saf...\n",
      "Name: text, dtype: object\n"
     ]
    }
   ],
   "source": [
    "print(paraphrase_augmented_train_label_1[paraphrase_augmented_train_label_1[\"par_id\"] == 1394][\"text\"])"
   ]
  },
  {
   "cell_type": "code",
   "execution_count": 10,
   "id": "71842606-4d98-45d8-ad60-71df79f39236",
   "metadata": {},
   "outputs": [],
   "source": [
    "import pickle\n",
    "with open('augmented_data', 'rb') as f:\n",
    "    paraphrase_augmented_train_label_1 = pickle.load(f)"
   ]
  },
  {
   "cell_type": "code",
   "execution_count": 14,
   "id": "8949181a-c8ac-497e-bfb9-1554c1a999c5",
   "metadata": {},
   "outputs": [
    {
     "name": "stdout",
     "output_type": "stream",
     "text": [
      "Total number 1 labels: 627\n",
      "Total number 0 labels: 6073\n",
      "Default Imbalance Ratio: 9.685805422647528\n",
      "Training for upsampling factor 2 and downsampling factor 2\n",
      "Total samples: 3762\n",
      "Num label 1 samples: 1254\n",
      "Num label 0 samples: 2508\n",
      "Imbalance ratio: 2.0\n"
     ]
    },
    {
     "name": "stderr",
     "output_type": "stream",
     "text": [
      "Some weights of RobertaForSequenceClassification were not initialized from the model checkpoint at roberta-base and are newly initialized: ['classifier.dense.bias', 'classifier.dense.weight', 'classifier.out_proj.bias', 'classifier.out_proj.weight']\n",
      "You should probably TRAIN this model on a down-stream task to be able to use it for predictions and inference.\n"
     ]
    },
    {
     "data": {
      "application/vnd.jupyter.widget-view+json": {
       "model_id": "608d7577548c406296898bcfd9314b77",
       "version_major": 2,
       "version_minor": 0
      },
      "text/plain": [
       "Epoch:   0%|          | 0/1 [00:00<?, ?it/s]"
      ]
     },
     "metadata": {},
     "output_type": "display_data"
    },
    {
     "data": {
      "application/vnd.jupyter.widget-view+json": {
       "model_id": "d5e64eeb1e934a4bb403bcb046ff2416",
       "version_major": 2,
       "version_minor": 0
      },
      "text/plain": [
       "Running Epoch 1 of 1:   0%|          | 0/471 [00:00<?, ?it/s]"
      ]
     },
     "metadata": {},
     "output_type": "display_data"
    },
    {
     "data": {
      "application/vnd.jupyter.widget-view+json": {
       "model_id": "15a7e43c552d4b02b02d5e8c272b641b",
       "version_major": 2,
       "version_minor": 0
      },
      "text/plain": [
       "  0%|          | 0/210 [00:00<?, ?it/s]"
      ]
     },
     "metadata": {},
     "output_type": "display_data"
    },
    {
     "name": "stdout",
     "output_type": "stream",
     "text": [
      "Validation Set Metrics\n",
      "              precision    recall  f1-score   support\n",
      "\n",
      "           0     0.9618    0.8680    0.9125      1508\n",
      "           1     0.3662    0.6886    0.4782       167\n",
      "\n",
      "    accuracy                         0.8501      1675\n",
      "   macro avg     0.6640    0.7783    0.6953      1675\n",
      "weighted avg     0.9024    0.8501    0.8692      1675\n",
      "\n",
      "Training for upsampling factor 3 and downsampling factor 2\n",
      "Total samples: 5643\n",
      "Num label 1 samples: 1881\n",
      "Num label 0 samples: 3762\n",
      "Imbalance ratio: 2.0\n"
     ]
    },
    {
     "name": "stderr",
     "output_type": "stream",
     "text": [
      "Some weights of RobertaForSequenceClassification were not initialized from the model checkpoint at roberta-base and are newly initialized: ['classifier.dense.bias', 'classifier.dense.weight', 'classifier.out_proj.bias', 'classifier.out_proj.weight']\n",
      "You should probably TRAIN this model on a down-stream task to be able to use it for predictions and inference.\n"
     ]
    },
    {
     "data": {
      "application/vnd.jupyter.widget-view+json": {
       "model_id": "da10322d885a432fa7e0f74312539759",
       "version_major": 2,
       "version_minor": 0
      },
      "text/plain": [
       "Epoch:   0%|          | 0/1 [00:00<?, ?it/s]"
      ]
     },
     "metadata": {},
     "output_type": "display_data"
    },
    {
     "data": {
      "application/vnd.jupyter.widget-view+json": {
       "model_id": "8c65f550e8944331bad2fc03a82767c3",
       "version_major": 2,
       "version_minor": 0
      },
      "text/plain": [
       "Running Epoch 1 of 1:   0%|          | 0/706 [00:00<?, ?it/s]"
      ]
     },
     "metadata": {},
     "output_type": "display_data"
    },
    {
     "data": {
      "application/vnd.jupyter.widget-view+json": {
       "model_id": "fc3e0aee82ef4be9a8b01e99c6053e58",
       "version_major": 2,
       "version_minor": 0
      },
      "text/plain": [
       "  0%|          | 0/210 [00:00<?, ?it/s]"
      ]
     },
     "metadata": {},
     "output_type": "display_data"
    },
    {
     "name": "stdout",
     "output_type": "stream",
     "text": [
      "Validation Set Metrics\n",
      "              precision    recall  f1-score   support\n",
      "\n",
      "           0     0.9526    0.8793    0.9145      1508\n",
      "           1     0.3569    0.6048    0.4489       167\n",
      "\n",
      "    accuracy                         0.8519      1675\n",
      "   macro avg     0.6547    0.7421    0.6817      1675\n",
      "weighted avg     0.8932    0.8519    0.8681      1675\n",
      "\n",
      "Training for upsampling factor 4 and downsampling factor 2\n",
      "Total samples: 7524\n",
      "Num label 1 samples: 2508\n",
      "Num label 0 samples: 5016\n",
      "Imbalance ratio: 2.0\n"
     ]
    },
    {
     "name": "stderr",
     "output_type": "stream",
     "text": [
      "Some weights of RobertaForSequenceClassification were not initialized from the model checkpoint at roberta-base and are newly initialized: ['classifier.dense.bias', 'classifier.dense.weight', 'classifier.out_proj.bias', 'classifier.out_proj.weight']\n",
      "You should probably TRAIN this model on a down-stream task to be able to use it for predictions and inference.\n"
     ]
    },
    {
     "data": {
      "application/vnd.jupyter.widget-view+json": {
       "model_id": "cd7f6531c926480da51954eeba57df29",
       "version_major": 2,
       "version_minor": 0
      },
      "text/plain": [
       "Epoch:   0%|          | 0/1 [00:00<?, ?it/s]"
      ]
     },
     "metadata": {},
     "output_type": "display_data"
    },
    {
     "data": {
      "application/vnd.jupyter.widget-view+json": {
       "model_id": "0df344ce296d4266a4f13b24719d6b30",
       "version_major": 2,
       "version_minor": 0
      },
      "text/plain": [
       "Running Epoch 1 of 1:   0%|          | 0/941 [00:00<?, ?it/s]"
      ]
     },
     "metadata": {},
     "output_type": "display_data"
    },
    {
     "data": {
      "application/vnd.jupyter.widget-view+json": {
       "model_id": "ee5dd7fe618f4f2d9dbe3629a3dc637a",
       "version_major": 2,
       "version_minor": 0
      },
      "text/plain": [
       "  0%|          | 0/210 [00:00<?, ?it/s]"
      ]
     },
     "metadata": {},
     "output_type": "display_data"
    },
    {
     "name": "stdout",
     "output_type": "stream",
     "text": [
      "Validation Set Metrics\n",
      "              precision    recall  f1-score   support\n",
      "\n",
      "           0     0.9517    0.8886    0.9191      1508\n",
      "           1     0.3708    0.5928    0.4562       167\n",
      "\n",
      "    accuracy                         0.8591      1675\n",
      "   macro avg     0.6612    0.7407    0.6876      1675\n",
      "weighted avg     0.8938    0.8591    0.8729      1675\n",
      "\n"
     ]
    }
   ],
   "source": [
    "# Data augmentation (paraphrasing) with downsampling\n",
    "from sklearn.utils import resample\n",
    "paraphrasing_augmentation_results = {}\n",
    "train_label_1 = train_data[train_data.labels==1]\n",
    "num_label_1 = len(train_label_1)\n",
    "train_label_0 = train_data[train_data.labels==0]\n",
    "num_label_0 = len(train_label_0)\n",
    "print(f\"Total number 1 labels: {num_label_1}\")\n",
    "print(f\"Total number 0 labels: {num_label_0}\")\n",
    "print(f\"Default Imbalance Ratio: {num_label_0/num_label_1}\")\n",
    "for upsampling_multiple in [2,3,4]:\n",
    "    print(f\"Training for upsampling factor {upsampling_multiple} and downsampling factor 2\")\n",
    "    train_label_1_default = train_label_1.copy()\n",
    "    train_label_1_augmented = paraphrase_augmented_train_label_1[:num_label_1*(upsampling_multiple - 1)]\n",
    "    train_label_1_samples = pd.concat([train_label_1_default, train_label_1_augmented])\n",
    "    num_label_1_samples = len(train_label_1_samples)\n",
    "    num_label_0_samples = num_label_1_samples*2\n",
    "    train_label_0_samples = train_label_0[:num_label_0_samples]\n",
    "    print(f\"Total samples: {num_label_1_samples + num_label_0_samples}\")\n",
    "    print(f\"Num label 1 samples: {num_label_1_samples}\")\n",
    "    print(f\"Num label 0 samples: {num_label_0_samples}\")\n",
    "    print(f\"Imbalance ratio: {num_label_0_samples/num_label_1_samples}\")\n",
    "    train_data_updownsampled = pd.concat([train_label_1_samples,train_label_0_samples])\n",
    "    paraphrasing_augmentation_results[f\"{upsampling_multiple}\"] = train_model(train_data_updownsampled, val_data)"
   ]
  },
  {
   "cell_type": "code",
   "execution_count": 15,
   "id": "19bf4fac-7f46-441b-84b1-c52ec323eb0f",
   "metadata": {},
   "outputs": [
    {
     "name": "stdout",
     "output_type": "stream",
     "text": [
      "{'2': 0.4781704781704782, '3': 0.4488888888888889, '4': 0.45622119815668205}\n"
     ]
    }
   ],
   "source": [
    "print(paraphrasing_augmentation_results)"
   ]
  },
  {
   "cell_type": "code",
   "execution_count": 60,
   "id": "15f584d1-16bb-405a-8f3f-9eef739e80f5",
   "metadata": {},
   "outputs": [
    {
     "name": "stdout",
     "output_type": "stream",
     "text": [
      "{'duplicative UF 2': 0.5294117647058824, 'duplicative UF 3': 0.5441176470588235, 'duplicative UF 4': 0.5197215777262181, 'random UF 2': 0.5188679245283019, 'random UF 3': 0.5206812652068127, 'random UF 4': 0.5555555555555556, 'synonym UF 2': 0.5215189873417722, 'synonym UF 3': 0.41843971631205673, 'synonym UF 4': 0.3257918552036199, 'paraphrase UF 2': 0.4781704781704782, 'paraphrase UF 3': 0.4488888888888889, 'paraphrase UF 4': 0.45622119815668205}\n"
     ]
    }
   ],
   "source": [
    "combined_sampling_results = {}\n",
    "for i in [2,3,4]:\n",
    "    combined_sampling_results[f\"duplicative UF {i}\"] = duplicative_upsampling_results[f'UF={i}, DF=2']\n",
    "for k, v in random_upsampling_results.items():\n",
    "    if k != '1':\n",
    "        combined_sampling_results[f\"random UF {k}\"] = v\n",
    "for k, v in synonym_augmentation_results.items():\n",
    "    combined_sampling_results[f\"synonym UF {k}\"] = v\n",
    "for k, v in paraphrasing_augmentation_results.items():\n",
    "    combined_sampling_results[f\"paraphrase UF {k}\"] = v\n",
    "print(combined_sampling_results)"
   ]
  },
  {
   "cell_type": "code",
   "execution_count": 61,
   "id": "9b1a4bad-5a6a-45fb-809e-75ba8414155a",
   "metadata": {},
   "outputs": [
    {
     "data": {
      "image/png": "[encoded data removed]",
      "text/plain": [
       "<Figure size 1000x700 with 1 Axes>"
      ]
     },
     "metadata": {},
     "output_type": "display_data"
    }
   ],
   "source": [
    "keys = list(combined_sampling_results.keys())\n",
    "values = list(combined_sampling_results.values())\n",
    "\n",
    "plt.figure(figsize=(10, 7))\n",
    "plt.bar(keys, values)\n",
    "\n",
    "plt.xlabel('Sampling Setting', fontsize=14)\n",
    "plt.ylabel('Label 1 F1 Score', fontsize=14)\n",
    "plt.title('Label 1 F1 Scores for Different Sampling Settings with Downscaling Factor 2 and varying Upscaling Factor', fontsize=15)\n",
    "plt.xticks(rotation=45, ha='right', fontsize=12)\n",
    "plt.tight_layout()\n",
    "plt.show()\n",
    "\n",
    "# Show the plot\n",
    "plt.show()"
   ]
  },
  {
   "cell_type": "markdown",
   "id": "fd01b7da-e38c-4162-aedd-fc7a5d0e9e1e",
   "metadata": {},
   "source": [
    "We conclude that the best sampling strategy is actually just random sampling with an upsampling factor of 4 and a downsampling factor of 2. We will create the final training data as appropriate."
   ]
  },
  {
   "cell_type": "code",
   "execution_count": 14,
   "id": "f6b20d96-9308-411a-955b-a0721000ef4f",
   "metadata": {},
   "outputs": [
    {
     "name": "stdout",
     "output_type": "stream",
     "text": [
      "Total samples: 7524\n",
      "Num label 1 samples: 2508\n",
      "Num label 0 samples: 5016\n",
      "Imbalance ratio: 2.0\n"
     ]
    }
   ],
   "source": [
    "# Thus, the best performing sampling strategy is just random upsampling with a factor of 4\n",
    "# and random downsampling with a factor of 2\n",
    "from sklearn.utils import resample\n",
    "train_label_1 = train_data[train_data.labels==1]\n",
    "num_label_1 = len(train_label_1)\n",
    "train_label_0 = train_data[train_data.labels==0]\n",
    "num_label_0 = len(train_label_0)\n",
    "train_label_1_samples = resample(train_label_1, replace=True,\n",
    "                                    n_samples=num_label_1*4,\n",
    "                                    random_state=42)\n",
    "num_label_1_samples = len(train_label_1_samples)\n",
    "num_label_0_samples = num_label_1_samples*2\n",
    "train_label_0_samples = train_label_0[:num_label_0_samples]\n",
    "print(f\"Total samples: {num_label_1_samples + num_label_0_samples}\")\n",
    "print(f\"Num label 1 samples: {num_label_1_samples}\")\n",
    "print(f\"Num label 0 samples: {num_label_0_samples}\")\n",
    "print(f\"Imbalance ratio: {num_label_0_samples/num_label_1_samples}\")\n",
    "train_data_updownsampled = pd.concat([train_label_1_samples,train_label_0_samples])"
   ]
  },
  {
   "cell_type": "markdown",
   "id": "34ef33dc-d287-45bc-ab62-a4b1471e7f06",
   "metadata": {},
   "source": [
    "## Hyperparameter Tuning"
   ]
  },
  {
   "cell_type": "markdown",
   "id": "4451991e-2d8e-4826-a2c4-216112e5a4c3",
   "metadata": {},
   "source": [
    "Now that we've found good preprocessing steps, sampling steps and data augmentation steps, let's finetune the hyperparameters of our model to get the best possible performance. We will finetune the \"learning_rate\" and \"scheduler\" hyperparameters."
   ]
  },
  {
   "cell_type": "code",
   "execution_count": 62,
   "id": "664077c6-07e9-4711-8d48-39bb7e991edd",
   "metadata": {},
   "outputs": [
    {
     "name": "stdout",
     "output_type": "stream",
     "text": [
      "Training with learning rate 1e-05 and scheduler constant_schedule\n"
     ]
    },
    {
     "name": "stderr",
     "output_type": "stream",
     "text": [
      "Some weights of RobertaForSequenceClassification were not initialized from the model checkpoint at roberta-base and are newly initialized: ['classifier.dense.bias', 'classifier.dense.weight', 'classifier.out_proj.bias', 'classifier.out_proj.weight']\n",
      "You should probably TRAIN this model on a down-stream task to be able to use it for predictions and inference.\n"
     ]
    },
    {
     "data": {
      "application/vnd.jupyter.widget-view+json": {
       "model_id": "9725654a76ff4dba9187ae4554694d62",
       "version_major": 2,
       "version_minor": 0
      },
      "text/plain": [
       "Epoch:   0%|          | 0/1 [00:00<?, ?it/s]"
      ]
     },
     "metadata": {},
     "output_type": "display_data"
    },
    {
     "data": {
      "application/vnd.jupyter.widget-view+json": {
       "model_id": "fa7e051b4be34a04bc70d8a01e33dd3f",
       "version_major": 2,
       "version_minor": 0
      },
      "text/plain": [
       "Running Epoch 1 of 1:   0%|          | 0/941 [00:00<?, ?it/s]"
      ]
     },
     "metadata": {},
     "output_type": "display_data"
    },
    {
     "data": {
      "application/vnd.jupyter.widget-view+json": {
       "model_id": "81c958fa590140829be05b625fca1c43",
       "version_major": 2,
       "version_minor": 0
      },
      "text/plain": [
       "  0%|          | 0/210 [00:00<?, ?it/s]"
      ]
     },
     "metadata": {},
     "output_type": "display_data"
    },
    {
     "name": "stdout",
     "output_type": "stream",
     "text": [
      "Validation Set Metrics\n",
      "              precision    recall  f1-score   support\n",
      "\n",
      "           0     0.9438    0.9576    0.9506      1508\n",
      "           1     0.5586    0.4850    0.5192       167\n",
      "\n",
      "    accuracy                         0.9104      1675\n",
      "   macro avg     0.7512    0.7213    0.7349      1675\n",
      "weighted avg     0.9054    0.9104    0.9076      1675\n",
      "\n",
      "Training with learning rate 1e-05 and scheduler constant_schedule_with_warmup\n"
     ]
    },
    {
     "name": "stderr",
     "output_type": "stream",
     "text": [
      "Some weights of RobertaForSequenceClassification were not initialized from the model checkpoint at roberta-base and are newly initialized: ['classifier.dense.bias', 'classifier.dense.weight', 'classifier.out_proj.bias', 'classifier.out_proj.weight']\n",
      "You should probably TRAIN this model on a down-stream task to be able to use it for predictions and inference.\n"
     ]
    },
    {
     "data": {
      "application/vnd.jupyter.widget-view+json": {
       "model_id": "ad466fe7b32a49ef8198629453c8be91",
       "version_major": 2,
       "version_minor": 0
      },
      "text/plain": [
       "Epoch:   0%|          | 0/1 [00:00<?, ?it/s]"
      ]
     },
     "metadata": {},
     "output_type": "display_data"
    },
    {
     "data": {
      "application/vnd.jupyter.widget-view+json": {
       "model_id": "3223a4621e574e8b907b52629a896cb0",
       "version_major": 2,
       "version_minor": 0
      },
      "text/plain": [
       "Running Epoch 1 of 1:   0%|          | 0/941 [00:00<?, ?it/s]"
      ]
     },
     "metadata": {},
     "output_type": "display_data"
    },
    {
     "data": {
      "application/vnd.jupyter.widget-view+json": {
       "model_id": "85258305dbd041de8bf510854a1a639f",
       "version_major": 2,
       "version_minor": 0
      },
      "text/plain": [
       "  0%|          | 0/210 [00:00<?, ?it/s]"
      ]
     },
     "metadata": {},
     "output_type": "display_data"
    },
    {
     "name": "stdout",
     "output_type": "stream",
     "text": [
      "Validation Set Metrics\n",
      "              precision    recall  f1-score   support\n",
      "\n",
      "           0     0.9511    0.9290    0.9400      1508\n",
      "           1     0.4703    0.5689    0.5149       167\n",
      "\n",
      "    accuracy                         0.8931      1675\n",
      "   macro avg     0.7107    0.7490    0.7274      1675\n",
      "weighted avg     0.9032    0.8931    0.8976      1675\n",
      "\n",
      "Training with learning rate 1e-05 and scheduler linear_schedule_with_warmup\n"
     ]
    },
    {
     "name": "stderr",
     "output_type": "stream",
     "text": [
      "Some weights of RobertaForSequenceClassification were not initialized from the model checkpoint at roberta-base and are newly initialized: ['classifier.dense.bias', 'classifier.dense.weight', 'classifier.out_proj.bias', 'classifier.out_proj.weight']\n",
      "You should probably TRAIN this model on a down-stream task to be able to use it for predictions and inference.\n"
     ]
    },
    {
     "data": {
      "application/vnd.jupyter.widget-view+json": {
       "model_id": "cac118f2bbd14a0f8f53dfb825e95a90",
       "version_major": 2,
       "version_minor": 0
      },
      "text/plain": [
       "Epoch:   0%|          | 0/1 [00:00<?, ?it/s]"
      ]
     },
     "metadata": {},
     "output_type": "display_data"
    },
    {
     "data": {
      "application/vnd.jupyter.widget-view+json": {
       "model_id": "191ecfb6dde447bfb11df9f5deb4d46a",
       "version_major": 2,
       "version_minor": 0
      },
      "text/plain": [
       "Running Epoch 1 of 1:   0%|          | 0/941 [00:00<?, ?it/s]"
      ]
     },
     "metadata": {},
     "output_type": "display_data"
    },
    {
     "data": {
      "application/vnd.jupyter.widget-view+json": {
       "model_id": "7d44f36e9bd0411ba8efa63bd3907fcb",
       "version_major": 2,
       "version_minor": 0
      },
      "text/plain": [
       "  0%|          | 0/210 [00:00<?, ?it/s]"
      ]
     },
     "metadata": {},
     "output_type": "display_data"
    },
    {
     "name": "stdout",
     "output_type": "stream",
     "text": [
      "Validation Set Metrics\n",
      "              precision    recall  f1-score   support\n",
      "\n",
      "           0     0.9626    0.9045    0.9326      1508\n",
      "           1     0.4419    0.6826    0.5365       167\n",
      "\n",
      "    accuracy                         0.8824      1675\n",
      "   macro avg     0.7022    0.7936    0.7346      1675\n",
      "weighted avg     0.9107    0.8824    0.8931      1675\n",
      "\n",
      "Training with learning rate 1e-05 and scheduler cosine_schedule_with_warmup\n"
     ]
    },
    {
     "name": "stderr",
     "output_type": "stream",
     "text": [
      "Some weights of RobertaForSequenceClassification were not initialized from the model checkpoint at roberta-base and are newly initialized: ['classifier.dense.bias', 'classifier.dense.weight', 'classifier.out_proj.bias', 'classifier.out_proj.weight']\n",
      "You should probably TRAIN this model on a down-stream task to be able to use it for predictions and inference.\n"
     ]
    },
    {
     "data": {
      "application/vnd.jupyter.widget-view+json": {
       "model_id": "e1d77bdeefe24efaabbdc68079b7c985",
       "version_major": 2,
       "version_minor": 0
      },
      "text/plain": [
       "Epoch:   0%|          | 0/1 [00:00<?, ?it/s]"
      ]
     },
     "metadata": {},
     "output_type": "display_data"
    },
    {
     "data": {
      "application/vnd.jupyter.widget-view+json": {
       "model_id": "82ae61e8b760472da337e4b48219d9fb",
       "version_major": 2,
       "version_minor": 0
      },
      "text/plain": [
       "Running Epoch 1 of 1:   0%|          | 0/941 [00:00<?, ?it/s]"
      ]
     },
     "metadata": {},
     "output_type": "display_data"
    },
    {
     "data": {
      "application/vnd.jupyter.widget-view+json": {
       "model_id": "a443550b23fd43648539f32010cc6e10",
       "version_major": 2,
       "version_minor": 0
      },
      "text/plain": [
       "  0%|          | 0/210 [00:00<?, ?it/s]"
      ]
     },
     "metadata": {},
     "output_type": "display_data"
    },
    {
     "name": "stdout",
     "output_type": "stream",
     "text": [
      "Validation Set Metrics\n",
      "              precision    recall  f1-score   support\n",
      "\n",
      "           0     0.9634    0.9065    0.9341      1508\n",
      "           1     0.4492    0.6886    0.5437       167\n",
      "\n",
      "    accuracy                         0.8848      1675\n",
      "   macro avg     0.7063    0.7976    0.7389      1675\n",
      "weighted avg     0.9121    0.8848    0.8951      1675\n",
      "\n",
      "Training with learning rate 4e-05 and scheduler constant_schedule\n"
     ]
    },
    {
     "name": "stderr",
     "output_type": "stream",
     "text": [
      "Some weights of RobertaForSequenceClassification were not initialized from the model checkpoint at roberta-base and are newly initialized: ['classifier.dense.bias', 'classifier.dense.weight', 'classifier.out_proj.bias', 'classifier.out_proj.weight']\n",
      "You should probably TRAIN this model on a down-stream task to be able to use it for predictions and inference.\n"
     ]
    },
    {
     "data": {
      "application/vnd.jupyter.widget-view+json": {
       "model_id": "dd8c3f42d6174eb291a1bea2078ad732",
       "version_major": 2,
       "version_minor": 0
      },
      "text/plain": [
       "Epoch:   0%|          | 0/1 [00:00<?, ?it/s]"
      ]
     },
     "metadata": {},
     "output_type": "display_data"
    },
    {
     "data": {
      "application/vnd.jupyter.widget-view+json": {
       "model_id": "b6285ac74e9d491e9580af4f27df80e1",
       "version_major": 2,
       "version_minor": 0
      },
      "text/plain": [
       "Running Epoch 1 of 1:   0%|          | 0/941 [00:00<?, ?it/s]"
      ]
     },
     "metadata": {},
     "output_type": "display_data"
    },
    {
     "data": {
      "application/vnd.jupyter.widget-view+json": {
       "model_id": "a022daff58d148a8b9c455c4ecbd047c",
       "version_major": 2,
       "version_minor": 0
      },
      "text/plain": [
       "  0%|          | 0/210 [00:00<?, ?it/s]"
      ]
     },
     "metadata": {},
     "output_type": "display_data"
    },
    {
     "name": "stdout",
     "output_type": "stream",
     "text": [
      "Validation Set Metrics\n",
      "              precision    recall  f1-score   support\n",
      "\n",
      "           0     0.9587    0.8939    0.9252      1508\n",
      "           1     0.4052    0.6527    0.5000       167\n",
      "\n",
      "    accuracy                         0.8699      1675\n",
      "   macro avg     0.6820    0.7733    0.7126      1675\n",
      "weighted avg     0.9036    0.8699    0.8828      1675\n",
      "\n",
      "Training with learning rate 4e-05 and scheduler constant_schedule_with_warmup\n"
     ]
    },
    {
     "name": "stderr",
     "output_type": "stream",
     "text": [
      "Some weights of RobertaForSequenceClassification were not initialized from the model checkpoint at roberta-base and are newly initialized: ['classifier.dense.bias', 'classifier.dense.weight', 'classifier.out_proj.bias', 'classifier.out_proj.weight']\n",
      "You should probably TRAIN this model on a down-stream task to be able to use it for predictions and inference.\n"
     ]
    },
    {
     "data": {
      "application/vnd.jupyter.widget-view+json": {
       "model_id": "0fb26ae06f474273adb7a6369a29fc1c",
       "version_major": 2,
       "version_minor": 0
      },
      "text/plain": [
       "Epoch:   0%|          | 0/1 [00:00<?, ?it/s]"
      ]
     },
     "metadata": {},
     "output_type": "display_data"
    },
    {
     "data": {
      "application/vnd.jupyter.widget-view+json": {
       "model_id": "98239d2792264fb6a54a4a5c3589927d",
       "version_major": 2,
       "version_minor": 0
      },
      "text/plain": [
       "Running Epoch 1 of 1:   0%|          | 0/941 [00:00<?, ?it/s]"
      ]
     },
     "metadata": {},
     "output_type": "display_data"
    },
    {
     "data": {
      "application/vnd.jupyter.widget-view+json": {
       "model_id": "51301b7ff06d45a1b7d3caade8987303",
       "version_major": 2,
       "version_minor": 0
      },
      "text/plain": [
       "  0%|          | 0/210 [00:00<?, ?it/s]"
      ]
     },
     "metadata": {},
     "output_type": "display_data"
    },
    {
     "name": "stdout",
     "output_type": "stream",
     "text": [
      "Validation Set Metrics\n",
      "              precision    recall  f1-score   support\n",
      "\n",
      "           0     0.9003    1.0000    0.9475      1508\n",
      "           1     0.0000    0.0000    0.0000       167\n",
      "\n",
      "    accuracy                         0.9003      1675\n",
      "   macro avg     0.4501    0.5000    0.4738      1675\n",
      "weighted avg     0.8105    0.9003    0.8531      1675\n",
      "\n",
      "Training with learning rate 4e-05 and scheduler linear_schedule_with_warmup\n"
     ]
    },
    {
     "name": "stderr",
     "output_type": "stream",
     "text": [
      "/home/jonezia/NLP_CW/DontPatroniseMe/venv/lib/python3.10/site-packages/sklearn/metrics/_classification.py:1509: UndefinedMetricWarning: Precision is ill-defined and being set to 0.0 in labels with no predicted samples. Use `zero_division` parameter to control this behavior.\n",
      "  _warn_prf(average, modifier, f\"{metric.capitalize()} is\", len(result))\n",
      "/home/jonezia/NLP_CW/DontPatroniseMe/venv/lib/python3.10/site-packages/sklearn/metrics/_classification.py:1509: UndefinedMetricWarning: Precision is ill-defined and being set to 0.0 in labels with no predicted samples. Use `zero_division` parameter to control this behavior.\n",
      "  _warn_prf(average, modifier, f\"{metric.capitalize()} is\", len(result))\n",
      "/home/jonezia/NLP_CW/DontPatroniseMe/venv/lib/python3.10/site-packages/sklearn/metrics/_classification.py:1509: UndefinedMetricWarning: Precision is ill-defined and being set to 0.0 in labels with no predicted samples. Use `zero_division` parameter to control this behavior.\n",
      "  _warn_prf(average, modifier, f\"{metric.capitalize()} is\", len(result))\n",
      "/home/jonezia/NLP_CW/DontPatroniseMe/venv/lib/python3.10/site-packages/sklearn/metrics/_classification.py:1509: UndefinedMetricWarning: Precision is ill-defined and being set to 0.0 in labels with no predicted samples. Use `zero_division` parameter to control this behavior.\n",
      "  _warn_prf(average, modifier, f\"{metric.capitalize()} is\", len(result))\n",
      "Some weights of RobertaForSequenceClassification were not initialized from the model checkpoint at roberta-base and are newly initialized: ['classifier.dense.bias', 'classifier.dense.weight', 'classifier.out_proj.bias', 'classifier.out_proj.weight']\n",
      "You should probably TRAIN this model on a down-stream task to be able to use it for predictions and inference.\n"
     ]
    },
    {
     "data": {
      "application/vnd.jupyter.widget-view+json": {
       "model_id": "5d988ff1a6ba453ba2518663f5e98b09",
       "version_major": 2,
       "version_minor": 0
      },
      "text/plain": [
       "Epoch:   0%|          | 0/1 [00:00<?, ?it/s]"
      ]
     },
     "metadata": {},
     "output_type": "display_data"
    },
    {
     "data": {
      "application/vnd.jupyter.widget-view+json": {
       "model_id": "333d64387a1a4fedac370b4aaabb88cb",
       "version_major": 2,
       "version_minor": 0
      },
      "text/plain": [
       "Running Epoch 1 of 1:   0%|          | 0/941 [00:00<?, ?it/s]"
      ]
     },
     "metadata": {},
     "output_type": "display_data"
    },
    {
     "data": {
      "application/vnd.jupyter.widget-view+json": {
       "model_id": "a4cae9cba7504ef1aae303ae09779720",
       "version_major": 2,
       "version_minor": 0
      },
      "text/plain": [
       "  0%|          | 0/210 [00:00<?, ?it/s]"
      ]
     },
     "metadata": {},
     "output_type": "display_data"
    },
    {
     "name": "stdout",
     "output_type": "stream",
     "text": [
      "Validation Set Metrics\n",
      "              precision    recall  f1-score   support\n",
      "\n",
      "           0     0.9635    0.9111    0.9366      1508\n",
      "           1     0.4618    0.6886    0.5529       167\n",
      "\n",
      "    accuracy                         0.8890      1675\n",
      "   macro avg     0.7127    0.7999    0.7447      1675\n",
      "weighted avg     0.9135    0.8890    0.8983      1675\n",
      "\n",
      "Training with learning rate 4e-05 and scheduler cosine_schedule_with_warmup\n"
     ]
    },
    {
     "name": "stderr",
     "output_type": "stream",
     "text": [
      "Some weights of RobertaForSequenceClassification were not initialized from the model checkpoint at roberta-base and are newly initialized: ['classifier.dense.bias', 'classifier.dense.weight', 'classifier.out_proj.bias', 'classifier.out_proj.weight']\n",
      "You should probably TRAIN this model on a down-stream task to be able to use it for predictions and inference.\n"
     ]
    },
    {
     "data": {
      "application/vnd.jupyter.widget-view+json": {
       "model_id": "7a6310d259c348dca580deb1a04d72b1",
       "version_major": 2,
       "version_minor": 0
      },
      "text/plain": [
       "Epoch:   0%|          | 0/1 [00:00<?, ?it/s]"
      ]
     },
     "metadata": {},
     "output_type": "display_data"
    },
    {
     "data": {
      "application/vnd.jupyter.widget-view+json": {
       "model_id": "7ff04583e07544abb33631f2c2235de9",
       "version_major": 2,
       "version_minor": 0
      },
      "text/plain": [
       "Running Epoch 1 of 1:   0%|          | 0/941 [00:00<?, ?it/s]"
      ]
     },
     "metadata": {},
     "output_type": "display_data"
    },
    {
     "data": {
      "application/vnd.jupyter.widget-view+json": {
       "model_id": "3cad0aba5a1244ea96d391c96860cf9b",
       "version_major": 2,
       "version_minor": 0
      },
      "text/plain": [
       "  0%|          | 0/210 [00:00<?, ?it/s]"
      ]
     },
     "metadata": {},
     "output_type": "display_data"
    },
    {
     "name": "stdout",
     "output_type": "stream",
     "text": [
      "Validation Set Metrics\n",
      "              precision    recall  f1-score   support\n",
      "\n",
      "           0     0.9607    0.9085    0.9339      1508\n",
      "           1     0.4458    0.6647    0.5337       167\n",
      "\n",
      "    accuracy                         0.8842      1675\n",
      "   macro avg     0.7033    0.7866    0.7338      1675\n",
      "weighted avg     0.9094    0.8842    0.8940      1675\n",
      "\n",
      "Training with learning rate 0.0001 and scheduler constant_schedule\n"
     ]
    },
    {
     "name": "stderr",
     "output_type": "stream",
     "text": [
      "Some weights of RobertaForSequenceClassification were not initialized from the model checkpoint at roberta-base and are newly initialized: ['classifier.dense.bias', 'classifier.dense.weight', 'classifier.out_proj.bias', 'classifier.out_proj.weight']\n",
      "You should probably TRAIN this model on a down-stream task to be able to use it for predictions and inference.\n"
     ]
    },
    {
     "data": {
      "application/vnd.jupyter.widget-view+json": {
       "model_id": "dcd08c2447fb40c182b884132927aac7",
       "version_major": 2,
       "version_minor": 0
      },
      "text/plain": [
       "Epoch:   0%|          | 0/1 [00:00<?, ?it/s]"
      ]
     },
     "metadata": {},
     "output_type": "display_data"
    },
    {
     "data": {
      "application/vnd.jupyter.widget-view+json": {
       "model_id": "e2a2e8db88d44d34a16bfbbdd4546c4b",
       "version_major": 2,
       "version_minor": 0
      },
      "text/plain": [
       "Running Epoch 1 of 1:   0%|          | 0/941 [00:00<?, ?it/s]"
      ]
     },
     "metadata": {},
     "output_type": "display_data"
    },
    {
     "data": {
      "application/vnd.jupyter.widget-view+json": {
       "model_id": "7066e7deff224aa1981eec456704e75f",
       "version_major": 2,
       "version_minor": 0
      },
      "text/plain": [
       "  0%|          | 0/210 [00:00<?, ?it/s]"
      ]
     },
     "metadata": {},
     "output_type": "display_data"
    },
    {
     "name": "stdout",
     "output_type": "stream",
     "text": [
      "Validation Set Metrics\n",
      "              precision    recall  f1-score   support\n",
      "\n",
      "           0     0.9003    1.0000    0.9475      1508\n",
      "           1     0.0000    0.0000    0.0000       167\n",
      "\n",
      "    accuracy                         0.9003      1675\n",
      "   macro avg     0.4501    0.5000    0.4738      1675\n",
      "weighted avg     0.8105    0.9003    0.8531      1675\n",
      "\n",
      "Training with learning rate 0.0001 and scheduler constant_schedule_with_warmup\n"
     ]
    },
    {
     "name": "stderr",
     "output_type": "stream",
     "text": [
      "/home/jonezia/NLP_CW/DontPatroniseMe/venv/lib/python3.10/site-packages/sklearn/metrics/_classification.py:1509: UndefinedMetricWarning: Precision is ill-defined and being set to 0.0 in labels with no predicted samples. Use `zero_division` parameter to control this behavior.\n",
      "  _warn_prf(average, modifier, f\"{metric.capitalize()} is\", len(result))\n",
      "/home/jonezia/NLP_CW/DontPatroniseMe/venv/lib/python3.10/site-packages/sklearn/metrics/_classification.py:1509: UndefinedMetricWarning: Precision is ill-defined and being set to 0.0 in labels with no predicted samples. Use `zero_division` parameter to control this behavior.\n",
      "  _warn_prf(average, modifier, f\"{metric.capitalize()} is\", len(result))\n",
      "/home/jonezia/NLP_CW/DontPatroniseMe/venv/lib/python3.10/site-packages/sklearn/metrics/_classification.py:1509: UndefinedMetricWarning: Precision is ill-defined and being set to 0.0 in labels with no predicted samples. Use `zero_division` parameter to control this behavior.\n",
      "  _warn_prf(average, modifier, f\"{metric.capitalize()} is\", len(result))\n",
      "/home/jonezia/NLP_CW/DontPatroniseMe/venv/lib/python3.10/site-packages/sklearn/metrics/_classification.py:1509: UndefinedMetricWarning: Precision is ill-defined and being set to 0.0 in labels with no predicted samples. Use `zero_division` parameter to control this behavior.\n",
      "  _warn_prf(average, modifier, f\"{metric.capitalize()} is\", len(result))\n",
      "Some weights of RobertaForSequenceClassification were not initialized from the model checkpoint at roberta-base and are newly initialized: ['classifier.dense.bias', 'classifier.dense.weight', 'classifier.out_proj.bias', 'classifier.out_proj.weight']\n",
      "You should probably TRAIN this model on a down-stream task to be able to use it for predictions and inference.\n"
     ]
    },
    {
     "data": {
      "application/vnd.jupyter.widget-view+json": {
       "model_id": "ba30951fd13847d28cb4ebc565568770",
       "version_major": 2,
       "version_minor": 0
      },
      "text/plain": [
       "Epoch:   0%|          | 0/1 [00:00<?, ?it/s]"
      ]
     },
     "metadata": {},
     "output_type": "display_data"
    },
    {
     "data": {
      "application/vnd.jupyter.widget-view+json": {
       "model_id": "b38357deea8f4cbca4ddc7256e780b36",
       "version_major": 2,
       "version_minor": 0
      },
      "text/plain": [
       "Running Epoch 1 of 1:   0%|          | 0/941 [00:00<?, ?it/s]"
      ]
     },
     "metadata": {},
     "output_type": "display_data"
    },
    {
     "data": {
      "application/vnd.jupyter.widget-view+json": {
       "model_id": "af7f93676fb546e4ac846ecae8fb63eb",
       "version_major": 2,
       "version_minor": 0
      },
      "text/plain": [
       "  0%|          | 0/210 [00:00<?, ?it/s]"
      ]
     },
     "metadata": {},
     "output_type": "display_data"
    },
    {
     "name": "stdout",
     "output_type": "stream",
     "text": [
      "Validation Set Metrics\n",
      "              precision    recall  f1-score   support\n",
      "\n",
      "           0     0.9003    1.0000    0.9475      1508\n",
      "           1     0.0000    0.0000    0.0000       167\n",
      "\n",
      "    accuracy                         0.9003      1675\n",
      "   macro avg     0.4501    0.5000    0.4738      1675\n",
      "weighted avg     0.8105    0.9003    0.8531      1675\n",
      "\n",
      "Training with learning rate 0.0001 and scheduler linear_schedule_with_warmup\n"
     ]
    },
    {
     "name": "stderr",
     "output_type": "stream",
     "text": [
      "/home/jonezia/NLP_CW/DontPatroniseMe/venv/lib/python3.10/site-packages/sklearn/metrics/_classification.py:1509: UndefinedMetricWarning: Precision is ill-defined and being set to 0.0 in labels with no predicted samples. Use `zero_division` parameter to control this behavior.\n",
      "  _warn_prf(average, modifier, f\"{metric.capitalize()} is\", len(result))\n",
      "/home/jonezia/NLP_CW/DontPatroniseMe/venv/lib/python3.10/site-packages/sklearn/metrics/_classification.py:1509: UndefinedMetricWarning: Precision is ill-defined and being set to 0.0 in labels with no predicted samples. Use `zero_division` parameter to control this behavior.\n",
      "  _warn_prf(average, modifier, f\"{metric.capitalize()} is\", len(result))\n",
      "/home/jonezia/NLP_CW/DontPatroniseMe/venv/lib/python3.10/site-packages/sklearn/metrics/_classification.py:1509: UndefinedMetricWarning: Precision is ill-defined and being set to 0.0 in labels with no predicted samples. Use `zero_division` parameter to control this behavior.\n",
      "  _warn_prf(average, modifier, f\"{metric.capitalize()} is\", len(result))\n",
      "/home/jonezia/NLP_CW/DontPatroniseMe/venv/lib/python3.10/site-packages/sklearn/metrics/_classification.py:1509: UndefinedMetricWarning: Precision is ill-defined and being set to 0.0 in labels with no predicted samples. Use `zero_division` parameter to control this behavior.\n",
      "  _warn_prf(average, modifier, f\"{metric.capitalize()} is\", len(result))\n",
      "Some weights of RobertaForSequenceClassification were not initialized from the model checkpoint at roberta-base and are newly initialized: ['classifier.dense.bias', 'classifier.dense.weight', 'classifier.out_proj.bias', 'classifier.out_proj.weight']\n",
      "You should probably TRAIN this model on a down-stream task to be able to use it for predictions and inference.\n"
     ]
    },
    {
     "data": {
      "application/vnd.jupyter.widget-view+json": {
       "model_id": "975866d64a0f47e0a77cae50433c5130",
       "version_major": 2,
       "version_minor": 0
      },
      "text/plain": [
       "Epoch:   0%|          | 0/1 [00:00<?, ?it/s]"
      ]
     },
     "metadata": {},
     "output_type": "display_data"
    },
    {
     "data": {
      "application/vnd.jupyter.widget-view+json": {
       "model_id": "8cc365867c3346e6b5479e7bf9b524dd",
       "version_major": 2,
       "version_minor": 0
      },
      "text/plain": [
       "Running Epoch 1 of 1:   0%|          | 0/941 [00:00<?, ?it/s]"
      ]
     },
     "metadata": {},
     "output_type": "display_data"
    },
    {
     "data": {
      "application/vnd.jupyter.widget-view+json": {
       "model_id": "69ee197a09d44481b436d5dd9777c7fa",
       "version_major": 2,
       "version_minor": 0
      },
      "text/plain": [
       "  0%|          | 0/210 [00:00<?, ?it/s]"
      ]
     },
     "metadata": {},
     "output_type": "display_data"
    },
    {
     "name": "stdout",
     "output_type": "stream",
     "text": [
      "Validation Set Metrics\n",
      "              precision    recall  f1-score   support\n",
      "\n",
      "           0     0.9003    1.0000    0.9475      1508\n",
      "           1     0.0000    0.0000    0.0000       167\n",
      "\n",
      "    accuracy                         0.9003      1675\n",
      "   macro avg     0.4501    0.5000    0.4738      1675\n",
      "weighted avg     0.8105    0.9003    0.8531      1675\n",
      "\n",
      "Training with learning rate 0.0001 and scheduler cosine_schedule_with_warmup\n"
     ]
    },
    {
     "name": "stderr",
     "output_type": "stream",
     "text": [
      "/home/jonezia/NLP_CW/DontPatroniseMe/venv/lib/python3.10/site-packages/sklearn/metrics/_classification.py:1509: UndefinedMetricWarning: Precision is ill-defined and being set to 0.0 in labels with no predicted samples. Use `zero_division` parameter to control this behavior.\n",
      "  _warn_prf(average, modifier, f\"{metric.capitalize()} is\", len(result))\n",
      "/home/jonezia/NLP_CW/DontPatroniseMe/venv/lib/python3.10/site-packages/sklearn/metrics/_classification.py:1509: UndefinedMetricWarning: Precision is ill-defined and being set to 0.0 in labels with no predicted samples. Use `zero_division` parameter to control this behavior.\n",
      "  _warn_prf(average, modifier, f\"{metric.capitalize()} is\", len(result))\n",
      "/home/jonezia/NLP_CW/DontPatroniseMe/venv/lib/python3.10/site-packages/sklearn/metrics/_classification.py:1509: UndefinedMetricWarning: Precision is ill-defined and being set to 0.0 in labels with no predicted samples. Use `zero_division` parameter to control this behavior.\n",
      "  _warn_prf(average, modifier, f\"{metric.capitalize()} is\", len(result))\n",
      "/home/jonezia/NLP_CW/DontPatroniseMe/venv/lib/python3.10/site-packages/sklearn/metrics/_classification.py:1509: UndefinedMetricWarning: Precision is ill-defined and being set to 0.0 in labels with no predicted samples. Use `zero_division` parameter to control this behavior.\n",
      "  _warn_prf(average, modifier, f\"{metric.capitalize()} is\", len(result))\n",
      "Some weights of RobertaForSequenceClassification were not initialized from the model checkpoint at roberta-base and are newly initialized: ['classifier.dense.bias', 'classifier.dense.weight', 'classifier.out_proj.bias', 'classifier.out_proj.weight']\n",
      "You should probably TRAIN this model on a down-stream task to be able to use it for predictions and inference.\n"
     ]
    },
    {
     "data": {
      "application/vnd.jupyter.widget-view+json": {
       "model_id": "80b2548e891c4d488577f9cafa1c6085",
       "version_major": 2,
       "version_minor": 0
      },
      "text/plain": [
       "Epoch:   0%|          | 0/1 [00:00<?, ?it/s]"
      ]
     },
     "metadata": {},
     "output_type": "display_data"
    },
    {
     "data": {
      "application/vnd.jupyter.widget-view+json": {
       "model_id": "fc9090dfcaae430fb23d8b64c10de312",
       "version_major": 2,
       "version_minor": 0
      },
      "text/plain": [
       "Running Epoch 1 of 1:   0%|          | 0/941 [00:00<?, ?it/s]"
      ]
     },
     "metadata": {},
     "output_type": "display_data"
    },
    {
     "data": {
      "application/vnd.jupyter.widget-view+json": {
       "model_id": "72515f5ac2c547da8c74d83b2b35f9e9",
       "version_major": 2,
       "version_minor": 0
      },
      "text/plain": [
       "  0%|          | 0/210 [00:00<?, ?it/s]"
      ]
     },
     "metadata": {},
     "output_type": "display_data"
    },
    {
     "name": "stdout",
     "output_type": "stream",
     "text": [
      "Validation Set Metrics\n",
      "              precision    recall  f1-score   support\n",
      "\n",
      "           0     0.9003    1.0000    0.9475      1508\n",
      "           1     0.0000    0.0000    0.0000       167\n",
      "\n",
      "    accuracy                         0.9003      1675\n",
      "   macro avg     0.4501    0.5000    0.4738      1675\n",
      "weighted avg     0.8105    0.9003    0.8531      1675\n",
      "\n"
     ]
    },
    {
     "name": "stderr",
     "output_type": "stream",
     "text": [
      "/home/jonezia/NLP_CW/DontPatroniseMe/venv/lib/python3.10/site-packages/sklearn/metrics/_classification.py:1509: UndefinedMetricWarning: Precision is ill-defined and being set to 0.0 in labels with no predicted samples. Use `zero_division` parameter to control this behavior.\n",
      "  _warn_prf(average, modifier, f\"{metric.capitalize()} is\", len(result))\n",
      "/home/jonezia/NLP_CW/DontPatroniseMe/venv/lib/python3.10/site-packages/sklearn/metrics/_classification.py:1509: UndefinedMetricWarning: Precision is ill-defined and being set to 0.0 in labels with no predicted samples. Use `zero_division` parameter to control this behavior.\n",
      "  _warn_prf(average, modifier, f\"{metric.capitalize()} is\", len(result))\n",
      "/home/jonezia/NLP_CW/DontPatroniseMe/venv/lib/python3.10/site-packages/sklearn/metrics/_classification.py:1509: UndefinedMetricWarning: Precision is ill-defined and being set to 0.0 in labels with no predicted samples. Use `zero_division` parameter to control this behavior.\n",
      "  _warn_prf(average, modifier, f\"{metric.capitalize()} is\", len(result))\n",
      "/home/jonezia/NLP_CW/DontPatroniseMe/venv/lib/python3.10/site-packages/sklearn/metrics/_classification.py:1509: UndefinedMetricWarning: Precision is ill-defined and being set to 0.0 in labels with no predicted samples. Use `zero_division` parameter to control this behavior.\n",
      "  _warn_prf(average, modifier, f\"{metric.capitalize()} is\", len(result))\n"
     ]
    }
   ],
   "source": [
    "hyperparam_tuning_results = {}\n",
    "for learning_rate in [1e-5, 4e-5, 1e-4]:\n",
    "    for scheduler in [\"constant_schedule\", \"constant_schedule_with_warmup\", \"linear_schedule_with_warmup\", \"cosine_schedule_with_warmup\"]:\n",
    "        print(f\"Training with learning rate {learning_rate} and scheduler {scheduler}\")\n",
    "        hyperparam_tuning_results[f\"lr={learning_rate} scheduler={scheduler}\"] = train_model(train_data_updownsampled, val_data, learning_rate=learning_rate, scheduler=scheduler)"
   ]
  },
  {
   "cell_type": "code",
   "execution_count": 63,
   "id": "83543fcc-808a-427e-8f01-9ae4db97fa4e",
   "metadata": {},
   "outputs": [
    {
     "name": "stdout",
     "output_type": "stream",
     "text": [
      "{'lr=1e-05 scheduler=constant_schedule': 0.5192307692307693, 'lr=1e-05 scheduler=constant_schedule_with_warmup': 0.5149051490514905, 'lr=1e-05 scheduler=linear_schedule_with_warmup': 0.5364705882352941, 'lr=1e-05 scheduler=cosine_schedule_with_warmup': 0.5437352245862884, 'lr=4e-05 scheduler=constant_schedule': 0.5, 'lr=4e-05 scheduler=constant_schedule_with_warmup': 0.0, 'lr=4e-05 scheduler=linear_schedule_with_warmup': 0.5528846153846154, 'lr=4e-05 scheduler=cosine_schedule_with_warmup': 0.5336538461538461, 'lr=0.0001 scheduler=constant_schedule': 0.0, 'lr=0.0001 scheduler=constant_schedule_with_warmup': 0.0, 'lr=0.0001 scheduler=linear_schedule_with_warmup': 0.0, 'lr=0.0001 scheduler=cosine_schedule_with_warmup': 0.0}\n"
     ]
    }
   ],
   "source": [
    "print(hyperparam_tuning_results)"
   ]
  },
  {
   "cell_type": "code",
   "execution_count": 64,
   "id": "76039f49-e882-43b2-b7a5-3b6d2c585d24",
   "metadata": {},
   "outputs": [
    {
     "data": {
      "image/png": "[encoded data removed]",
      "text/plain": [
       "<Figure size 1000x700 with 1 Axes>"
      ]
     },
     "metadata": {},
     "output_type": "display_data"
    }
   ],
   "source": [
    "keys = list(hyperparam_tuning_results.keys())\n",
    "values = list(hyperparam_tuning_results.values())\n",
    "\n",
    "plt.figure(figsize=(10, 7))\n",
    "plt.bar(keys, values)\n",
    "\n",
    "plt.xlabel('Hyperparam Setting', fontsize=14)\n",
    "plt.ylabel('Label 1 F1 Score', fontsize=14)\n",
    "plt.title('Label 1 F1 Scores for Different Hyperparam Settings', fontsize=15)\n",
    "plt.xticks(rotation=45, ha='right', fontsize=12)\n",
    "plt.tight_layout()\n",
    "plt.show()\n",
    "\n",
    "# Show the plot\n",
    "plt.show()"
   ]
  },
  {
   "cell_type": "markdown",
   "id": "ffd7d256-f580-40f3-8717-d9cedff2167e",
   "metadata": {},
   "source": [
    "## BoW Model for Comparison"
   ]
  },
  {
   "cell_type": "markdown",
   "id": "ab5760eb-2d32-4d7e-8862-a7c19d3d3e3f",
   "metadata": {},
   "source": [
    "We will train a simple bag of words model for comparison purposes."
   ]
  },
  {
   "cell_type": "code",
   "execution_count": 38,
   "id": "5eae516f-5d69-4ad9-9395-9381f74640dc",
   "metadata": {},
   "outputs": [
    {
     "name": "stdout",
     "output_type": "stream",
     "text": [
      "              precision    recall  f1-score   support\n",
      "\n",
      "           0     0.9240    0.9589    0.9411      1508\n",
      "           1     0.4364    0.2874    0.3466       167\n",
      "\n",
      "    accuracy                         0.8919      1675\n",
      "   macro avg     0.6802    0.6232    0.6438      1675\n",
      "weighted avg     0.8753    0.8919    0.8818      1675\n",
      "\n",
      "0.34657039711191334\n"
     ]
    }
   ],
   "source": [
    "from sklearn.feature_extraction.text import CountVectorizer\n",
    "from sklearn.linear_model import LogisticRegression\n",
    "\n",
    "train_text = train_data_updownsampled['text'].tolist()\n",
    "train_labels = train_data_updownsampled['labels'].astype(int)\n",
    "val_text = val_data['text'].tolist()\n",
    "val_labels = val_data['labels'].astype(int) \n",
    "\n",
    "# Generate BoW representation\n",
    "vectorizer = CountVectorizer()\n",
    "X_train = vectorizer.fit_transform(train_text)\n",
    "X_val = vectorizer.transform(val_text)\n",
    "\n",
    "# Train logistic regression model\n",
    "clf = LogisticRegression()\n",
    "clf.fit(X_train, train_labels)\n",
    "\n",
    "# Generate predictions\n",
    "val_predictions = clf.predict(X_val)\n",
    "print(classification_report(val_labels, val_predictions, digits=4))\n",
    "precision, recall, f1_score, support = precision_recall_fscore_support(val_labels, val_predictions)\n",
    "print(f1_score[1])"
   ]
  },
  {
   "cell_type": "markdown",
   "id": "bde907ef-49fc-4e47-baa0-3854cac302ee",
   "metadata": {},
   "source": [
    "## Final Model"
   ]
  },
  {
   "cell_type": "code",
   "execution_count": 21,
   "id": "6767b796-1250-437d-a7b8-4267b96c6961",
   "metadata": {},
   "outputs": [
    {
     "name": "stderr",
     "output_type": "stream",
     "text": [
      "Some weights of RobertaForSequenceClassification were not initialized from the model checkpoint at roberta-base and are newly initialized: ['classifier.dense.bias', 'classifier.dense.weight', 'classifier.out_proj.bias', 'classifier.out_proj.weight']\n",
      "You should probably TRAIN this model on a down-stream task to be able to use it for predictions and inference.\n"
     ]
    },
    {
     "data": {
      "application/vnd.jupyter.widget-view+json": {
       "model_id": "ec5b537103a24045bf6c3f7bd9fe3214",
       "version_major": 2,
       "version_minor": 0
      },
      "text/plain": [
       "Epoch:   0%|          | 0/1 [00:00<?, ?it/s]"
      ]
     },
     "metadata": {},
     "output_type": "display_data"
    },
    {
     "data": {
      "application/vnd.jupyter.widget-view+json": {
       "model_id": "d200bcb8d59644459632c2f86db77e67",
       "version_major": 2,
       "version_minor": 0
      },
      "text/plain": [
       "Running Epoch 1 of 1:   0%|          | 0/941 [00:00<?, ?it/s]"
      ]
     },
     "metadata": {},
     "output_type": "display_data"
    }
   ],
   "source": [
    "# Train Final Model with ideal sampling and hyperparameters\n",
    "learning_rate = 4e-05\n",
    "scheduler = \"linear_schedule_with_warmup\"\n",
    "model_type = \"roberta\"\n",
    "model_name = \"roberta-base\"\n",
    "optimizer = \"AdamW\"\n",
    "num_epoch = 1\n",
    "\n",
    "model_args = ClassificationArgs(num_train_epochs=num_epoch, \n",
    "                                no_save=True, \n",
    "                                no_cache=True, \n",
    "                                overwrite_output_dir=True,\n",
    "                                use_multiprocessing=False,\n",
    "                                use_multiprocessing_for_evaluation=False,\n",
    "                                train_batch_size=8,\n",
    "                                eval_batch_size=8,\n",
    "                                learning_rate=learning_rate,\n",
    "                                scheduler=scheduler,\n",
    "                                optimizer=optimizer)\n",
    "model = ClassificationModel(model_type,\n",
    "                            model_name, \n",
    "                            args = model_args, \n",
    "                            num_labels=2, \n",
    "                            use_cuda=cuda_available)\n",
    "# train model\n",
    "final_model = model.train_model(train_data_updownsampled[['text', 'labels']])"
   ]
  },
  {
   "cell_type": "markdown",
   "id": "8daafa78-3379-49b7-8578-65d6e473cb1b",
   "metadata": {},
   "source": [
    "Results on validation data"
   ]
  },
  {
   "cell_type": "code",
   "execution_count": 22,
   "id": "bdea83b4-f210-428e-9c35-a1c3fc4a843f",
   "metadata": {},
   "outputs": [
    {
     "data": {
      "application/vnd.jupyter.widget-view+json": {
       "model_id": "03c8e5c9fe9440f7b6dbdf37cb5be587",
       "version_major": 2,
       "version_minor": 0
      },
      "text/plain": [
       "  0%|          | 0/210 [00:00<?, ?it/s]"
      ]
     },
     "metadata": {},
     "output_type": "display_data"
    },
    {
     "name": "stdout",
     "output_type": "stream",
     "text": [
      "Validation Set Metrics\n",
      "              precision    recall  f1-score   support\n",
      "\n",
      "           0     0.9437    0.9443    0.9440      1508\n",
      "           1     0.4940    0.4910    0.4925       167\n",
      "\n",
      "    accuracy                         0.8991      1675\n",
      "   macro avg     0.7188    0.7177    0.7182      1675\n",
      "weighted avg     0.8988    0.8991    0.8990      1675\n",
      "\n",
      "0.4924924924924925\n"
     ]
    }
   ],
   "source": [
    "y_pred, _ = model.predict(val_data.text.tolist())\n",
    "y_true = val_data['labels']\n",
    "print(\"Validation Set Metrics\")\n",
    "print(classification_report(y_true, y_pred, digits=4))\n",
    "precision, recall, f1_score, support = precision_recall_fscore_support(y_true, y_pred)\n",
    "print(f1_score[1])"
   ]
  },
  {
   "cell_type": "markdown",
   "id": "5b4d5d0b-c620-4a8c-8ceb-cdb51415b689",
   "metadata": {},
   "source": [
    "Results on test data (official validation data)"
   ]
  },
  {
   "cell_type": "code",
   "execution_count": 23,
   "id": "fefe4ca2-238f-45f8-8b47-16af9d164082",
   "metadata": {},
   "outputs": [],
   "source": [
    "def labels2file(p, outf_path):\n",
    "\twith open(outf_path,'w') as outf:\n",
    "\t\tfor pi in p:\n",
    "\t\t\toutf.write(','.join([str(k) for k in pi])+'\\n')"
   ]
  },
  {
   "cell_type": "code",
   "execution_count": 24,
   "id": "6aab90f5-917b-468f-989e-8ac884459313",
   "metadata": {},
   "outputs": [
    {
     "data": {
      "application/vnd.jupyter.widget-view+json": {
       "model_id": "610f171bb62b4950951a7fd56b7eb4dd",
       "version_major": 2,
       "version_minor": 0
      },
      "text/plain": [
       "  0%|          | 0/262 [00:00<?, ?it/s]"
      ]
     },
     "metadata": {},
     "output_type": "display_data"
    },
    {
     "name": "stdout",
     "output_type": "stream",
     "text": [
      "Test Set (Official Validation Set) Metrics\n",
      "              precision    recall  f1-score   support\n",
      "\n",
      "           0     0.9544    0.9499    0.9521      1895\n",
      "           1     0.5433    0.5678    0.5553       199\n",
      "\n",
      "    accuracy                         0.9136      2094\n",
      "   macro avg     0.7488    0.7589    0.7537      2094\n",
      "weighted avg     0.9153    0.9136    0.9144      2094\n",
      "\n",
      "0.5552825552825553\n"
     ]
    }
   ],
   "source": [
    "y_pred, _ = model.predict(test_data.text.tolist())\n",
    "y_true = test_data['labels']\n",
    "print(\"Test Set (Official Validation Set) Metrics\")\n",
    "print(classification_report(y_true, y_pred, digits=4))\n",
    "precision, recall, f1_score, support = precision_recall_fscore_support(y_true, y_pred)\n",
    "print(f1_score[1])\n",
    "labels2file([[k] for k in y_pred], 'dev.txt')"
   ]
  },
  {
   "cell_type": "markdown",
   "id": "d99a9cf6-50a1-4d93-bacf-743d5f549e01",
   "metadata": {},
   "source": [
    "Results on official test data"
   ]
  },
  {
   "cell_type": "code",
   "execution_count": 25,
   "id": "48432acf-149e-4c4f-b1ff-6e73610a8229",
   "metadata": {},
   "outputs": [
    {
     "data": {
      "application/vnd.jupyter.widget-view+json": {
       "model_id": "1fc61c550289499682717c431a707413",
       "version_major": 2,
       "version_minor": 0
      },
      "text/plain": [
       "  0%|          | 0/479 [00:00<?, ?it/s]"
      ]
     },
     "metadata": {},
     "output_type": "display_data"
    }
   ],
   "source": [
    "official_test_data = load_test_data(test_path)\n",
    "y_pred, _ = model.predict(official_test_data.text.tolist())\n",
    "labels2file([[k] for k in y_pred], 'test.txt')"
   ]
  },
  {
   "cell_type": "markdown",
   "id": "8a2e9944-3258-4d8e-8f99-913a31831bd8",
   "metadata": {},
   "source": [
    "## Analysis"
   ]
  },
  {
   "cell_type": "markdown",
   "id": "98312be5-ffc9-4a2b-9172-c8a6a640f08f",
   "metadata": {},
   "source": [
    "To what extent is the model better at predicting examples with a higher level of patronising content? Justify your answer."
   ]
  },
  {
   "cell_type": "code",
   "execution_count": null,
   "id": "f5ff3c87-5bd8-4112-995e-9e2aa03d6bed",
   "metadata": {},
   "outputs": [],
   "source": []
  },
  {
   "cell_type": "markdown",
   "id": "fc580dd6-4fe1-468f-9df0-002974cf9ad6",
   "metadata": {},
   "source": [
    "How does the length of the input sequence impact the model performance? If there is any difference, speculate why."
   ]
  },
  {
   "cell_type": "markdown",
   "id": "7f333ac3-b2a7-4f47-992e-ba02ba7d651e",
   "metadata": {},
   "source": [
    "To what extent does model performance depend on the data categories? E.g. Observations for homeless vs poor-families, etc."
   ]
  }
 ],
 "metadata": {
  "kernelspec": {
   "display_name": "Python 3 (ipykernel)",
   "language": "python",
   "name": "python3"
  },
  "language_info": {
   "codemirror_mode": {
    "name": "ipython",
    "version": 3
   },
   "file_extension": ".py",
   "mimetype": "text/x-python",
   "name": "python",
   "nbconvert_exporter": "python",
   "pygments_lexer": "ipython3",
   "version": "3.10.12"
  }
 },
 "nbformat": 4,
 "nbformat_minor": 5
}
